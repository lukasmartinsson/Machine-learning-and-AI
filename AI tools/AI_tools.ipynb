{
  "nbformat": 4,
  "nbformat_minor": 0,
  "metadata": {
    "colab": {
      "name": "AI tools.ipynb",
      "provenance": []
    },
    "kernelspec": {
      "name": "python3",
      "display_name": "Python 3"
    },
    "language_info": {
      "name": "python"
    }
  },
  "cells": [
    {
      "cell_type": "code",
      "execution_count": null,
      "metadata": {
        "id": "WoTrhB1G8VCf"
      },
      "outputs": [],
      "source": [
        "import pandas as pd\n",
        "import numpy as np\n",
        "from sklearn.model_selection import train_test_split\n",
        "import matplotlib.pyplot as plt\n",
        "from sklearn.metrics import precision_recall_fscore_support, accuracy_score\n",
        "from sklearn.preprocessing import StandardScaler"
      ]
    },
    {
      "cell_type": "code",
      "source": [
        "# Read train data cities\n",
        "beijing = pd.read_csv('Beijing_labeled.csv')\n",
        "shenyang = pd.read_csv('Shenyang_labeled.csv')\n",
        "# Merge into one dataframe\n",
        "data = pd.concat([beijing, shenyang])\n",
        "print(data.shape)\n",
        "data.head()"
      ],
      "metadata": {
        "colab": {
          "base_uri": "https://localhost:8080/",
          "height": 221
        },
        "id": "iy8DWOLU_Ebl",
        "outputId": "50758dae-b880-4860-e28e-48ce3a719dc2"
      },
      "execution_count": null,
      "outputs": [
        {
          "output_type": "stream",
          "name": "stdout",
          "text": [
            "(2895, 11)\n"
          ]
        },
        {
          "output_type": "execute_result",
          "data": {
            "text/html": [
              "\n",
              "  <div id=\"df-68d2f913-41b4-4e02-97b3-a5cb133b0e52\">\n",
              "    <div class=\"colab-df-container\">\n",
              "      <div>\n",
              "<style scoped>\n",
              "    .dataframe tbody tr th:only-of-type {\n",
              "        vertical-align: middle;\n",
              "    }\n",
              "\n",
              "    .dataframe tbody tr th {\n",
              "        vertical-align: top;\n",
              "    }\n",
              "\n",
              "    .dataframe thead th {\n",
              "        text-align: right;\n",
              "    }\n",
              "</style>\n",
              "<table border=\"1\" class=\"dataframe\">\n",
              "  <thead>\n",
              "    <tr style=\"text-align: right;\">\n",
              "      <th></th>\n",
              "      <th>season</th>\n",
              "      <th>DEWP</th>\n",
              "      <th>HUMI</th>\n",
              "      <th>PRES</th>\n",
              "      <th>TEMP</th>\n",
              "      <th>Iws</th>\n",
              "      <th>precipitation</th>\n",
              "      <th>cbwd_NE</th>\n",
              "      <th>cbwd_NW</th>\n",
              "      <th>cbwd_SE</th>\n",
              "      <th>PM_HIGH</th>\n",
              "    </tr>\n",
              "  </thead>\n",
              "  <tbody>\n",
              "    <tr>\n",
              "      <th>0</th>\n",
              "      <td>4</td>\n",
              "      <td>-8.0</td>\n",
              "      <td>79.0</td>\n",
              "      <td>1026.0</td>\n",
              "      <td>-5.0</td>\n",
              "      <td>23.69</td>\n",
              "      <td>0.0</td>\n",
              "      <td>0</td>\n",
              "      <td>0</td>\n",
              "      <td>1</td>\n",
              "      <td>1.0</td>\n",
              "    </tr>\n",
              "    <tr>\n",
              "      <th>1</th>\n",
              "      <td>4</td>\n",
              "      <td>-11.0</td>\n",
              "      <td>85.0</td>\n",
              "      <td>1021.0</td>\n",
              "      <td>-9.0</td>\n",
              "      <td>105.93</td>\n",
              "      <td>1.1</td>\n",
              "      <td>0</td>\n",
              "      <td>0</td>\n",
              "      <td>1</td>\n",
              "      <td>0.0</td>\n",
              "    </tr>\n",
              "    <tr>\n",
              "      <th>2</th>\n",
              "      <td>4</td>\n",
              "      <td>-21.0</td>\n",
              "      <td>43.0</td>\n",
              "      <td>1030.0</td>\n",
              "      <td>-11.0</td>\n",
              "      <td>117.55</td>\n",
              "      <td>0.0</td>\n",
              "      <td>0</td>\n",
              "      <td>1</td>\n",
              "      <td>0</td>\n",
              "      <td>0.0</td>\n",
              "    </tr>\n",
              "    <tr>\n",
              "      <th>3</th>\n",
              "      <td>4</td>\n",
              "      <td>-25.0</td>\n",
              "      <td>33.0</td>\n",
              "      <td>1034.0</td>\n",
              "      <td>-12.0</td>\n",
              "      <td>39.35</td>\n",
              "      <td>0.0</td>\n",
              "      <td>1</td>\n",
              "      <td>0</td>\n",
              "      <td>0</td>\n",
              "      <td>0.0</td>\n",
              "    </tr>\n",
              "    <tr>\n",
              "      <th>4</th>\n",
              "      <td>4</td>\n",
              "      <td>-24.0</td>\n",
              "      <td>30.0</td>\n",
              "      <td>1034.0</td>\n",
              "      <td>-10.0</td>\n",
              "      <td>59.00</td>\n",
              "      <td>0.0</td>\n",
              "      <td>1</td>\n",
              "      <td>0</td>\n",
              "      <td>0</td>\n",
              "      <td>0.0</td>\n",
              "    </tr>\n",
              "  </tbody>\n",
              "</table>\n",
              "</div>\n",
              "      <button class=\"colab-df-convert\" onclick=\"convertToInteractive('df-68d2f913-41b4-4e02-97b3-a5cb133b0e52')\"\n",
              "              title=\"Convert this dataframe to an interactive table.\"\n",
              "              style=\"display:none;\">\n",
              "        \n",
              "  <svg xmlns=\"http://www.w3.org/2000/svg\" height=\"24px\"viewBox=\"0 0 24 24\"\n",
              "       width=\"24px\">\n",
              "    <path d=\"M0 0h24v24H0V0z\" fill=\"none\"/>\n",
              "    <path d=\"M18.56 5.44l.94 2.06.94-2.06 2.06-.94-2.06-.94-.94-2.06-.94 2.06-2.06.94zm-11 1L8.5 8.5l.94-2.06 2.06-.94-2.06-.94L8.5 2.5l-.94 2.06-2.06.94zm10 10l.94 2.06.94-2.06 2.06-.94-2.06-.94-.94-2.06-.94 2.06-2.06.94z\"/><path d=\"M17.41 7.96l-1.37-1.37c-.4-.4-.92-.59-1.43-.59-.52 0-1.04.2-1.43.59L10.3 9.45l-7.72 7.72c-.78.78-.78 2.05 0 2.83L4 21.41c.39.39.9.59 1.41.59.51 0 1.02-.2 1.41-.59l7.78-7.78 2.81-2.81c.8-.78.8-2.07 0-2.86zM5.41 20L4 18.59l7.72-7.72 1.47 1.35L5.41 20z\"/>\n",
              "  </svg>\n",
              "      </button>\n",
              "      \n",
              "  <style>\n",
              "    .colab-df-container {\n",
              "      display:flex;\n",
              "      flex-wrap:wrap;\n",
              "      gap: 12px;\n",
              "    }\n",
              "\n",
              "    .colab-df-convert {\n",
              "      background-color: #E8F0FE;\n",
              "      border: none;\n",
              "      border-radius: 50%;\n",
              "      cursor: pointer;\n",
              "      display: none;\n",
              "      fill: #1967D2;\n",
              "      height: 32px;\n",
              "      padding: 0 0 0 0;\n",
              "      width: 32px;\n",
              "    }\n",
              "\n",
              "    .colab-df-convert:hover {\n",
              "      background-color: #E2EBFA;\n",
              "      box-shadow: 0px 1px 2px rgba(60, 64, 67, 0.3), 0px 1px 3px 1px rgba(60, 64, 67, 0.15);\n",
              "      fill: #174EA6;\n",
              "    }\n",
              "\n",
              "    [theme=dark] .colab-df-convert {\n",
              "      background-color: #3B4455;\n",
              "      fill: #D2E3FC;\n",
              "    }\n",
              "\n",
              "    [theme=dark] .colab-df-convert:hover {\n",
              "      background-color: #434B5C;\n",
              "      box-shadow: 0px 1px 3px 1px rgba(0, 0, 0, 0.15);\n",
              "      filter: drop-shadow(0px 1px 2px rgba(0, 0, 0, 0.3));\n",
              "      fill: #FFFFFF;\n",
              "    }\n",
              "  </style>\n",
              "\n",
              "      <script>\n",
              "        const buttonEl =\n",
              "          document.querySelector('#df-68d2f913-41b4-4e02-97b3-a5cb133b0e52 button.colab-df-convert');\n",
              "        buttonEl.style.display =\n",
              "          google.colab.kernel.accessAllowed ? 'block' : 'none';\n",
              "\n",
              "        async function convertToInteractive(key) {\n",
              "          const element = document.querySelector('#df-68d2f913-41b4-4e02-97b3-a5cb133b0e52');\n",
              "          const dataTable =\n",
              "            await google.colab.kernel.invokeFunction('convertToInteractive',\n",
              "                                                     [key], {});\n",
              "          if (!dataTable) return;\n",
              "\n",
              "          const docLinkHtml = 'Like what you see? Visit the ' +\n",
              "            '<a target=\"_blank\" href=https://colab.research.google.com/notebooks/data_table.ipynb>data table notebook</a>'\n",
              "            + ' to learn more about interactive tables.';\n",
              "          element.innerHTML = '';\n",
              "          dataTable['output_type'] = 'display_data';\n",
              "          await google.colab.output.renderOutput(dataTable, element);\n",
              "          const docLink = document.createElement('div');\n",
              "          docLink.innerHTML = docLinkHtml;\n",
              "          element.appendChild(docLink);\n",
              "        }\n",
              "      </script>\n",
              "    </div>\n",
              "  </div>\n",
              "  "
            ],
            "text/plain": [
              "   season  DEWP  HUMI    PRES  ...  cbwd_NE  cbwd_NW  cbwd_SE  PM_HIGH\n",
              "0       4  -8.0  79.0  1026.0  ...        0        0        1      1.0\n",
              "1       4 -11.0  85.0  1021.0  ...        0        0        1      0.0\n",
              "2       4 -21.0  43.0  1030.0  ...        0        1        0      0.0\n",
              "3       4 -25.0  33.0  1034.0  ...        1        0        0      0.0\n",
              "4       4 -24.0  30.0  1034.0  ...        1        0        0      0.0\n",
              "\n",
              "[5 rows x 11 columns]"
            ]
          },
          "metadata": {},
          "execution_count": 112
        }
      ]
    },
    {
      "cell_type": "code",
      "source": [
        "# See if dataset is balanced\n",
        "data['PM_HIGH'].plot.hist(bins=2, title=\"Class occurences\", xticks=[0,1])\n",
        "plt.show()"
      ],
      "metadata": {
        "colab": {
          "base_uri": "https://localhost:8080/",
          "height": 281
        },
        "id": "_b54MwtfD9SL",
        "outputId": "54215ec5-51e4-46e7-cef8-9af03430a0f4"
      },
      "execution_count": null,
      "outputs": [
        {
          "output_type": "display_data",
          "data": {
            "image/png": "[encoded data removed]",
            "text/plain": [
              "<Figure size 432x288 with 1 Axes>"
            ]
          },
          "metadata": {
            "needs_background": "light"
          }
        }
      ]
    },
    {
      "cell_type": "markdown",
      "source": [
        "Training data is imbalanced. We should keep this in mind when selecting model."
      ],
      "metadata": {
        "id": "qg-33M37HxZF"
      }
    },
    {
      "cell_type": "code",
      "source": [
        "# Standardize features to zero mean and unit variance\n",
        "features = data.drop('PM_HIGH', axis=1)\n",
        "scaler = StandardScaler()\n",
        "scaled_features = scaler.fit_transform(features.values)\n",
        "data_norm = pd.DataFrame(scaled_features, index=features.index, columns=features.columns)\n",
        "data_norm['PM_HIGH'] = data['PM_HIGH']\n",
        "data_norm.head()"
      ],
      "metadata": {
        "colab": {
          "base_uri": "https://localhost:8080/",
          "height": 268
        },
        "id": "vlfdUlnP9T_K",
        "outputId": "8b06fe6b-50a2-464b-d732-1758b3f861f5"
      },
      "execution_count": null,
      "outputs": [
        {
          "output_type": "execute_result",
          "data": {
            "text/html": [
              "\n",
              "  <div id=\"df-0ccf71e6-ecd2-4d96-97de-3be87b56bab2\">\n",
              "    <div class=\"colab-df-container\">\n",
              "      <div>\n",
              "<style scoped>\n",
              "    .dataframe tbody tr th:only-of-type {\n",
              "        vertical-align: middle;\n",
              "    }\n",
              "\n",
              "    .dataframe tbody tr th {\n",
              "        vertical-align: top;\n",
              "    }\n",
              "\n",
              "    .dataframe thead th {\n",
              "        text-align: right;\n",
              "    }\n",
              "</style>\n",
              "<table border=\"1\" class=\"dataframe\">\n",
              "  <thead>\n",
              "    <tr style=\"text-align: right;\">\n",
              "      <th></th>\n",
              "      <th>season</th>\n",
              "      <th>DEWP</th>\n",
              "      <th>HUMI</th>\n",
              "      <th>PRES</th>\n",
              "      <th>TEMP</th>\n",
              "      <th>Iws</th>\n",
              "      <th>precipitation</th>\n",
              "      <th>cbwd_NE</th>\n",
              "      <th>cbwd_NW</th>\n",
              "      <th>cbwd_SE</th>\n",
              "      <th>PM_HIGH</th>\n",
              "    </tr>\n",
              "  </thead>\n",
              "  <tbody>\n",
              "    <tr>\n",
              "      <th>0</th>\n",
              "      <td>1.345351</td>\n",
              "      <td>-0.645127</td>\n",
              "      <td>1.641080</td>\n",
              "      <td>0.938370</td>\n",
              "      <td>-1.691890</td>\n",
              "      <td>0.039829</td>\n",
              "      <td>-0.099523</td>\n",
              "      <td>-0.353141</td>\n",
              "      <td>-0.633985</td>\n",
              "      <td>1.774138</td>\n",
              "      <td>1.0</td>\n",
              "    </tr>\n",
              "    <tr>\n",
              "      <th>1</th>\n",
              "      <td>1.345351</td>\n",
              "      <td>-0.857400</td>\n",
              "      <td>1.911613</td>\n",
              "      <td>0.442481</td>\n",
              "      <td>-2.022982</td>\n",
              "      <td>1.866585</td>\n",
              "      <td>2.183845</td>\n",
              "      <td>-0.353141</td>\n",
              "      <td>-0.633985</td>\n",
              "      <td>1.774138</td>\n",
              "      <td>0.0</td>\n",
              "    </tr>\n",
              "    <tr>\n",
              "      <th>2</th>\n",
              "      <td>1.345351</td>\n",
              "      <td>-1.564975</td>\n",
              "      <td>0.017880</td>\n",
              "      <td>1.335082</td>\n",
              "      <td>-2.188529</td>\n",
              "      <td>2.124694</td>\n",
              "      <td>-0.099523</td>\n",
              "      <td>-0.353141</td>\n",
              "      <td>1.577324</td>\n",
              "      <td>-0.563654</td>\n",
              "      <td>0.0</td>\n",
              "    </tr>\n",
              "    <tr>\n",
              "      <th>3</th>\n",
              "      <td>1.345351</td>\n",
              "      <td>-1.848005</td>\n",
              "      <td>-0.433009</td>\n",
              "      <td>1.731793</td>\n",
              "      <td>-2.271302</td>\n",
              "      <td>0.387677</td>\n",
              "      <td>-0.099523</td>\n",
              "      <td>2.831729</td>\n",
              "      <td>-0.633985</td>\n",
              "      <td>-0.563654</td>\n",
              "      <td>0.0</td>\n",
              "    </tr>\n",
              "    <tr>\n",
              "      <th>4</th>\n",
              "      <td>1.345351</td>\n",
              "      <td>-1.777247</td>\n",
              "      <td>-0.568276</td>\n",
              "      <td>1.731793</td>\n",
              "      <td>-2.105756</td>\n",
              "      <td>0.824153</td>\n",
              "      <td>-0.099523</td>\n",
              "      <td>2.831729</td>\n",
              "      <td>-0.633985</td>\n",
              "      <td>-0.563654</td>\n",
              "      <td>0.0</td>\n",
              "    </tr>\n",
              "  </tbody>\n",
              "</table>\n",
              "</div>\n",
              "      <button class=\"colab-df-convert\" onclick=\"convertToInteractive('df-0ccf71e6-ecd2-4d96-97de-3be87b56bab2')\"\n",
              "              title=\"Convert this dataframe to an interactive table.\"\n",
              "              style=\"display:none;\">\n",
              "        \n",
              "  <svg xmlns=\"http://www.w3.org/2000/svg\" height=\"24px\"viewBox=\"0 0 24 24\"\n",
              "       width=\"24px\">\n",
              "    <path d=\"M0 0h24v24H0V0z\" fill=\"none\"/>\n",
              "    <path d=\"M18.56 5.44l.94 2.06.94-2.06 2.06-.94-2.06-.94-.94-2.06-.94 2.06-2.06.94zm-11 1L8.5 8.5l.94-2.06 2.06-.94-2.06-.94L8.5 2.5l-.94 2.06-2.06.94zm10 10l.94 2.06.94-2.06 2.06-.94-2.06-.94-.94-2.06-.94 2.06-2.06.94z\"/><path d=\"M17.41 7.96l-1.37-1.37c-.4-.4-.92-.59-1.43-.59-.52 0-1.04.2-1.43.59L10.3 9.45l-7.72 7.72c-.78.78-.78 2.05 0 2.83L4 21.41c.39.39.9.59 1.41.59.51 0 1.02-.2 1.41-.59l7.78-7.78 2.81-2.81c.8-.78.8-2.07 0-2.86zM5.41 20L4 18.59l7.72-7.72 1.47 1.35L5.41 20z\"/>\n",
              "  </svg>\n",
              "      </button>\n",
              "      \n",
              "  <style>\n",
              "    .colab-df-container {\n",
              "      display:flex;\n",
              "      flex-wrap:wrap;\n",
              "      gap: 12px;\n",
              "    }\n",
              "\n",
              "    .colab-df-convert {\n",
              "      background-color: #E8F0FE;\n",
              "      border: none;\n",
              "      border-radius: 50%;\n",
              "      cursor: pointer;\n",
              "      display: none;\n",
              "      fill: #1967D2;\n",
              "      height: 32px;\n",
              "      padding: 0 0 0 0;\n",
              "      width: 32px;\n",
              "    }\n",
              "\n",
              "    .colab-df-convert:hover {\n",
              "      background-color: #E2EBFA;\n",
              "      box-shadow: 0px 1px 2px rgba(60, 64, 67, 0.3), 0px 1px 3px 1px rgba(60, 64, 67, 0.15);\n",
              "      fill: #174EA6;\n",
              "    }\n",
              "\n",
              "    [theme=dark] .colab-df-convert {\n",
              "      background-color: #3B4455;\n",
              "      fill: #D2E3FC;\n",
              "    }\n",
              "\n",
              "    [theme=dark] .colab-df-convert:hover {\n",
              "      background-color: #434B5C;\n",
              "      box-shadow: 0px 1px 3px 1px rgba(0, 0, 0, 0.15);\n",
              "      filter: drop-shadow(0px 1px 2px rgba(0, 0, 0, 0.3));\n",
              "      fill: #FFFFFF;\n",
              "    }\n",
              "  </style>\n",
              "\n",
              "      <script>\n",
              "        const buttonEl =\n",
              "          document.querySelector('#df-0ccf71e6-ecd2-4d96-97de-3be87b56bab2 button.colab-df-convert');\n",
              "        buttonEl.style.display =\n",
              "          google.colab.kernel.accessAllowed ? 'block' : 'none';\n",
              "\n",
              "        async function convertToInteractive(key) {\n",
              "          const element = document.querySelector('#df-0ccf71e6-ecd2-4d96-97de-3be87b56bab2');\n",
              "          const dataTable =\n",
              "            await google.colab.kernel.invokeFunction('convertToInteractive',\n",
              "                                                     [key], {});\n",
              "          if (!dataTable) return;\n",
              "\n",
              "          const docLinkHtml = 'Like what you see? Visit the ' +\n",
              "            '<a target=\"_blank\" href=https://colab.research.google.com/notebooks/data_table.ipynb>data table notebook</a>'\n",
              "            + ' to learn more about interactive tables.';\n",
              "          element.innerHTML = '';\n",
              "          dataTable['output_type'] = 'display_data';\n",
              "          await google.colab.output.renderOutput(dataTable, element);\n",
              "          const docLink = document.createElement('div');\n",
              "          docLink.innerHTML = docLinkHtml;\n",
              "          element.appendChild(docLink);\n",
              "        }\n",
              "      </script>\n",
              "    </div>\n",
              "  </div>\n",
              "  "
            ],
            "text/plain": [
              "     season      DEWP      HUMI  ...   cbwd_NW   cbwd_SE  PM_HIGH\n",
              "0  1.345351 -0.645127  1.641080  ... -0.633985  1.774138      1.0\n",
              "1  1.345351 -0.857400  1.911613  ... -0.633985  1.774138      0.0\n",
              "2  1.345351 -1.564975  0.017880  ...  1.577324 -0.563654      0.0\n",
              "3  1.345351 -1.848005 -0.433009  ... -0.633985 -0.563654      0.0\n",
              "4  1.345351 -1.777247 -0.568276  ... -0.633985 -0.563654      0.0\n",
              "\n",
              "[5 rows x 11 columns]"
            ]
          },
          "metadata": {},
          "execution_count": 114
        }
      ]
    },
    {
      "cell_type": "code",
      "source": [
        "# Explore features\n",
        "data.boxplot(['season'], 'PM_HIGH', figsize=(5,  5))"
      ],
      "metadata": {
        "colab": {
          "base_uri": "https://localhost:8080/",
          "height": 433
        },
        "id": "4CN1tYMM6fDU",
        "outputId": "5ee0e1b4-67c4-413a-d9cb-be6f5b372bf8"
      },
      "execution_count": null,
      "outputs": [
        {
          "output_type": "stream",
          "name": "stderr",
          "text": [
            "/usr/local/lib/python3.7/dist-packages/numpy/core/_asarray.py:83: VisibleDeprecationWarning: Creating an ndarray from ragged nested sequences (which is a list-or-tuple of lists-or-tuples-or ndarrays with different lengths or shapes) is deprecated. If you meant to do this, you must specify 'dtype=object' when creating the ndarray\n",
            "  return array(a, dtype, copy=False, order=order)\n"
          ]
        },
        {
          "output_type": "execute_result",
          "data": {
            "text/plain": [
              "<matplotlib.axes._subplots.AxesSubplot at 0x7f7fe32ea790>"
            ]
          },
          "metadata": {},
          "execution_count": 48
        },
        {
          "output_type": "display_data",
          "data": {
            "image/png": "[encoded data removed]",
            "text/plain": [
              "<Figure size 360x360 with 1 Axes>"
            ]
          },
          "metadata": {
            "needs_background": "light"
          }
        }
      ]
    },
    {
      "cell_type": "code",
      "source": [
        "data_norm.boxplot(['DEWP', 'HUMI','PRES','TEMP'], 'PM_HIGH', figsize=(10,  10))"
      ],
      "metadata": {
        "colab": {
          "base_uri": "https://localhost:8080/",
          "height": 901
        },
        "id": "dUQXAu7sBmEf",
        "outputId": "589dc72e-3d38-40ac-a224-8dc5e393dc9d"
      },
      "execution_count": null,
      "outputs": [
        {
          "output_type": "stream",
          "name": "stderr",
          "text": [
            "/usr/local/lib/python3.7/dist-packages/numpy/core/_asarray.py:83: VisibleDeprecationWarning: Creating an ndarray from ragged nested sequences (which is a list-or-tuple of lists-or-tuples-or ndarrays with different lengths or shapes) is deprecated. If you meant to do this, you must specify 'dtype=object' when creating the ndarray\n",
            "  return array(a, dtype, copy=False, order=order)\n",
            "/usr/local/lib/python3.7/dist-packages/numpy/core/_asarray.py:83: VisibleDeprecationWarning: Creating an ndarray from ragged nested sequences (which is a list-or-tuple of lists-or-tuples-or ndarrays with different lengths or shapes) is deprecated. If you meant to do this, you must specify 'dtype=object' when creating the ndarray\n",
            "  return array(a, dtype, copy=False, order=order)\n",
            "/usr/local/lib/python3.7/dist-packages/numpy/core/_asarray.py:83: VisibleDeprecationWarning: Creating an ndarray from ragged nested sequences (which is a list-or-tuple of lists-or-tuples-or ndarrays with different lengths or shapes) is deprecated. If you meant to do this, you must specify 'dtype=object' when creating the ndarray\n",
            "  return array(a, dtype, copy=False, order=order)\n",
            "/usr/local/lib/python3.7/dist-packages/numpy/core/_asarray.py:83: VisibleDeprecationWarning: Creating an ndarray from ragged nested sequences (which is a list-or-tuple of lists-or-tuples-or ndarrays with different lengths or shapes) is deprecated. If you meant to do this, you must specify 'dtype=object' when creating the ndarray\n",
            "  return array(a, dtype, copy=False, order=order)\n"
          ]
        },
        {
          "output_type": "execute_result",
          "data": {
            "text/plain": [
              "array([[<matplotlib.axes._subplots.AxesSubplot object at 0x7f7fdfde0790>,\n",
              "        <matplotlib.axes._subplots.AxesSubplot object at 0x7f7fdff5ef90>],\n",
              "       [<matplotlib.axes._subplots.AxesSubplot object at 0x7f7fdfe66bd0>,\n",
              "        <matplotlib.axes._subplots.AxesSubplot object at 0x7f7fe01493d0>]],\n",
              "      dtype=object)"
            ]
          },
          "metadata": {},
          "execution_count": 116
        },
        {
          "output_type": "display_data",
          "data": {
            "image/png": "[encoded data removed]",
            "text/plain": [
              "<Figure size 720x720 with 4 Axes>"
            ]
          },
          "metadata": {
            "needs_background": "light"
          }
        }
      ]
    },
    {
      "cell_type": "code",
      "source": [
        "data_norm.boxplot(['Iws'], 'PM_HIGH', figsize=(5,  5),showfliers=False)"
      ],
      "metadata": {
        "colab": {
          "base_uri": "https://localhost:8080/",
          "height": 433
        },
        "id": "1r-kZ-8IBy0B",
        "outputId": "9e98d8de-8b99-49ad-e1fa-3eda9c7d8f33"
      },
      "execution_count": null,
      "outputs": [
        {
          "output_type": "stream",
          "name": "stderr",
          "text": [
            "/usr/local/lib/python3.7/dist-packages/numpy/core/_asarray.py:83: VisibleDeprecationWarning: Creating an ndarray from ragged nested sequences (which is a list-or-tuple of lists-or-tuples-or ndarrays with different lengths or shapes) is deprecated. If you meant to do this, you must specify 'dtype=object' when creating the ndarray\n",
            "  return array(a, dtype, copy=False, order=order)\n"
          ]
        },
        {
          "output_type": "execute_result",
          "data": {
            "text/plain": [
              "<matplotlib.axes._subplots.AxesSubplot at 0x7f7fdf067110>"
            ]
          },
          "metadata": {},
          "execution_count": 120
        },
        {
          "output_type": "display_data",
          "data": {
            "image/png": "[encoded data removed]",
            "text/plain": [
              "<Figure size 360x360 with 1 Axes>"
            ]
          },
          "metadata": {
            "needs_background": "light"
          }
        }
      ]
    },
    {
      "cell_type": "code",
      "source": [
        "data_norm.boxplot(['precipitation'], 'PM_HIGH', figsize=(5,  5), showfliers=True)"
      ],
      "metadata": {
        "colab": {
          "base_uri": "https://localhost:8080/",
          "height": 433
        },
        "id": "mexVLGUIB8iW",
        "outputId": "fbd3da03-e737-473c-e90a-a4ec5dd13676"
      },
      "execution_count": null,
      "outputs": [
        {
          "output_type": "stream",
          "name": "stderr",
          "text": [
            "/usr/local/lib/python3.7/dist-packages/numpy/core/_asarray.py:83: VisibleDeprecationWarning: Creating an ndarray from ragged nested sequences (which is a list-or-tuple of lists-or-tuples-or ndarrays with different lengths or shapes) is deprecated. If you meant to do this, you must specify 'dtype=object' when creating the ndarray\n",
            "  return array(a, dtype, copy=False, order=order)\n"
          ]
        },
        {
          "output_type": "execute_result",
          "data": {
            "text/plain": [
              "<matplotlib.axes._subplots.AxesSubplot at 0x7f7fdef70650>"
            ]
          },
          "metadata": {},
          "execution_count": 122
        },
        {
          "output_type": "display_data",
          "data": {
            "image/png": "[encoded data removed]",
            "text/plain": [
              "<Figure size 360x360 with 1 Axes>"
            ]
          },
          "metadata": {
            "needs_background": "light"
          }
        }
      ]
    },
    {
      "cell_type": "code",
      "source": [
        "data.boxplot(['cbwd_NE',\t'cbwd_NW', 'cbwd_SE'], 'PM_HIGH', figsize=(10,  10), showfliers=True)"
      ],
      "metadata": {
        "colab": {
          "base_uri": "https://localhost:8080/",
          "height": 867
        },
        "id": "bclN9OJLE37s",
        "outputId": "55641072-6148-4182-fc75-34ae3508a0fb"
      },
      "execution_count": null,
      "outputs": [
        {
          "output_type": "stream",
          "name": "stderr",
          "text": [
            "/usr/local/lib/python3.7/dist-packages/numpy/core/_asarray.py:83: VisibleDeprecationWarning: Creating an ndarray from ragged nested sequences (which is a list-or-tuple of lists-or-tuples-or ndarrays with different lengths or shapes) is deprecated. If you meant to do this, you must specify 'dtype=object' when creating the ndarray\n",
            "  return array(a, dtype, copy=False, order=order)\n",
            "/usr/local/lib/python3.7/dist-packages/numpy/core/_asarray.py:83: VisibleDeprecationWarning: Creating an ndarray from ragged nested sequences (which is a list-or-tuple of lists-or-tuples-or ndarrays with different lengths or shapes) is deprecated. If you meant to do this, you must specify 'dtype=object' when creating the ndarray\n",
            "  return array(a, dtype, copy=False, order=order)\n",
            "/usr/local/lib/python3.7/dist-packages/numpy/core/_asarray.py:83: VisibleDeprecationWarning: Creating an ndarray from ragged nested sequences (which is a list-or-tuple of lists-or-tuples-or ndarrays with different lengths or shapes) is deprecated. If you meant to do this, you must specify 'dtype=object' when creating the ndarray\n",
            "  return array(a, dtype, copy=False, order=order)\n"
          ]
        },
        {
          "output_type": "execute_result",
          "data": {
            "text/plain": [
              "array([[<matplotlib.axes._subplots.AxesSubplot object at 0x7f7fdf95be10>,\n",
              "        <matplotlib.axes._subplots.AxesSubplot object at 0x7f7fdf9051d0>],\n",
              "       [<matplotlib.axes._subplots.AxesSubplot object at 0x7f7fdf95b350>,\n",
              "        <matplotlib.axes._subplots.AxesSubplot object at 0x7f7fdf873390>]],\n",
              "      dtype=object)"
            ]
          },
          "metadata": {},
          "execution_count": 81
        },
        {
          "output_type": "display_data",
          "data": {
            "image/png": "[encoded data removed]",
            "text/plain": [
              "<Figure size 720x720 with 4 Axes>"
            ]
          },
          "metadata": {
            "needs_background": "light"
          }
        }
      ]
    },
    {
      "cell_type": "markdown",
      "source": [
        "It seems as 'season', 'HUMI', 'Iws' are our best predictors. Could be worth checking out performance using only those.\n",
        "It's hard to say from the boxplots if the categorical variable cbwd is good or not."
      ],
      "metadata": {
        "id": "wQO2m3q9FyG0"
      }
    },
    {
      "cell_type": "markdown",
      "source": [
        "### Implementation\n",
        "\n",
        "First let's try with all features"
      ],
      "metadata": {
        "id": "Lz4srSWIEh4g"
      }
    },
    {
      "cell_type": "code",
      "source": [
        "# Make np arrays with training data\n",
        "X_train = data_norm.drop('PM_HIGH', axis=1).to_numpy()\n",
        "y_train = data_norm['PM_HIGH'].to_numpy().astype(np.int)\n",
        "\n",
        "# Train/val split\n",
        "X_train, X_val, y_train, y_val = train_test_split(X_train, y_train, test_size=0.25, random_state=42)"
      ],
      "metadata": {
        "id": "yaEGYeovHjIM"
      },
      "execution_count": null,
      "outputs": []
    },
    {
      "cell_type": "code",
      "source": [
        "# Create KNN classifier\n",
        "class KNNClassifier():\n",
        "  def __init__(self, k):\n",
        "    self.k = k\n",
        "    self.x_data = None\n",
        "    self.y_data = None\n",
        "\n",
        "  def euc_distance(self, x1, x2):\n",
        "    return np.sqrt(np.sum((x1 - x2)**2, axis=1))\n",
        "\n",
        "  def fit(self, x, y):\n",
        "    self.x_data = x\n",
        "    self.y_data = y\n",
        "\n",
        "  def predict(self, x):\n",
        "    n_training_points = self.x_data.shape[0]\n",
        "\n",
        "    if len(x.shape) == 1:\n",
        "      x = np.expand_dims(x, axis=0)\n",
        "\n",
        "    n_to_predict = x.shape[0]\n",
        "    preds = np.zeros((n_to_predict,),dtype=np.int)\n",
        "\n",
        "    # Make one prediction at a time\n",
        "    for i in range(n_to_predict):\n",
        "      x_i = np.expand_dims(x[i,:],axis=0)\n",
        "\n",
        "      # Calculate distances between point x and all labelled x's\n",
        "      rep = np.repeat(x_i, n_training_points, axis=0)\n",
        "      distances = self.euc_distance(rep, self.x_data)\n",
        "\n",
        "      # Sort in ascending order according to distance, and obtain index of sorted distances\n",
        "      sorted_idxs = np.argsort(distances).astype(np.int)\n",
        "\n",
        "      # Get the majority label of the first K entries\n",
        "      k_neighbors_labels = self.y_data[sorted_idxs[:self.k]]\n",
        "      label = np.bincount(k_neighbors_labels).argmax()\n",
        "      preds[i] = label\n",
        "\n",
        "    return preds\n",
        "\n",
        "  def score(self, X, y):\n",
        "    # Make predictions\n",
        "    y_pred = self.predict(X)\n",
        "    # Calculate score (weighted to adjust for class imbalance)\n",
        "    p,r,f,_ = precision_recall_fscore_support(y, y_pred, average='weighted')\n",
        "    a = accuracy_score(y, y_pred)\n",
        "    return (p,r,f,a)\n",
        "    \n",
        "\n",
        "# Control if classifier works.\n",
        "# With k=1 we should have perfect score when predicting on training data\n",
        "model = KNNClassifier(k=1)\n",
        "model.fit(X_train, y_train)\n",
        "p, r, f, a = model.score(X_train, y_train)\n",
        "print(f\"Precision: {p:.3f}, Recall: {r:.3f}, F1: {f:.3f}, Acc: {a:.3f}\")"
      ],
      "metadata": {
        "id": "ZiGnbYyAAiEJ",
        "colab": {
          "base_uri": "https://localhost:8080/"
        },
        "outputId": "d56fed56-b15a-41bb-b462-28c7d5e583b8"
      },
      "execution_count": null,
      "outputs": [
        {
          "output_type": "stream",
          "name": "stdout",
          "text": [
            "Precision: 1.000, Recall: 1.000, F1: 1.000, Acc: 1.000\n"
          ]
        }
      ]
    },
    {
      "cell_type": "code",
      "source": [
        "# Train for different K:s\n",
        "def train_evaluate(X_train, y_train, X_val, y_val):\n",
        "  ks = list(range(1,49,2))\n",
        "  best_score = 0.0\n",
        "  best_model = None\n",
        "  for k in ks:\n",
        "    # Fit model using training data\n",
        "    model = KNNClassifier(k=k)\n",
        "    model.fit(X_train, y_train)\n",
        "\n",
        "    # Evaluate with validation data\n",
        "    p, r, f, a = model.score(X_val, y_val)\n",
        "    print(f\"[VAL]: {k} neighbours - [Precision: {p:.3f}, Recall: {r:.3f}, F1: {f:.3f}, Acc: {a:.3f}\")\n",
        "    if f > best_score:\n",
        "      best_score = f\n",
        "      best_model = model\n",
        "  print(f\"Best model: {best_model.k} neighbours\")\n",
        "  return best_model\n",
        "\n",
        "best_model = train_evaluate(X_train, y_train, X_val, y_val)"
      ],
      "metadata": {
        "colab": {
          "base_uri": "https://localhost:8080/"
        },
        "id": "flpay0hx4SXf",
        "outputId": "fd161b86-cd26-4eb2-f77a-775da8e33010"
      },
      "execution_count": null,
      "outputs": [
        {
          "output_type": "stream",
          "name": "stdout",
          "text": [
            "[VAL]: 1 neighbours - [Precision: 0.708, Recall: 0.715, F1: 0.711, Acc: 0.715\n",
            "[VAL]: 3 neighbours - [Precision: 0.736, Recall: 0.747, F1: 0.740, Acc: 0.747\n",
            "[VAL]: 5 neighbours - [Precision: 0.763, Recall: 0.773, F1: 0.765, Acc: 0.773\n",
            "[VAL]: 7 neighbours - [Precision: 0.768, Recall: 0.779, F1: 0.770, Acc: 0.779\n",
            "[VAL]: 9 neighbours - [Precision: 0.771, Recall: 0.782, F1: 0.772, Acc: 0.782\n",
            "[VAL]: 11 neighbours - [Precision: 0.777, Recall: 0.787, F1: 0.778, Acc: 0.787\n",
            "[VAL]: 13 neighbours - [Precision: 0.775, Recall: 0.786, F1: 0.777, Acc: 0.786\n",
            "[VAL]: 15 neighbours - [Precision: 0.770, Recall: 0.782, F1: 0.772, Acc: 0.782\n",
            "[VAL]: 17 neighbours - [Precision: 0.770, Recall: 0.782, F1: 0.771, Acc: 0.782\n",
            "[VAL]: 19 neighbours - [Precision: 0.765, Recall: 0.778, F1: 0.766, Acc: 0.778\n",
            "[VAL]: 21 neighbours - [Precision: 0.771, Recall: 0.783, F1: 0.772, Acc: 0.783\n",
            "[VAL]: 23 neighbours - [Precision: 0.781, Recall: 0.791, F1: 0.780, Acc: 0.791\n",
            "[VAL]: 25 neighbours - [Precision: 0.781, Recall: 0.791, F1: 0.780, Acc: 0.791\n",
            "[VAL]: 27 neighbours - [Precision: 0.779, Recall: 0.790, F1: 0.779, Acc: 0.790\n",
            "[VAL]: 29 neighbours - [Precision: 0.782, Recall: 0.793, F1: 0.781, Acc: 0.793\n",
            "[VAL]: 31 neighbours - [Precision: 0.776, Recall: 0.787, F1: 0.774, Acc: 0.787\n",
            "[VAL]: 33 neighbours - [Precision: 0.774, Recall: 0.786, F1: 0.773, Acc: 0.786\n",
            "[VAL]: 35 neighbours - [Precision: 0.779, Recall: 0.790, F1: 0.776, Acc: 0.790\n",
            "[VAL]: 37 neighbours - [Precision: 0.771, Recall: 0.783, F1: 0.769, Acc: 0.783\n",
            "[VAL]: 39 neighbours - [Precision: 0.771, Recall: 0.783, F1: 0.769, Acc: 0.783\n",
            "[VAL]: 41 neighbours - [Precision: 0.769, Recall: 0.782, F1: 0.767, Acc: 0.782\n",
            "[VAL]: 43 neighbours - [Precision: 0.774, Recall: 0.786, F1: 0.772, Acc: 0.786\n",
            "[VAL]: 45 neighbours - [Precision: 0.779, Recall: 0.790, F1: 0.776, Acc: 0.790\n",
            "[VAL]: 47 neighbours - [Precision: 0.777, Recall: 0.789, F1: 0.774, Acc: 0.789\n",
            "Best model: 29 neighbours\n"
          ]
        }
      ]
    },
    {
      "cell_type": "code",
      "source": [
        "# Read test data cities\n",
        "guangzhou = pd.read_csv('Guangzhou_labeled.csv')\n",
        "shanghai = pd.read_csv('Shanghai_labeled.csv')\n",
        "\n",
        "# Standardize features to zero mean and unit variance\n",
        "features_g = guangzhou.drop('PM_HIGH', axis=1)\n",
        "scaled_features_g = scaler.fit_transform(features_g.values)\n",
        "guangzhou_norm = pd.DataFrame(scaled_features_g, index=features_g.index, columns=features_g.columns)\n",
        "guangzhou_norm['PM_HIGH'] = guangzhou['PM_HIGH']\n",
        "\n",
        "features_s = shanghai.drop('PM_HIGH', axis=1)\n",
        "scaled_features_s = scaler.fit_transform(features_s.values)\n",
        "shanghai_norm = pd.DataFrame(scaled_features_s, index=features_s.index, columns=features_s.columns)\n",
        "shanghai_norm['PM_HIGH'] = shanghai['PM_HIGH']"
      ],
      "metadata": {
        "id": "Npbrv_gJHr5E"
      },
      "execution_count": null,
      "outputs": []
    },
    {
      "cell_type": "code",
      "source": [
        "def test_model(best_model, X_test_guan, y_test_guan, X_test_shang, y_test_shang):\n",
        "  p, r, f, a = best_model.score(X_test_guan, y_test_guan)\n",
        "  print(f\"Guangzhou - [Precision: {p:.3f}, Recall: {r:.3f}, F1: {f:.3f}, Acc: {a:.3f}\")\n",
        "\n",
        "  p, r, f, a = best_model.score(X_test_shang, y_test_shang)\n",
        "  print(f\"Shanghai - [Precision: {p:.3f}, Recall: {r:.3f}, F1: {f:.3f}, Acc: {a:.3f}\")\n",
        "\n",
        "# Make np arrays \n",
        "X_test_guan = guangzhou_norm.drop('PM_HIGH', axis=1).to_numpy()\n",
        "y_test_guan = guangzhou_norm['PM_HIGH'].to_numpy().astype(np.int)\n",
        "\n",
        "X_test_shang = shanghai_norm.drop('PM_HIGH', axis=1).to_numpy()\n",
        "y_test_shang = shanghai_norm['PM_HIGH'].to_numpy().astype(np.int)  \n",
        "\n",
        "test_model(best_model, X_test_guan, y_test_guan, X_test_shang, y_test_shang)"
      ],
      "metadata": {
        "colab": {
          "base_uri": "https://localhost:8080/"
        },
        "id": "QebExnYrGO3e",
        "outputId": "57b32594-0d33-40a2-8b97-cd5804bee3aa"
      },
      "execution_count": null,
      "outputs": [
        {
          "output_type": "stream",
          "name": "stdout",
          "text": [
            "Guangzhou - [Precision: 0.890, Recall: 0.774, F1: 0.823, Acc: 0.774\n",
            "Shanghai - [Precision: 0.830, Recall: 0.764, F1: 0.794, Acc: 0.764\n"
          ]
        }
      ]
    },
    {
      "cell_type": "markdown",
      "source": [
        "Now let's try only using three features which we could see were all quite important from the box plots, as well as the categorical variable cbwd because it was hard to see if it was important or not."
      ],
      "metadata": {
        "id": "7SPZ0e9RJDaH"
      }
    },
    {
      "cell_type": "code",
      "source": [
        "feature_names = ['season', 'HUMI', 'Iws', 'cbwd_NE',\t'cbwd_NW', 'cbwd_SE']\n",
        "\n",
        "# Make np arrays with training data\n",
        "X_train = data_norm[feature_names].to_numpy() # only keep feature_names features\n",
        "y_train = data_norm['PM_HIGH'].to_numpy().astype(np.int)\n",
        "\n",
        "# Train/val split\n",
        "X_train, X_val, y_train, y_val = train_test_split(X_train, y_train, test_size=0.25, random_state=42)\n",
        "\n",
        "best_model = train_evaluate(X_train, y_train, X_val, y_val)\n",
        "\n",
        "# Make test data\n",
        "X_test_guan = guangzhou_norm[feature_names].to_numpy()\n",
        "y_test_guan = guangzhou_norm['PM_HIGH'].to_numpy().astype(np.int)\n",
        "\n",
        "X_test_shang = shanghai_norm[feature_names].to_numpy()\n",
        "y_test_shang = shanghai_norm['PM_HIGH'].to_numpy().astype(np.int)  \n",
        "\n",
        "test_model(best_model, X_test_guan, y_test_guan, X_test_shang, y_test_shang)\n"
      ],
      "metadata": {
        "colab": {
          "base_uri": "https://localhost:8080/"
        },
        "id": "qL-5BWIMJCvI",
        "outputId": "8c723460-036a-4f09-89d8-8f475b6ad82c"
      },
      "execution_count": null,
      "outputs": [
        {
          "output_type": "stream",
          "name": "stdout",
          "text": [
            "[VAL]: 1 neighbours - [Precision: 0.758, Recall: 0.765, F1: 0.761, Acc: 0.765\n",
            "[VAL]: 3 neighbours - [Precision: 0.777, Recall: 0.785, F1: 0.779, Acc: 0.785\n",
            "[VAL]: 5 neighbours - [Precision: 0.770, Recall: 0.780, F1: 0.772, Acc: 0.780\n",
            "[VAL]: 7 neighbours - [Precision: 0.775, Recall: 0.785, F1: 0.777, Acc: 0.785\n",
            "[VAL]: 9 neighbours - [Precision: 0.768, Recall: 0.779, F1: 0.770, Acc: 0.779\n",
            "[VAL]: 11 neighbours - [Precision: 0.778, Recall: 0.789, F1: 0.779, Acc: 0.789\n",
            "[VAL]: 13 neighbours - [Precision: 0.776, Recall: 0.786, F1: 0.778, Acc: 0.786\n",
            "[VAL]: 15 neighbours - [Precision: 0.790, Recall: 0.798, F1: 0.791, Acc: 0.798\n",
            "[VAL]: 17 neighbours - [Precision: 0.784, Recall: 0.794, F1: 0.785, Acc: 0.794\n",
            "[VAL]: 19 neighbours - [Precision: 0.773, Recall: 0.785, F1: 0.774, Acc: 0.785\n",
            "[VAL]: 21 neighbours - [Precision: 0.785, Recall: 0.796, F1: 0.784, Acc: 0.796\n",
            "[VAL]: 23 neighbours - [Precision: 0.777, Recall: 0.789, F1: 0.776, Acc: 0.789\n",
            "[VAL]: 25 neighbours - [Precision: 0.771, Recall: 0.783, F1: 0.771, Acc: 0.783\n",
            "[VAL]: 27 neighbours - [Precision: 0.774, Recall: 0.786, F1: 0.774, Acc: 0.786\n",
            "[VAL]: 29 neighbours - [Precision: 0.779, Recall: 0.790, F1: 0.779, Acc: 0.790\n",
            "[VAL]: 31 neighbours - [Precision: 0.774, Recall: 0.786, F1: 0.775, Acc: 0.786\n",
            "[VAL]: 33 neighbours - [Precision: 0.779, Recall: 0.790, F1: 0.779, Acc: 0.790\n",
            "[VAL]: 35 neighbours - [Precision: 0.777, Recall: 0.789, F1: 0.777, Acc: 0.789\n",
            "[VAL]: 37 neighbours - [Precision: 0.781, Recall: 0.791, F1: 0.780, Acc: 0.791\n",
            "[VAL]: 39 neighbours - [Precision: 0.781, Recall: 0.791, F1: 0.781, Acc: 0.791\n",
            "[VAL]: 41 neighbours - [Precision: 0.773, Recall: 0.785, F1: 0.772, Acc: 0.785\n",
            "[VAL]: 43 neighbours - [Precision: 0.782, Recall: 0.793, F1: 0.781, Acc: 0.793\n",
            "[VAL]: 45 neighbours - [Precision: 0.771, Recall: 0.783, F1: 0.770, Acc: 0.783\n",
            "[VAL]: 47 neighbours - [Precision: 0.777, Recall: 0.789, F1: 0.775, Acc: 0.789\n",
            "Best model: 15 neighbours\n",
            "Guangzhou - [Precision: 0.891, Recall: 0.771, F1: 0.822, Acc: 0.771\n",
            "Shanghai - [Precision: 0.834, Recall: 0.766, F1: 0.796, Acc: 0.766\n"
          ]
        }
      ]
    },
    {
      "cell_type": "markdown",
      "source": [
        "We obtain pretty much at least the same performance when dropping the other features, indicating that they contained much noise."
      ],
      "metadata": {
        "id": "jMzyUYSwMDja"
      }
    },
    {
      "cell_type": "markdown",
      "source": [
        "### Result of the dummy classifier"
      ],
      "metadata": {
        "id": "wF9vIS04SZCq"
      }
    },
    {
      "cell_type": "code",
      "source": [
        "counts_guang = guangzhou['PM_HIGH'].value_counts().to_numpy()\n",
        "print(counts_guang)\n",
        "base_acc_guang = counts_guang[0]/np.sum(counts_guang)\n",
        "\n",
        "counts_shang = shanghai['PM_HIGH'].value_counts().to_numpy()\n",
        "print(counts_shang)\n",
        "base_acc_shang = counts_shang[0]/np.sum(counts_shang)\n",
        "\n",
        "print(f\"guangzhou: you could get {base_acc_guang:.4f} in accuracy by predicting only 0\")\n",
        "print(f\"shanghai: you could get {base_acc_shang:.4f} in accuracy by predicting only 0\")"
      ],
      "metadata": {
        "colab": {
          "base_uri": "https://localhost:8080/"
        },
        "id": "hJLYMZaySlya",
        "outputId": "e162519d-f41b-43c9-b722-7fac50cd8063"
      },
      "execution_count": null,
      "outputs": [
        {
          "output_type": "stream",
          "name": "stdout",
          "text": [
            "[1266   86]\n",
            "[1218  133]\n",
            "guangzhou: you could get 0.9364 in accuracy by predicting only 0\n",
            "shanghai: you could get 0.9016 in accuracy by predicting only 0\n"
          ]
        }
      ]
    }
  ]
}