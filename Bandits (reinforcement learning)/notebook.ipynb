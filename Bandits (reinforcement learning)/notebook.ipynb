{
 "cells": [
  {
   "cell_type": "markdown",
   "source": "# Bandit Assignment\n\nThis assignment should be done in groups of 2 and consists of a number of implementation and theory problems based on the topics discussed in the lectures and the course literature:\n\n[Bandits] *Aleksandrs Slivkins, [Introduction to Multi-Armed Bandits](https://arxiv.org/pdf/1904.07272v5.pdf), Found. Trends Mach. Learn. 12(1-2): 1-286 (2019)*\n\nIn the implementation problems **(1, 2, 3 and 5)**, you will implement multi-armed bandit algorithms from the [Bandits] book and use them in a provided multi-armed bandit environment. These problems will be graded based on the correctness of the code.\n\nIn the theory problems **(4 and 6)**, you will derive some properties of the algorithms. These problems will be graded based on the correctness of the arguments.\n\nYou may use the python libraries imported below (*numpy*, *scipy.stats* and *pandas*).\n\nThe assignment should be handed in as an updated notebook. The entire notebook should be run before it is handed in, so that the plots are visible. Ensure that it is completely runnable, in the case that we want to reproduce the results. ",
   "metadata": {
    "cell_id": "8079d39c-90b9-4655-afaa-5d1506ffc0f3",
    "owner_user_id": "6a7e8ca6-ed8d-419b-89ba-6c2bbaa35723",
    "deepnote_cell_type": "markdown",
    "deepnote_cell_height": 391.90625
   }
  },
  {
   "cell_type": "markdown",
   "source": "## Setup",
   "metadata": {
    "cell_id": "00001-cd59845a-8e7f-46ac-93ea-c7c5e81320b5",
    "deepnote_cell_type": "markdown",
    "deepnote_cell_height": 70
   }
  },
  {
   "cell_type": "markdown",
   "source": "The cell below contains imports. It may not be modified!",
   "metadata": {
    "cell_id": "00002-1fa65f9b-9a14-4ced-8f02-4b511cec4c5c",
    "deepnote_cell_type": "markdown",
    "deepnote_cell_height": 52.390625
   }
  },
  {
   "cell_type": "code",
   "metadata": {
    "cell_id": "00003-15e9db04-19c1-429f-89d2-c6097964c439",
    "deepnote_to_be_reexecuted": false,
    "source_hash": "3e3e73fd",
    "execution_start": 1650975908536,
    "execution_millis": 5,
    "deepnote_cell_type": "code",
    "deepnote_cell_height": 225
   },
   "source": "# DO NOT MODIFY\nimport pandas as pd\nimport numpy as np\nimport scipy.stats as st\n\nSEED = 150\nITERATIONS = 5\nK = 100\nT = 10000",
   "execution_count": null,
   "outputs": []
  },
  {
   "cell_type": "markdown",
   "source": "The cell below contains the bandit environment and may not be modified!",
   "metadata": {
    "cell_id": "00004-45c2e8a5-2212-4ade-be17-b20ca7af89d6",
    "deepnote_cell_type": "markdown",
    "deepnote_cell_height": 52.390625
   }
  },
  {
   "cell_type": "code",
   "metadata": {
    "cell_id": "00005-91e3765f-d5d9-41ff-8143-072de3628c18",
    "deepnote_to_be_reexecuted": false,
    "source_hash": "83c1a6d7",
    "execution_start": 1650973215468,
    "execution_millis": 5,
    "deepnote_cell_type": "code",
    "deepnote_cell_height": 387
   },
   "source": "# DO NOT MODIFY\nclass Environment:\n    def __init__(self, K=10, seed=0):\n        self.random_state = np.random.RandomState(seed=seed)\n        #print(\"environment seed:\", self.random_state)\n        self.mu = st.beta.rvs(a=1, b=1, size=K, random_state=self.random_state)\n        #print(\"environment mu:\",self.mu)\n        \n    def expected_value(self, a):\n        return self.mu[a]\n        \n    def perform_action(self, a):\n        ka = st.bernoulli.rvs(self.mu[a], random_state=self.random_state)\n        #print(\"bernoulli rvs:\",ka)\n        return ka\n        \n    def optimal_action(self):\n        return np.argmax(self.mu)",
   "execution_count": null,
   "outputs": []
  },
  {
   "cell_type": "markdown",
   "source": "The cell below contains the bandit algorithm base class and may not be modified!",
   "metadata": {
    "cell_id": "00006-89329e96-4cc8-4884-898e-569123ca3721",
    "deepnote_cell_type": "markdown",
    "deepnote_cell_height": 52.390625
   }
  },
  {
   "cell_type": "code",
   "metadata": {
    "cell_id": "00007-f48c90ec-e35f-45a8-90ed-8c5ad3aaa3fd",
    "deepnote_to_be_reexecuted": false,
    "source_hash": "cec586a0",
    "execution_start": 1650973215481,
    "execution_millis": 3,
    "deepnote_cell_type": "code",
    "deepnote_cell_height": 189
   },
   "source": "# DO NOT MODIFY\nclass BanditAlgorithmBase:\n    def select_action(self):\n        pass\n    \n    def update(self, action, reward):\n        pass",
   "execution_count": null,
   "outputs": []
  },
  {
   "cell_type": "markdown",
   "source": "The cell below contains the bandit experiment and may not be modified!",
   "metadata": {
    "cell_id": "00008-6ac48d32-f1f4-47e9-9314-47f0c49fdb4b",
    "deepnote_cell_type": "markdown",
    "deepnote_cell_height": 52.390625
   }
  },
  {
   "cell_type": "code",
   "metadata": {
    "cell_id": "00009-75bd6b57-1784-4ed8-8e7d-dbe01786b53e",
    "deepnote_to_be_reexecuted": false,
    "source_hash": "d06e8f8f",
    "execution_start": 1650973215490,
    "execution_millis": 46,
    "deepnote_cell_type": "code",
    "deepnote_cell_height": 405
   },
   "source": "# DO NOT MODIFY\nclass Experiment:\n    def __init__(self, environment, bandit_algorithm):\n        self.environment = environment\n        self.bandit_algorithm = bandit_algorithm\n        \n    def run_experiment(self, T=100):\n        instant_regrets = np.zeros(T)\n        for t in range(0, T):\n            action = self.bandit_algorithm.select_action()\n            reward = self.environment.perform_action(action)\n            self.bandit_algorithm.update(action, reward)\n            \n            optimal_action = self.environment.optimal_action()\n            instant_regret = self.environment.expected_value(optimal_action) - self.environment.expected_value(action)\n            instant_regrets[t] = instant_regret\n        cumulative_regrets = np.cumsum(instant_regrets)\n        return (instant_regrets, cumulative_regrets)\n            ",
   "execution_count": null,
   "outputs": []
  },
  {
   "cell_type": "markdown",
   "source": "The cell below contains a function for repeated experiments with a provided bandit algorithm, averaging regret over the runs. It may not be modified!",
   "metadata": {
    "cell_id": "00010-90ec47c4-9bcd-4754-8a10-3c2549e15c45",
    "deepnote_cell_type": "markdown",
    "deepnote_cell_height": 74.78125
   }
  },
  {
   "cell_type": "code",
   "metadata": {
    "cell_id": "00011-6b4c883d-0bbb-4678-b220-609a7c98ff28",
    "deepnote_to_be_reexecuted": false,
    "source_hash": "ceb65d78",
    "execution_start": 1650973215536,
    "execution_millis": 0,
    "deepnote_cell_type": "code",
    "deepnote_cell_height": 351
   },
   "source": "# DO NOT MODIFY\ndef run_repeated_experiments(bandit_algorithm_class, seed):\n    instant_regrets = []\n    cumulative_regrets = []\n    for i in range(ITERATIONS):\n        bandit_algorithm = bandit_algorithm_class(T, K)\n        environment = Environment(K, seed+i+1)\n        experiment = Experiment(environment, bandit_algorithm)\n\n        instant_regrets_i, cumulative_regrets_i = experiment.run_experiment(T)\n        instant_regrets.append(instant_regrets_i)\n        cumulative_regrets.append(cumulative_regrets_i)\n    return pd.DataFrame(data={'t': np.arange(1, T+1),\n                             'instant_regret': np.mean(np.vstack(np.array(instant_regrets)), axis=0),\n                             'regret': np.mean(np.vstack(np.array(cumulative_regrets)), axis=0)})\n",
   "execution_count": null,
   "outputs": []
  },
  {
   "cell_type": "markdown",
   "source": "## Stochastic Bandits (Chapter 1)",
   "metadata": {
    "cell_id": "00012-91f9b61b-ee76-4593-bf90-91d8e2649cc9",
    "deepnote_cell_type": "markdown",
    "deepnote_cell_height": 70
   }
  },
  {
   "cell_type": "markdown",
   "source": "### Problem 1 \n(3 points)\n\nImplement the *Explore-First* algorithm (**Algorithm 1.1** in [Bandits]) within the provided bandit algorithm template below. Use $N = \\left(\\frac{T}{K}\\right)^{2/3} \\cdot \\left( \\log T \\right)^{1/3}$.",
   "metadata": {
    "cell_id": "00013-d502dccb-58e2-40e5-9daf-4dd2fb045e82",
    "deepnote_cell_type": "markdown",
    "deepnote_cell_height": 162.65625
   }
  },
  {
   "cell_type": "code",
   "metadata": {
    "cell_id": "00014-9c879a9e-e2b9-46c8-acd2-9fe3a9680b0f",
    "deepnote_to_be_reexecuted": false,
    "source_hash": "eeb8decf",
    "execution_start": 1650973215577,
    "execution_millis": 339144133,
    "allow_embed": "code_output",
    "deepnote_cell_type": "code",
    "deepnote_cell_height": 1197
   },
   "source": "class ExploreFirst(BanditAlgorithmBase):\n    def __init__(self, T, K):\n        \"\"\"\n        Constructor of the bandit algorithm\n\n        Parameters\n        ----------\n        T : int\n            Horizon\n        K : int\n            Number of actions\n        \"\"\"\n        \n        # FILL IN CODE HERE\n        self.T = T\n        self.K = K\n        #self.reward_list = [[0,0]]*K\n        self.reward_list = np.zeros((K,2),dtype=\"int32\")\n        self.N = np.round((self.T/self.K)**(2/3)*(np.log(self.T)**(1/3)))\n        self.action = -1\n        self.best_action = None\n\n        pass\n    \n    def select_action(self):\n        \"\"\"\n        Select an action which will be performed in the environment in the \n        current time step\n\n        Returns\n        -------\n        An action index (integer) in [0, K-1]\n        \"\"\"\n        \n        # FILL IN CODE HERE\n\n        if self.action < self.N*self.K:\n            self.action += 1\n            return self.action % self.K\n        elif self.best_action is None :\n            average_reward_list = [reward / visits for [visits,reward] in self.reward_list]\n            self.best_action = np.argmax(average_reward_list)\n\n        return self.best_action\n    \n    def update(self, action, reward):\n        \"\"\"\n        Update the bandit algorithm with the reward received from the \n        environment for the action performed in the current time step\n\n        Parameters\n        ----------\n        action : int\n            An action index (integer) in [0, K-1]\n        reward : int\n            Reward (integer) in {0, 1} (Bernoulli rewards)\n\n        \"\"\"\n        \n        # FILL IN CODE HERE\n        self.reward_list[action,0] += 1\n        self.reward_list[action,1] += reward\n",
   "execution_count": null,
   "outputs": []
  },
  {
   "cell_type": "markdown",
   "source": "Run the algorithm in the provided environment using the code below (averaging regret over 5 runs). The exploration and exploitation phases should be clearly visible in the plot.",
   "metadata": {
    "cell_id": "00015-d6d4713d-321f-4149-b0ca-32cbe7e8cf23",
    "deepnote_cell_type": "markdown",
    "deepnote_cell_height": 74.78125
   }
  },
  {
   "cell_type": "code",
   "metadata": {
    "cell_id": "00016-d840d859-b36e-4859-ba24-48eab1555b2b",
    "deepnote_to_be_reexecuted": false,
    "source_hash": "d33aab0c",
    "execution_start": 1650973215578,
    "execution_millis": 7713,
    "allow_embed": true,
    "deepnote_cell_type": "code",
    "deepnote_cell_height": 483.1875,
    "deepnote_output_heights": [
     21.1875,
     280
    ]
   },
   "source": "# DO NOT MODIFY\nnp.random.seed(SEED)\nef_df = run_repeated_experiments(ExploreFirst, SEED)\nef_df.plot(x='t', y='regret', title='Explore-First')",
   "execution_count": null,
   "outputs": [
    {
     "output_type": "execute_result",
     "execution_count": 7,
     "data": {
      "text/plain": "<AxesSubplot:title={'center':'Explore-First'}, xlabel='t'>"
     },
     "metadata": {}
    },
    {
     "data": {
      "text/plain": "<Figure size 432x288 with 1 Axes>",
      "image/png": "[encoded data removed]"
     },
     "metadata": {
      "needs_background": "light",
      "image/png": {
       "width": 381,
       "height": 278
      }
     },
     "output_type": "display_data"
    }
   ]
  },
  {
   "cell_type": "markdown",
   "source": "### Problem 2\n(3 points) \n\nImplement the $ \\epsilon_t $-*Greedy* algorithm (**Algorithm 1.2** in [Bandits]) within the provided bandit algorithm template below. Use $\\epsilon_t = \\min \\left\\{1,\\ t^{-1/3} \\cdot (K \\log t)^{1/3}\\right\\} $.",
   "metadata": {
    "cell_id": "00017-b946f3f6-efd3-4b70-81c8-c0450977a630",
    "deepnote_cell_type": "markdown",
    "deepnote_cell_height": 159.171875
   }
  },
  {
   "cell_type": "code",
   "metadata": {
    "cell_id": "00018-66acea51-417b-40e0-9f50-a06900485612",
    "deepnote_to_be_reexecuted": false,
    "source_hash": "d683e987",
    "execution_start": 1650973223295,
    "execution_millis": 61,
    "deepnote_cell_type": "code",
    "deepnote_cell_height": 1449
   },
   "source": "class EpsilonTGreedy(BanditAlgorithmBase):\n    def __init__(self, T, K):\n        \"\"\"\n        Constructor of the bandit algorithm\n\n        Parameters\n        ----------\n        T : int\n            Horizon\n        K : int\n            Number of actions\n        \"\"\"\n        \n        # FILL IN CODE HERE\n        self.T = T\n        self.K = K\n        #self.reward_list = [[0,0]]*K\n        self.reward_list = np.zeros((K,2),dtype=\"int32\")\n        self.eps = 0\n        self.t = 0\n      \n\n        pass\n    \n    def select_action(self):\n        \"\"\"\n        Select an action which will be performed in the environment in the \n        current time step\n\n        Returns\n        -------\n        An action index (integer) in [0, K-1]\n        \"\"\"\n        \n        # FILL IN CODE HERE\n        toss = st.bernoulli.rvs(1-self.eps)\n       # print(toss)\n        if toss:\n            return np.random.randint(K)\n        else:\n            average_reward_list = []\n            #print(self.reward_list)\n            for i in range(len(self.reward_list)):\n                if self.reward_list[i,0] == 0:\n                  #  print(\"random\",i)\n                    average_reward_list.append(0)\n                else:\n                    visits = self.reward_list[i,0]\n                  #  print(\"exploit\",i)\n                    avg_reward = self.reward_list[i,1]\n                    average_reward_list.append(avg_reward/visits)\n                    \n           # average_reward_list = [reward / visits for [visits,reward] in self.reward_list\n           #                                        if visits > 0 else 0]\n            \n            return np.argmax(average_reward_list)\n    \n    def update(self, action, reward):\n        \"\"\"\n        Update the bandit algorithm with the reward received from the \n        environment for the action performed in the current time step\n\n        Parameters\n        ----------\n        action : int\n            An action index (integer) in [0, K-1]\n        reward : int\n            Reward (integer) in {0, 1} (Bernoulli rewards)\n\n        \"\"\"\n        \n        # FILL IN CODE HERE\n        self.t += 1\n        self.eps = min(1,self.t**(-1/3)*(self.K*np.log(self.t))**(1/3))\n        #print(\"eps:\",self.eps)\n        self.reward_list[action,0] += 1\n        self.reward_list[action,1] += reward",
   "execution_count": null,
   "outputs": []
  },
  {
   "cell_type": "markdown",
   "source": "Run the algorithm in the provided environment using the code below (averaging regret over 5 runs). The plot should show sublinear regret with respect to $t$.",
   "metadata": {
    "cell_id": "00019-5100b1fc-c182-4b27-a224-42fbf16d2c16",
    "deepnote_cell_type": "markdown",
    "deepnote_cell_height": 74.78125
   }
  },
  {
   "cell_type": "code",
   "metadata": {
    "cell_id": "00020-5d86664b-004c-4d45-ae1e-f81f97319909",
    "deepnote_to_be_reexecuted": false,
    "source_hash": "b886eafa",
    "execution_start": 1650973223356,
    "execution_millis": 22492,
    "deepnote_cell_type": "code",
    "deepnote_cell_height": 483.1875,
    "deepnote_output_heights": [
     21.1875,
     280
    ]
   },
   "source": "# DO NOT MODIFY\nnp.random.seed(SEED)\neg_df = run_repeated_experiments(EpsilonTGreedy, SEED)\neg_df.plot(x='t', y='regret', title='Epsilon_t-Greedy')",
   "execution_count": null,
   "outputs": [
    {
     "output_type": "execute_result",
     "execution_count": 9,
     "data": {
      "text/plain": "<AxesSubplot:title={'center':'Epsilon_t-Greedy'}, xlabel='t'>"
     },
     "metadata": {}
    },
    {
     "data": {
      "text/plain": "<Figure size 432x288 with 1 Axes>",
      "image/png": "[encoded data removed]"
     },
     "metadata": {
      "needs_background": "light",
      "image/png": {
       "width": 381,
       "height": 278
      }
     },
     "output_type": "display_data"
    }
   ]
  },
  {
   "cell_type": "markdown",
   "source": "### Problem 3\n(3 points) \n\nImplement the UCB1 algorithm (**Algorithm 1.5** in [Bandits]) within the provided bandit algorithm template below.",
   "metadata": {
    "cell_id": "00021-9797b8d7-220d-4ae5-8ca6-39b5ade75514",
    "deepnote_cell_type": "markdown",
    "deepnote_cell_height": 136.78125
   }
  },
  {
   "cell_type": "code",
   "metadata": {
    "cell_id": "00022-6c5435d3-dccd-4ef7-bea3-2f221d0c041b",
    "deepnote_to_be_reexecuted": false,
    "source_hash": "9a214d6",
    "execution_start": 1650973245855,
    "execution_millis": 1,
    "deepnote_cell_type": "code",
    "deepnote_cell_height": 1341
   },
   "source": "class UCB1(BanditAlgorithmBase):\n    def __init__(self, T, K):\n        \"\"\"\n        Constructor of the bandit algorithm\n\n        Parameters\n        ----------\n        T : int\n            Horizon\n        K : int\n            Number of actions\n        \"\"\"\n        \n        # FILL IN CODE HERE\n        \n        self.T = T\n        self.K = K\n        self.reward_list = np.zeros((K,2),dtype=\"int32\")\n        self.action_counter = -1\n        pass\n    \n    def select_action(self):\n        \"\"\"\n        Select an action which will be performed in the environment in the \n        current time step\n\n        Returns\n        -------\n        An action index (integer) in [0, K-1]\n        \"\"\"\n        \n        # FILL IN CODE HERE\n\n        self.action_counter += 1\n        if self.action_counter < self.K:\n            return self.action_counter\n\n        average_reward_list = []\n        for i in range(len(self.reward_list)):\n                if self.reward_list[i,0] == 0:\n                  #  print(\"random\",i)\n                    average_reward_list.append(0)\n                else:\n                    visits = self.reward_list[i,0]\n                  #  print(\"exploit\",i)\n                    avg_reward = self.reward_list[i,1]\n                    average_reward_list.append(avg_reward/visits)\n\n        confidence_bounds = [np.sqrt(2*np.log(T)/self.reward_list[a,0]) for a in range(self.K)]\n        UCB = [average_reward_list[a] + confidence_bounds[a] for a in range(self.K)]\n\n        return np.argmax(UCB)\n    \n    def update(self, action, reward):\n        \"\"\"\n        Update the bandit algorithm with the reward received from the \n        environment for the action performed in the current time step\n\n        Parameters\n        ----------\n        action : int\n            An action index (integer) in [0, K-1]\n        reward : int\n            Reward (integer) in {0, 1} (Bernoulli rewards)\n\n        \"\"\"\n        \n        # FILL IN CODE HERE\n        self.reward_list[action,0] += 1\n        self.reward_list[action,1] += reward\n        pass",
   "execution_count": null,
   "outputs": []
  },
  {
   "cell_type": "markdown",
   "source": "Run the algorithm in the provided environment using the code below (averaging regret over 5 runs). The plot should show sublinear regret with respect to $t$.",
   "metadata": {
    "cell_id": "00023-d72fd03b-4839-4a9f-bbf9-6bc670af1fa7",
    "deepnote_cell_type": "markdown",
    "deepnote_cell_height": 74.78125
   }
  },
  {
   "cell_type": "code",
   "metadata": {
    "cell_id": "00024-540ec993-ca38-425d-b709-70325c72e545",
    "deepnote_to_be_reexecuted": false,
    "source_hash": "ce59d3cd",
    "execution_start": 1650973245862,
    "execution_millis": 41717,
    "deepnote_cell_type": "code",
    "deepnote_cell_height": 483.1875,
    "deepnote_output_heights": [
     21.1875,
     280
    ]
   },
   "source": "# DO NOT MODIFY\nnp.random.seed(SEED)\nucb1_df = run_repeated_experiments(UCB1, SEED)\nucb1_df.plot(x='t', y='regret', title='UCB1')",
   "execution_count": null,
   "outputs": [
    {
     "output_type": "execute_result",
     "execution_count": 11,
     "data": {
      "text/plain": "<AxesSubplot:title={'center':'UCB1'}, xlabel='t'>"
     },
     "metadata": {}
    },
    {
     "data": {
      "text/plain": "<Figure size 432x288 with 1 Axes>",
      "image/png": "[encoded data removed]"
     },
     "metadata": {
      "needs_background": "light",
      "image/png": {
       "width": 382,
       "height": 278
      }
     },
     "output_type": "display_data"
    }
   ]
  },
  {
   "cell_type": "markdown",
   "source": "### Problem 4\n(9 points) \n\nThis theory problem is based on **Exercise 1.1** in [Bandits]. The proofs in **Chapter 1** consider environments where the rewards are in the interval $[0,1]$. Consider the case when we have additional knowledge about about the problem and that we know that the rewards for each action are in the interval $\\left[\\frac{1}{2}, \\frac{1}{2} + \\epsilon\\right]$ for some fixed $\\epsilon \\in \\left(0, \\frac{1}{2}\\right)$. \n\nConsider a version of $\\text{UCB1}$ modified to utilize this knowledge (you do not need to specify the algorithm completely, just define the new confidence radius $r_t(a)$). For this algorithm and problem setting, prove that:\n\n$\\mathbb{E}\\left[R(t)\\right] \\leq \\frac{2 t}{T^2} + 2 \\epsilon \\sqrt{2 K t \\log T}$\n\n**Hint:** Use a version of Hoeffding Inequality with ranges (**Theorem A.2** in the [Bandits] book) to modify the confidence radius $r_t(a)$. Subsequently follow the steps of the analysis leading up to **Theorem 1.14** in [Bandits] to derive the regret bound, though show the actual constants instead of using big O notation:\n\n1. Define the clean event, like in **Section 1.3.1**, and bound the probability of the event.\n2. Start with the definition of the regret $\\mathbb{E}\\left[R(t)\\right]$, and perform a regret decomposition like on **Page 11** of **Section 1.3.2**.\n3. Bound the *gap* $\\Delta (a)$, like in **Section 1.3.3**.\n4. Complete the proof using the technique on **Page 12** of **Section 1.3.2**.\n\n*Write the solution in the Markdown cell below (use LaTeX-math mode for equations, etc.).*",
   "metadata": {
    "cell_id": "00025-71fab2ce-a08a-46a4-9b8e-8cbbb8edecdf",
    "owner_user_id": "f1317063-6fda-4c97-bdcf-ff6aa8d1336c",
    "deepnote_cell_type": "markdown",
    "deepnote_cell_height": 506.859375
   }
  },
  {
   "cell_type": "markdown",
   "source": "#### Solution",
   "metadata": {
    "cell_id": "00026-0e319733-41a5-4091-816e-443bb8b88f89",
    "deepnote_cell_type": "markdown",
    "deepnote_cell_height": 54
   }
  },
  {
   "cell_type": "markdown",
   "source": "##### Calculating the new confidence radius\n\nFrom A.2 a):\n\n$$X_i \\in [a_i,b_i] \\quad \\forall \\, i \\in [n], \\: and \\quad \\beta = \\dfrac{1}{n} \\sum_{i \\in [n]} (b_i - a_i)^2$$\n\nIn our case the bounds are $X_i \\in [\\frac{1}{2},\\frac{1}{2} + \\epsilon]$, so $a_i = \\frac{1}{2}, b_i = \\frac{1}{2} + \\epsilon$\n\nThe Hoeffding inequality holds for the bounds given $\\beta$ above.\n\nInserting $\\alpha = 2$ and $\\beta$ as above, the new confidence radius becomes $r_n = \\sqrt{\\frac{\\alpha \\beta \\, log \\, T}{n}} = \\sqrt{\\frac{2\\sum_{n} (\\epsilon^2) \\: log \\, T}{n^2}} = \\sqrt{\\frac{2\\epsilon^2 \\: log \\, T}{n}}$\n\n##### 1. Deriving the clean event and bound of probability\n\n$$\\mathrm{Pr}(|\\bar v_j(a) - \\mu (a)| \\leq r_t(a)) \\geq 2e^{-\\frac{2t^2}{\\sum_{i=1}^n (b_i-a_i)^2}} = 2e^{-\\frac{2t^2}{n\\epsilon^2}} $$\n\n##### 2. Regret decomposition\n\n$$\\mathbb{E}[R(t)] = \\mathbb{E}[R(t)|\\mathrm{clean \\; event}] \\times \\mathrm{Pr[clean \\; event]} + \\mathbb{E}[R(t)|\\mathrm{bad \\; event}] \\times \\mathrm{Pr[bad \\; event]} $$",
   "metadata": {
    "cell_id": "00027-ac49fe88-37c2-4ed2-bc41-f2a3ed8c62fc",
    "deepnote_cell_type": "markdown",
    "deepnote_cell_height": 905.640625
   }
  },
  {
   "cell_type": "markdown",
   "source": "## Bayesian Bandits (Chapter 3)",
   "metadata": {
    "cell_id": "00028-1beebd71-0f1b-4167-aceb-ece1132ae1fc",
    "deepnote_cell_type": "markdown",
    "deepnote_cell_height": 70
   }
  },
  {
   "cell_type": "markdown",
   "source": "### Problem 5\n(3 points)\n\nImplement the *Thompson Sampling* algorithm (**Algorithm 3.3** in [Bandits]) within the provided bandit algorithm template below. Assume independent priors and that the prior is $\\mathbb{P} = \\text{Beta}(\\alpha_0, \\beta_0)$ with $\\alpha_0 = 1$ and $\\beta_0 = 1$ (i.e. the **Beta-Bernoulli** setting, on **page 35** in [Bandits]).\n\n**Note:** There is a typo in the expression for the posterior $\\mathbb{P}_H$ in [Bandits]. It should be $\\text{Beta}(\\alpha_0 + \\text{REW}_H,\\ \\beta_0 + t - \\text{REW}_H)$.",
   "metadata": {
    "cell_id": "00029-fc88e538-2275-4981-9b66-729a86893484",
    "deepnote_cell_type": "markdown",
    "deepnote_cell_height": 217.953125
   }
  },
  {
   "cell_type": "code",
   "metadata": {
    "cell_id": "00030-e5873c6b-678a-4050-abd7-15261f820b7a",
    "deepnote_to_be_reexecuted": false,
    "source_hash": "268baf73",
    "execution_start": 1650975914008,
    "execution_millis": 1,
    "deepnote_cell_type": "code",
    "deepnote_cell_height": 1089
   },
   "source": "class ThompsonSampling(BanditAlgorithmBase):\n    def __init__(self, T, K):\n        \"\"\"\n        Constructor of the bandit algorithm\n\n        Parameters\n        ----------\n        T : int\n            Horizon\n        K : int\n            Number of actions\n        \"\"\"\n        \n        # FILL IN CODE HERE\n        self.alpha = np.ones((K,1),dtype=\"int32\")\n        self.beta = np.ones((K,1),dtype=\"int32\")\n\n        pass\n    \n    def select_action(self):\n        \"\"\"\n        Select an action which will be performed in the environment in the \n        current time step\n\n        Returns\n        -------\n        An action index (integer) in [0, K-1]\n        \"\"\"\n        \n        # FILL IN CODE HERE\n        \n        max_mean = 0\n        for i in range(len(self.alpha)):\n            mean = st.beta.rvs(self.alpha[i],self.beta[i])\n            if mean > max_mean:\n                max_mean = mean\n                arm = i\n        return arm\n    \n    def update(self, action, reward):\n        \"\"\"\n        Update the bandit algorithm with the reward received from the \n        environment for the action performed in the current time step\n\n        Parameters\n        ----------\n        action : int\n            An action index (integer) in [0, K-1]\n        reward : int\n            Reward (integer) in {0, 1} (Bernoulli rewards)\n\n        \"\"\"\n        \n        # FILL IN CODE HERE\n        self.alpha[action] += reward\n        self.beta[action] += 1 - reward\n        pass",
   "execution_count": null,
   "outputs": []
  },
  {
   "cell_type": "markdown",
   "source": "Run the algorithm in the provided environment using the code below (averaging regret over 5 runs). The plot should show sublinear regret with respect to $t$.",
   "metadata": {
    "cell_id": "00031-cbe66f2d-265a-4a1c-832d-b537ac642fb4",
    "deepnote_cell_type": "markdown",
    "deepnote_cell_height": 74.78125
   }
  },
  {
   "cell_type": "code",
   "metadata": {
    "cell_id": "00032-b70639f3-8e1a-4613-afb7-f9f1b739e78a",
    "deepnote_to_be_reexecuted": false,
    "source_hash": "c45752dc",
    "execution_start": 1650975915889,
    "execution_millis": 372572,
    "deepnote_cell_type": "code",
    "deepnote_cell_height": 483.1875,
    "deepnote_output_heights": [
     21.1875,
     280
    ]
   },
   "source": "# DO NOT MODIFY\nnp.random.seed(SEED)\nts_df = run_repeated_experiments(ThompsonSampling, SEED)\nts_df.plot(x='t', y='regret', title='Thompson Sampling')",
   "execution_count": null,
   "outputs": [
    {
     "output_type": "execute_result",
     "execution_count": 48,
     "data": {
      "text/plain": "<AxesSubplot:title={'center':'Thompson Sampling'}, xlabel='t'>"
     },
     "metadata": {}
    },
    {
     "data": {
      "text/plain": "<Figure size 432x288 with 1 Axes>",
      "image/png": "[encoded data removed]"
     },
     "metadata": {
      "needs_background": "light",
      "image/png": {
       "width": 375,
       "height": 278
      }
     },
     "output_type": "display_data"
    }
   ]
  },
  {
   "cell_type": "markdown",
   "source": "### Problem 6\n(3 points)\n\nIn this theory problem, you will show an intermediary step in the proof for the Bayesian regret bound of *Thompson Sampling* in the [Bandits] book.\n\nUse the confidence radius and confidence bounds from (3.13). You may assume that properties (3.14) and (3.15) hold for these with $\\gamma = 2$ (you do not have to prove this). Given that **Lemma 3.11** holds (i.e. that the Bayesian regret of *Thompson Sampling* is bounded such that $\\text{BR}(T) \\leq 2\\gamma + 2 \\sum_{t=1}^T \\mathbb{E}\\left[r(a_t, H_t)\\right]$), show that:\n\n$$ \\text{BR}(T) \\leq O\\left(\\sqrt{\\log T}\\right) \\sum_{t=1}^T \\mathbb{E}\\left[\\frac{1}{\\sqrt{n_t(a_t)}}\\right] $$\n\n**Note:** This task is fairly straightforward, the purpose is to demonstrate comprehension of the material.\n\n*Write the solution in the Markdown cell below (use LaTeX-math mode for equations, etc.).*",
   "metadata": {
    "cell_id": "00033-59ff3678-d54d-4fc6-be73-7e52f6bbb92e",
    "deepnote_cell_type": "markdown",
    "deepnote_cell_height": 368.40625
   }
  },
  {
   "cell_type": "markdown",
   "source": "#### Solution",
   "metadata": {
    "cell_id": "00034-a77b0745-d386-4acb-a6c2-d8b5d50e6cf6",
    "deepnote_cell_type": "markdown",
    "deepnote_cell_height": 54
   }
  },
  {
   "cell_type": "markdown",
   "source": "Confidence radius:\n\n$$ r_t(a) = \\sqrt{2*\\frac{log(T)}{n_t(a_t)}}$$\n\n$$ \\text{BR}(T) \\leq 2\\gamma + 2\\sum_{t=1}^T \\mathbb{E} \\left[r(a_t, H_t)\\right]$$\n\nInserting gamma = 2 and the confidence radius:\n\n$$ \\text{BR}(T) \\leq 4 + 2\\sum_{t=1}^T \\mathbb{E} \\left[\\sqrt{2*\\frac{\\log T}{n_t(a_t)}}\\right]$$\n\nMove constants out of expectation and summation:\n\n$$ \\text{BR}(T) \\leq 4 + 2\\sqrt{2 \\, \\log T}\\sum_{t=1}^T \\mathbb{E} \\left[\\frac{1}{\\sqrt{n_t(a_t)}}\\right]$$\n\nDo big-O notation:\n\n$$ \\text{BR}(T) \\leq O\\left(\\sqrt{\\log T}\\right)\\sum_{t=1}^T \\mathbb{E} \\left[\\frac{1}{\\sqrt{n_t(a_t)}}\\right]$$",
   "metadata": {
    "cell_id": "00035-d87f3ad3-531f-45d1-8b58-feabc523faf2",
    "deepnote_cell_type": "markdown",
    "deepnote_cell_height": 398.234375
   }
  },
  {
   "cell_type": "markdown",
   "source": "<a style='text-decoration:none;line-height:16px;display:flex;color:#5B5B62;padding:10px;justify-content:end;' href='https://deepnote.com?utm_source=created-in-deepnote-cell&projectId=0c30810f-bb18-49c3-9881-ab491b995d80' target=\"_blank\">\n<img alt='Created in deepnote.com' style='display:inline;max-height:16px;margin:0px;margin-right:7.5px;' src='data:image/svg+xml;base64,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' > </img>\nCreated in <span style='font-weight:600;margin-left:4px;'>Deepnote</span></a>",
   "metadata": {
    "tags": [],
    "created_in_deepnote_cell": true,
    "deepnote_cell_type": "markdown"
   }
  }
 ],
 "nbformat": 4,
 "nbformat_minor": 4,
 "metadata": {
  "kernelspec": {
   "display_name": "Python 3",
   "language": "python",
   "name": "python3"
  },
  "language_info": {
   "codemirror_mode": {
    "name": "ipython",
    "version": 3
   },
   "file_extension": ".py",
   "mimetype": "text/x-python",
   "name": "python",
   "nbconvert_exporter": "python",
   "pygments_lexer": "ipython3",
   "version": "3.8.5"
  },
  "deepnote_notebook_id": "f80e1aba-bc6b-4d54-8f49-90088e409bff",
  "deepnote": {},
  "deepnote_execution_queue": []
 }
}