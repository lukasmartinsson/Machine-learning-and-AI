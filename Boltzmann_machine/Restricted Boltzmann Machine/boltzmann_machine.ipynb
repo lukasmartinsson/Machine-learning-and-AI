{
 "cells": [
  {
   "cell_type": "code",
   "execution_count": 1,
   "metadata": {},
   "outputs": [],
   "source": [
    "import numpy as np\n",
    "import matplotlib.pyplot as plt"
   ]
  },
  {
   "cell_type": "code",
   "execution_count": 2,
   "metadata": {},
   "outputs": [],
   "source": [
    "x1 = np.array([-1, -1, -1])\n",
    "x2 = np.array([1, -1, 1])\n",
    "x3 = np.array([-1, 1, 1])\n",
    "x4 = np.array([1, 1, -1])\n",
    "x5 = np.array([1, 1, 1])\n",
    "x6 = np.array([1, -1, -1])\n",
    "x7 = np.array([-1, 1, -1])\n",
    "x8 = np.array([-1, -1, 1])\n",
    "\n",
    "p = np.array([x1, x2, x3, x4, x5, x6, x7, x8])\n",
    "p_d = np.array([1/4, 1/4, 1/4, 1/4, 0, 0, 0, 0])"
   ]
  },
  {
   "cell_type": "code",
   "execution_count": 3,
   "metadata": {},
   "outputs": [],
   "source": [
    "def stochastic_update(b):\n",
    "    random_numbers = np.random.uniform(0,1, size = (b.shape))\n",
    "    b = 1/(1+np.exp(-2*b))\n",
    "    return np.where(random_numbers < b, 1 , -1)"
   ]
  },
  {
   "cell_type": "code",
   "execution_count": 4,
   "metadata": {},
   "outputs": [],
   "source": [
    "def rbm_training(w, theta_v, theta_h, trials, mini_batch, cd_k, eta, hidden_neurons, pattern = p):\n",
    "    #Loop over trials\n",
    "    for _ in range(trials):\n",
    "        delta_w = np.zeros((hidden_neurons, 3))\n",
    "        delta_theta_v = np.zeros((1,3))\n",
    "        delta_theta_h = np.zeros((hidden_neurons,1))\n",
    "        \n",
    "        #Loop over mini batches\n",
    "        for _ in range(mini_batch):\n",
    "\n",
    "            #Pick a random pattern\n",
    "            random_pattern = np.random.randint(0,4)\n",
    "            v= p[random_pattern].reshape(1,3)\n",
    "            v_0 = p[random_pattern].reshape(1,3)\n",
    "\n",
    "            b_h = np.subtract(np.dot(w, v.T), theta_h)\n",
    "            b_h_0 = np.subtract(np.dot(w, v.T), theta_h)\n",
    "            h = stochastic_update(b_h)\n",
    "\n",
    "            #Loop over CD_k\n",
    "            for _ in range(cd_k):\n",
    "\n",
    "                b_v = np.subtract(np.dot(h.T, w), theta_v)\n",
    "                v = stochastic_update(b_v)\n",
    "\n",
    "                b_h = np.subtract(np.dot(w, v.T), theta_h)\n",
    "                h = stochastic_update(b_h)\n",
    "\n",
    "            delta_w += eta * (np.tanh(b_h_0) * v_0 - np.tanh(b_h) * v) \n",
    "            delta_theta_v -= eta * (v_0 - v)\n",
    "            delta_theta_h -= eta * (np.tanh(b_h_0) - np.tanh(b_h))\n",
    "\n",
    "        w += delta_w\n",
    "        theta_v += delta_theta_v\n",
    "        theta_h += delta_theta_h\n",
    "    return w, theta_v, theta_h"
   ]
  },
  {
   "cell_type": "code",
   "execution_count": 5,
   "metadata": {},
   "outputs": [],
   "source": [
    "def rbm_test(w, theta_v, theta_h, n_out, n_in, pattern = p):\n",
    "\n",
    "    p_b = np.array([0,0,0,0,0,0,0,0], dtype=float)\n",
    "    \n",
    "    for _ in range(n_out):\n",
    "\n",
    "        random_pattern = np.random.randint(0,8)\n",
    "\n",
    "        x = p[random_pattern].reshape(1,3)\n",
    "        b_h = np.subtract(np.dot(w, x.T), theta_h)\n",
    "        h = stochastic_update(b_h)\n",
    "\n",
    "        for _ in range(n_in):\n",
    "\n",
    "            b_v = np.subtract(np.dot(h.T, w), theta_v)\n",
    "            v = stochastic_update(b_v)\n",
    "\n",
    "            b_h = np.subtract(np.dot(w, v.T), theta_h)\n",
    "            h = stochastic_update(b_h)\n",
    "\n",
    "            pattern = int(np.where([np.array_equal(p[i], v[0]) for i in range(8)])[0])\n",
    "            p_b[pattern] += 1/(n_out*n_in)\n",
    "    \n",
    "    log_p_b = np.log(p_b, out = np.zeros_like(p_b), where = (p_b != 0))\n",
    "    log_p_d = np.log(p_d, out = np.zeros_like(p_d), where = (p_d != 0))\n",
    "    delta_d_kl = np.dot(p_d, np.subtract(log_p_d, log_p_b))\n",
    "    \n",
    "    return delta_d_kl"
   ]
  },
  {
   "cell_type": "code",
   "execution_count": 9,
   "metadata": {},
   "outputs": [
    {
     "name": "stdout",
     "output_type": "stream",
     "text": [
      "Dimension m: 1\n",
      "0.7098916158155216\n",
      "0.7017289653251189\n",
      "0.6983699059987657\n",
      "0.6967598073106058\n",
      "0.6976513100790115\n",
      "Dimension m: 2\n",
      "0.5393180324376419\n",
      "0.4812650324086118\n",
      "0.41977101791981436\n",
      "0.42250787530121453\n",
      "0.44484892230622314\n",
      "Dimension m: 4\n",
      "0.26385347978356705\n",
      "0.11643517066020304\n",
      "0.11999251998263938\n",
      "0.0731078763869712\n",
      "0.0292911696371575\n",
      "Dimension m: 8\n",
      "0.12785520258648253\n",
      "0.058704944251912805\n",
      "0.08319103925830434\n",
      "0.09068759198586396\n",
      "0.03439077626808362\n"
     ]
    }
   ],
   "source": [
    "m = [1, 2, 4, 8]\n",
    "np.set_printoptions(suppress=True)\n",
    "m_dim = []\n",
    "for i in range(len(m)):\n",
    "    hidden_neurons = m[i]\n",
    "    w = np.random.normal(0,1, size = (hidden_neurons, 3))\n",
    "    theta_v = np.zeros((1,3))\n",
    "    theta_h = np.zeros((hidden_neurons,1))\n",
    "    list_dkl = []\n",
    "    \n",
    "    print('Dimension m:', hidden_neurons)\n",
    "    for _ in range(5):\n",
    "        w, theta_v, theta_h = rbm_training(w, theta_v, theta_h, trials = 100, mini_batch = 20, cd_k = 200, eta = 0.005, hidden_neurons = hidden_neurons)\n",
    "        delta_d_kl = rbm_test(w, theta_v, theta_h, n_out = 1000, n_in = 1000)\n",
    "        list_dkl.append(delta_d_kl)\n",
    "        print(delta_d_kl)\n",
    "    m_dim.append(list_dkl)\n"
   ]
  },
  {
   "cell_type": "code",
   "execution_count": 13,
   "metadata": {},
   "outputs": [
    {
     "data": {
      "text/plain": [
       "[<matplotlib.lines.Line2D at 0x1f8dae713d0>]"
      ]
     },
     "execution_count": 13,
     "metadata": {},
     "output_type": "execute_result"
    },
    {
     "data": {
      "image/png": "[encoded data removed]",
      "text/plain": [
       "<Figure size 640x480 with 1 Axes>"
      ]
     },
     "metadata": {},
     "output_type": "display_data"
    }
   ],
   "source": [
    "plt.plot(m, np.min(m_dim, axis=1), 'ro')\n",
    "n = 3\n",
    "theory = []\n",
    "for j in range(1,9):\n",
    "    if j < 2**(n-1)-1:\n",
    "        theory.append(n - np.floor(np.log2((j+1))) - np.divide((j+1),2**np.floor(np.log2((j+1)))))\n",
    "    else : \n",
    "        theory.append(0)\n",
    "\n",
    "x = [1,2,3,4,5,6,7,8]\n",
    "plt.plot(x, theory)"
   ]
  }
 ],
 "metadata": {
  "kernelspec": {
   "display_name": "Python 3.9.13 ('dml')",
   "language": "python",
   "name": "python3"
  },
  "language_info": {
   "codemirror_mode": {
    "name": "ipython",
    "version": 3
   },
   "file_extension": ".py",
   "mimetype": "text/x-python",
   "name": "python",
   "nbconvert_exporter": "python",
   "pygments_lexer": "ipython3",
   "version": "3.9.13"
  },
  "orig_nbformat": 4,
  "vscode": {
   "interpreter": {
    "hash": "6cb73f00f1a79ec5219b7e12c58ad4323a36ced5025dd310652da15eabb4d3c9"
   }
  }
 },
 "nbformat": 4,
 "nbformat_minor": 2
}
