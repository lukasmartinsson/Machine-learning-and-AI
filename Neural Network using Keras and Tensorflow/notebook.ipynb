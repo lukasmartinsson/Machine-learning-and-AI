{
 "cells": [
  {
   "cell_type": "markdown",
   "source": "# Assignment&nbsp;7:&nbsp;Neural&nbsp;Networks&nbsp;using&nbsp;Keras&nbsp;and&nbsp;Tensorflow&nbsp;",
   "metadata": {
    "tags": [],
    "is_collapsed": false,
    "cell_id": "00000-45dced71-7681-4475-971e-649463295426",
    "deepnote_app_coordinates": {
     "x": 0,
     "y": null,
     "w": 12,
     "h": 2
    },
    "deepnote_cell_type": "text-cell-h1"
   }
  },
  {
   "cell_type": "markdown",
   "source": "\nPlease see the associated document for questions. If you have problems with Keras and Tensorflow on your local installation please make sure they are updated. On Google Colab this notebook runs.",
   "metadata": {
    "id": "rHoSDyYpdh-s",
    "cell_id": "00000-1933ed77-1127-4395-99ec-46b392d40a67",
    "deepnote_app_coordinates": {
     "x": 0,
     "y": 3,
     "w": 12,
     "h": 5
    },
    "deepnote_cell_type": "markdown"
   }
  },
  {
   "cell_type": "code",
   "metadata": {
    "id": "02ZYZ-WmdhwH",
    "cell_id": "00001-5064d858-6f43-4902-b581-b2b7f141480e",
    "deepnote_to_be_reexecuted": false,
    "source_hash": "cf068e77",
    "execution_start": 1634656365555,
    "execution_millis": 8,
    "output_cleared": false,
    "deepnote_app_coordinates": {
     "x": 0,
     "y": 9,
     "w": 12,
     "h": 5
    },
    "deepnote_cell_type": "code"
   },
   "source": "# imports\nfrom __future__ import print_function\nfrom tensorflow import keras\nfrom tensorflow.keras.datasets import mnist\nfrom tensorflow.keras.models import Sequential\nfrom tensorflow.keras.layers import Dense, Dropout, Flatten\nfrom tensorflow.keras.layers import Conv2D, MaxPooling2D\nfrom tensorflow.keras import backend as K\nimport tensorflow as tf\nfrom matplotlib import pyplot as plt",
   "execution_count": 33,
   "outputs": []
  },
  {
   "cell_type": "code",
   "metadata": {
    "id": "BJRCoRmew8Zd",
    "colab": {
     "base_uri": "https://localhost:8080/"
    },
    "outputId": "8a74f963-06c8-4ba7-fb03-889e43dfa15e",
    "cell_id": "00002-bb4f08e7-9e70-4e9e-96f6-e83a1d42e688",
    "deepnote_to_be_reexecuted": false,
    "source_hash": "e6bee98",
    "execution_start": 1634656365570,
    "execution_millis": 360,
    "deepnote_app_coordinates": {
     "x": 0,
     "y": 15,
     "w": 12,
     "h": 5
    },
    "deepnote_cell_type": "code"
   },
   "source": "# Hyper-parameters data-loading and formatting\n\nbatch_size = 128\nnum_classes = 10\nepochs = 10\n\nimg_rows, img_cols = 28, 28\n\n(x_train, lbl_train), (x_test, lbl_test) = mnist.load_data()\n\n\nif K.image_data_format() == \"channels_first\":\n    x_train = x_train.reshape(x_train.shape[0], 1, img_rows, img_cols)\n    x_test = x_test.reshape(x_test.shape[0], 1, img_rows, img_cols)\n    input_shape = (1, img_rows, img_cols)\nelse:\n    x_train = x_train.reshape(x_train.shape[0], img_rows, img_cols, 1)\n    x_test = x_test.reshape(x_test.shape[0], img_rows, img_cols, 1)\n    input_shape = (img_rows, img_cols, 1)",
   "execution_count": 34,
   "outputs": []
  },
  {
   "cell_type": "markdown",
   "source": "## Preprocessing",
   "metadata": {
    "id": "-I3g1RrZ0wpI",
    "cell_id": "00003-29f6f65b-15b6-4b03-86db-d3b3660d7f37",
    "deepnote_app_coordinates": {
     "x": 0,
     "y": 21,
     "w": 12,
     "h": 5
    },
    "deepnote_cell_type": "markdown"
   }
  },
  {
   "cell_type": "markdown",
   "source": "In order to simplify vector operations we normalize the pixels by scaling them from the range [0,255] down to [0,1], dividing each pixel by its max value 255. However, we first need to cast the elements of the tensors to `float` as python's division assignment operator `/=`, doesn't work with `integers` when the ouput is `float`",
   "metadata": {
    "tags": [],
    "cell_id": "00005-a1773d6e-474d-4d98-9f28-6c2c7cee9c20",
    "deepnote_app_coordinates": {
     "x": 0,
     "y": 27,
     "w": 12,
     "h": 5
    },
    "deepnote_cell_type": "markdown"
   }
  },
  {
   "cell_type": "code",
   "metadata": {
    "id": "UswCCQLS0s1I",
    "cell_id": "00004-acb3cf64-92c2-4ffd-893d-99402c9fb423",
    "deepnote_to_be_reexecuted": false,
    "source_hash": "fbcaacd3",
    "execution_start": 1634656365931,
    "execution_millis": 64,
    "deepnote_app_coordinates": {
     "x": 0,
     "y": 33,
     "w": 12,
     "h": 5
    },
    "deepnote_cell_type": "code"
   },
   "source": "x_train = x_train.astype(\"float32\")\nx_test = x_test.astype(\"float32\")\n\nx_train /= 255\nx_test /= 255\n\nprint(\"x_train shape:\", x_train.shape)\nprint(\"x_test shape:\", x_test.shape)\n",
   "execution_count": 35,
   "outputs": [
    {
     "name": "stdout",
     "text": "x_train shape: (60000, 28, 28, 1)\nx_test shape: (10000, 28, 28, 1)\n",
     "output_type": "stream"
    }
   ]
  },
  {
   "cell_type": "markdown",
   "source": "Next, we create a one-hot encoding of the digits 0-9, as classification models generally output a one-hot encoded vector with the same number of dimension as classes (10) in the dataset.",
   "metadata": {
    "tags": [],
    "cell_id": "00007-ff8485a7-3011-4a12-9dcd-f91be96fac50",
    "deepnote_app_coordinates": {
     "x": 0,
     "y": 39,
     "w": 12,
     "h": 5
    },
    "deepnote_cell_type": "markdown"
   }
  },
  {
   "cell_type": "code",
   "metadata": {
    "tags": [],
    "cell_id": "00007-cadeaa42-ca92-4496-8209-34475c81cf55",
    "deepnote_to_be_reexecuted": false,
    "source_hash": "3652dd02",
    "execution_start": 1634656366011,
    "execution_millis": 4,
    "deepnote_app_coordinates": {
     "x": 0,
     "y": 45,
     "w": 12,
     "h": 5
    },
    "deepnote_cell_type": "code"
   },
   "source": "y_train = keras.utils.to_categorical(lbl_train, num_classes)\ny_test = keras.utils.to_categorical(lbl_test, num_classes)\n\nprint('y_train shape, one-hot encoded:', y_train.shape)\nprint('y_test shape, one-hot encoded:', y_test.shape)  ",
   "execution_count": 36,
   "outputs": [
    {
     "name": "stdout",
     "text": "y_train shape, one-hot encoded: (60000, 10)\ny_test shape, one-hot encoded: (10000, 10)\n",
     "output_type": "stream"
    }
   ]
  },
  {
   "cell_type": "markdown",
   "source": "### Question 2) Network model, training, and changing hyper-parameters.\n#### Questions A-C\nAt this point, the dataset has been prepared and it's time to generate, tweak and fit a model for prediction. Here, a sequential model is used, appropriate for a plain stack of layers where each layer has exactly one input tensor and one output tensor..",
   "metadata": {
    "tags": [],
    "cell_id": "00010-8b87579e-6cd0-445e-8a59-cd067db5616f",
    "deepnote_app_coordinates": {
     "x": 0,
     "y": 51,
     "w": 12,
     "h": 5
    },
    "deepnote_cell_type": "markdown"
   }
  },
  {
   "cell_type": "code",
   "metadata": {
    "tags": [],
    "cell_id": "00010-89e20e24-2d5f-461e-bb1a-c5cbc62ea333",
    "deepnote_to_be_reexecuted": false,
    "source_hash": "49e13650",
    "execution_start": 1634641556703,
    "execution_millis": 47,
    "deepnote_app_coordinates": {
     "x": 0,
     "y": 57,
     "w": 12,
     "h": 5
    },
    "deepnote_cell_type": "code"
   },
   "source": "## Define model ##\nmodel = Sequential()",
   "outputs": [],
   "execution_count": null
  },
  {
   "cell_type": "markdown",
   "source": "#### Layers used in the model\nThe first, so called, input layer flattens the input such that the number of dimensions correspond to the number of elements in the input tensor, since the next layer expects a vector as input. More specifically, each image is converted from a 28 x 28 matrix to a vector with 784 elements, \nAnother reason for this is to couple information that exists vertically as well as horizontally. There is no way to *couple* the information *across rows* in the pixel arrays representing the images, without either flatting or using a 2-dimensional kernel like a convolution (or maybe some other operation we haven’t considered yet). Without doing this, you can infer information on a row-by-row basis (“horizontally”), but there’s no way to combine information that exists across rows -- it’s like you have a set of disconnected horizontal slices of an image, but no way to “see” the vertical structures, until you either flatten or switch to 2d convolution. ",
   "metadata": {
    "tags": [],
    "cell_id": "00012-5a5911e5-aec8-42ed-908d-1717cb8d546b",
    "deepnote_app_coordinates": {
     "x": 0,
     "y": 63,
     "w": 12,
     "h": 5
    },
    "deepnote_cell_type": "markdown"
   }
  },
  {
   "cell_type": "code",
   "metadata": {
    "tags": [],
    "cell_id": "00011-80ced561-b58c-429c-bc91-3bb418ef2d40",
    "deepnote_to_be_reexecuted": false,
    "source_hash": "72f3132d",
    "execution_start": 1634641556755,
    "execution_millis": 36,
    "deepnote_app_coordinates": {
     "x": 0,
     "y": 69,
     "w": 12,
     "h": 5
    },
    "deepnote_cell_type": "code"
   },
   "source": "model.add(Flatten(input_shape=(28,28)))",
   "outputs": [],
   "execution_count": null
  },
  {
   "cell_type": "markdown",
   "source": "The next two fully connected layers are what gives the network the complexity to, when correctly fitted, recognize the handwritten digits. These layers specify two arguments, the first one being the output format or the number neurons and the second one specfiying the **Rectified Linear Unit** as the activation function for the layers neurons. This activation function is what allows the layer to model nonlinear functions.",
   "metadata": {
    "tags": [],
    "cell_id": "00014-7bbe59f6-9f8b-4cec-8969-53670286c004",
    "deepnote_app_coordinates": {
     "x": 0,
     "y": 75,
     "w": 12,
     "h": 5
    },
    "deepnote_cell_type": "markdown"
   }
  },
  {
   "cell_type": "code",
   "metadata": {
    "tags": [],
    "cell_id": "00012-2f5f7ad7-454d-4803-b7f1-918a54e7a9f0",
    "deepnote_to_be_reexecuted": false,
    "source_hash": "41b0b2ff",
    "execution_start": 1634641556848,
    "execution_millis": 47,
    "output_cleared": false,
    "deepnote_app_coordinates": {
     "x": 0,
     "y": 81,
     "w": 12,
     "h": 5
    },
    "deepnote_cell_type": "code"
   },
   "source": "model.add(Dense(64, activation = 'relu'))\nmodel.add(Dense(64, activation = 'relu'))",
   "outputs": [],
   "execution_count": null
  },
  {
   "cell_type": "markdown",
   "source": "The final, so called, output layer should have it's output shape set to the expected output of the model. For the handwritten digit scenario, this might be to use one neuron per digit, in other words, a vector of 10 nodes. \nthis layer specifies a different activation function,  **softmax**, which outputs a vector that represents the probability distributions of a list of potential outcomes (digits 0-9) which combined with the categorical cross-entropy loss function allows the neural network to output the digit with highest probability value.",
   "metadata": {
    "tags": [],
    "cell_id": "00016-866fd96e-1996-4e75-939e-82d4a7e06296",
    "deepnote_app_coordinates": {
     "x": 0,
     "y": 87,
     "w": 12,
     "h": 5
    },
    "deepnote_cell_type": "markdown"
   }
  },
  {
   "cell_type": "code",
   "metadata": {
    "tags": [],
    "cell_id": "00013-7eddd7b1-2c23-4486-8b1f-7236a4c5f65c",
    "deepnote_to_be_reexecuted": false,
    "source_hash": "b8f566b4",
    "execution_start": 1634641556896,
    "execution_millis": 0,
    "deepnote_app_coordinates": {
     "x": 0,
     "y": 93,
     "w": 12,
     "h": 5
    },
    "deepnote_cell_type": "code"
   },
   "source": "model.add(Dense(num_classes, activation='softmax'))",
   "outputs": [],
   "execution_count": null
  },
  {
   "cell_type": "markdown",
   "source": "#### Model configuration\nBelow, the model is configured to use a loss function called **categorical cross-entropy**, suitable for classification tasks like this one since it compared to other common loss functions, such as the squared error cost function, does not suffer from the same learning slow downs as some of the others do. The mathematical representation for this cost function is \n\n$$  \nloss_{CCE} = -\\sum_{s\\in S} t_s \\cdot \\log{p_s} \n$$ \n\nwhere $n$ is the set of output classes, $t_i$ the true value, taking either 0 or 1, and $p_i$ is the **softmax** probability of class $i$. The one-hot encoded format of the output imply that for a specific class, say 5, the cost function becomes\n\n$$\nloss_{CSE} = - (0 \\cdot \\log{p_1} + 0 \\cdot \\log{p_2} + \\dots + 1 \\cdot \\log{p_5} + 0 \\cdot \\log{p_6} + \\dots + 0  \\cdot \\log{p_9})\n$$\n\nHence, the total loss turns into the negative sum of the logarithmic probability of each class\n\n$$\nloss_{CSE} = -\\sum_{s\\in S} \\log{p_s} \n$$\n\nThis cost function has the important property of punishing the big mistakes more than small ones, which allows for improved learning as explained above.  \n\nThe optimizer is then set to use mini-batched gradient descent with a learning rate of 0.1. Lastly, the accuracy is specified as the evaluation metric used when training and testing the model.",
   "metadata": {
    "tags": [],
    "cell_id": "00017-bc2aec0d-3bb3-4a73-b322-69957ea32276",
    "deepnote_app_coordinates": {
     "x": 0,
     "y": 99,
     "w": 12,
     "h": 5
    },
    "deepnote_cell_type": "markdown"
   }
  },
  {
   "cell_type": "code",
   "metadata": {
    "tags": [],
    "cell_id": "00018-a668dd8d-0061-4634-a48e-6e5a13a1a7ab",
    "deepnote_to_be_reexecuted": false,
    "source_hash": "1939da2d",
    "execution_start": 1634641556897,
    "execution_millis": 43,
    "deepnote_app_coordinates": {
     "x": 0,
     "y": 105,
     "w": 12,
     "h": 5
    },
    "deepnote_cell_type": "code"
   },
   "source": "model.compile(\n    loss=keras.losses.categorical_crossentropy,\n    optimizer=keras.optimizers.SGD(lr=0.1),\n    metrics=[\"accuracy\"],\n)",
   "outputs": [],
   "execution_count": null
  },
  {
   "cell_type": "markdown",
   "source": "As we can se from the summary below, our final model contains 4 layers, the first one with 784 neurons, the next two with 64 neurons each and the final output layer with 10 neurons. This results in a total of 55050 trainable parameters. \n\nIn the first dense layer, each neuron is connevted to the 784 neurons in the input layer. That equals $784 \\times 64 = $ trainable parameters plus 64 bias terms. In similar fashion, the second dense layer has each neuron connected with each of the preceding layers 64 neurons equaling another $64\\times64=4096$ parameters plus 64 bias terms. The ten neurons in the output layer are indentically connected to 64 neurons each, adding another $64\\times10=640$ parameters and 10 bias terms. Thus, we get a total of \n\n$$\n(784\\times64+64) + (64\\times64+64) + (64\\times10+10) = 55050\n$$ \nparameters. ",
   "metadata": {
    "tags": [],
    "cell_id": "00019-e00cea6c-e96f-40c9-b3b2-123ce2eed840",
    "deepnote_app_coordinates": {
     "x": 0,
     "y": 111,
     "w": 12,
     "h": 5
    },
    "deepnote_cell_type": "markdown"
   }
  },
  {
   "cell_type": "code",
   "metadata": {
    "tags": [],
    "cell_id": "00019-c72ec2dc-b919-4dbf-a363-2f8249969c52",
    "deepnote_to_be_reexecuted": false,
    "source_hash": "4e6a3b95",
    "execution_start": 1634641556940,
    "execution_millis": 2,
    "deepnote_app_coordinates": {
     "x": 0,
     "y": 117,
     "w": 12,
     "h": 5
    },
    "deepnote_cell_type": "code"
   },
   "source": "model.summary()",
   "outputs": [
    {
     "name": "stdout",
     "text": "Model: \"sequential\"\n_________________________________________________________________\nLayer (type)                 Output Shape              Param #   \n=================================================================\nflatten (Flatten)            (None, 784)               0         \n_________________________________________________________________\ndense (Dense)                (None, 64)                50240     \n_________________________________________________________________\ndense_1 (Dense)              (None, 64)                4160      \n_________________________________________________________________\ndense_2 (Dense)              (None, 10)                650       \n=================================================================\nTotal params: 55,050\nTrainable params: 55,050\nNon-trainable params: 0\n_________________________________________________________________\n",
     "output_type": "stream"
    }
   ],
   "execution_count": null
  },
  {
   "cell_type": "markdown",
   "source": "At this point the model is ready for training. Here, two hyperparameters `batch_size` and `epochs` can be used to tweak the training process. The prior refers to the number of training samples that are passed through the network at a time, while the latter refers to the number of times the neural network is exposed to the entire dataset. \n\nTweaking these hyperparameters might both improve and worsen a model's performance. For instance, gradient descent typically doesn't reach a local or global minima after just one epoch. Hence, increasing the number of epochs might improve results up to a point were the model run the risk of overfitting, worsening it's performance on new data.",
   "metadata": {
    "tags": [],
    "cell_id": "00019-32ee47fe-ec51-4871-9df9-98faa0a9296e",
    "deepnote_app_coordinates": {
     "x": 0,
     "y": 123,
     "w": 12,
     "h": 5
    },
    "deepnote_cell_type": "markdown"
   }
  },
  {
   "cell_type": "code",
   "metadata": {
    "id": "N7Aer42gk1W9",
    "cell_id": "00005-73def778-a0a3-467d-90c0-391493be5a47",
    "deepnote_to_be_reexecuted": false,
    "source_hash": "d28fb528",
    "execution_start": 1634641556987,
    "execution_millis": 19575,
    "output_cleared": false,
    "deepnote_app_coordinates": {
     "x": 0,
     "y": 129,
     "w": 12,
     "h": 5
    },
    "deepnote_cell_type": "code"
   },
   "source": "fit_info = model.fit(\n    x_train,\n    y_train,\n    batch_size=batch_size,\n    epochs=epochs,\n    verbose=1,\n    validation_data=(x_test, y_test),\n    # callbacks=[TqdmCallback()]\n)\n\nloss, accuracy = model.evaluate(x_test, y_test, verbose=0)\nprint(\"Test loss: {}, Test accuracy {}\".format(loss, accuracy))",
   "outputs": [
    {
     "name": "stdout",
     "text": "Epoch 1/10\n469/469 [==============================] - 4s 7ms/step - loss: 0.8062 - accuracy: 0.7738 - val_loss: 0.2807 - val_accuracy: 0.9188\nEpoch 2/10\n469/469 [==============================] - 2s 3ms/step - loss: 0.2456 - accuracy: 0.9282 - val_loss: 0.1944 - val_accuracy: 0.9434\nEpoch 3/10\n469/469 [==============================] - 2s 4ms/step - loss: 0.1827 - accuracy: 0.9460 - val_loss: 0.1661 - val_accuracy: 0.9518\nEpoch 4/10\n469/469 [==============================] - 2s 4ms/step - loss: 0.1503 - accuracy: 0.9567 - val_loss: 0.1395 - val_accuracy: 0.9572\nEpoch 5/10\n469/469 [==============================] - 2s 4ms/step - loss: 0.1286 - accuracy: 0.9624 - val_loss: 0.1286 - val_accuracy: 0.9596\nEpoch 6/10\n469/469 [==============================] - 2s 4ms/step - loss: 0.1125 - accuracy: 0.9667 - val_loss: 0.1096 - val_accuracy: 0.9657\nEpoch 7/10\n469/469 [==============================] - 2s 3ms/step - loss: 0.0968 - accuracy: 0.9715 - val_loss: 0.1044 - val_accuracy: 0.9672\nEpoch 8/10\n469/469 [==============================] - 2s 3ms/step - loss: 0.0880 - accuracy: 0.9747 - val_loss: 0.1034 - val_accuracy: 0.9671\nEpoch 9/10\n469/469 [==============================] - 2s 4ms/step - loss: 0.0776 - accuracy: 0.9771 - val_loss: 0.1105 - val_accuracy: 0.9638\nEpoch 10/10\n469/469 [==============================] - 2s 3ms/step - loss: 0.0721 - accuracy: 0.9785 - val_loss: 0.0956 - val_accuracy: 0.9691\nTest loss: 0.09558530151844025, Test accuracy 0.9690999984741211\n",
     "output_type": "stream"
    }
   ],
   "execution_count": null
  },
  {
   "cell_type": "markdown",
   "source": "#### 2.d) Improving the model",
   "metadata": {
    "tags": [],
    "cell_id": "00024-bac44281-fea4-42cb-97c1-ebbe05c430fc",
    "deepnote_app_coordinates": {
     "x": 0,
     "y": 135,
     "w": 12,
     "h": 5
    },
    "deepnote_cell_type": "markdown"
   }
  },
  {
   "cell_type": "code",
   "metadata": {
    "tags": [],
    "cell_id": "00024-5e77f163-3a24-4444-a51f-8f5a8cc75942",
    "deepnote_to_be_reexecuted": false,
    "source_hash": "a9bef60b",
    "execution_start": 1634641576589,
    "execution_millis": 5296923,
    "output_cleared": false,
    "deepnote_app_coordinates": {
     "x": 0,
     "y": 141,
     "w": 12,
     "h": 5
    },
    "deepnote_cell_type": "code"
   },
   "source": "from tensorflow.keras import regularizers\nimport numpy as np\n\nepochs = 40\nreplicas = 3\nregularization_factors = np.linspace(0.000001, 0.001, 5)\nprint('regularization_factors:', regularization_factors)\n\naccuracies = {}\nfor l2_factor in regularization_factors:\n    # regularizer, The L2 regularization penalty is computed as: loss = l2 * reduce_sum(square(x))\n    regularizer = regularizers.l2(l2_factor)\n    print('Training models with regulizer factor:',l2_factor)\n\n    accuracies[l2_factor] = []\n    for replica in range(replicas):\n        # configure model\n        model = Sequential()\n        model.add(Flatten(input_shape=(28, 28)))\n        model.add(Dense(500, activation='relu', kernel_regularizer=regularizer))\n        model.add(Dense(300, activation='relu'))\n        model.add(Dense(num_classes, activation='softmax'))\n        model.compile(\n            loss=keras.losses.categorical_crossentropy,\n            optimizer=keras.optimizers.SGD(learning_rate=0.1),\n            metrics=[\"accuracy\"],\n        )\n        fit = fit_info = model.fit(\n            x_train,\n            y_train,\n            batch_size=batch_size,\n            epochs=epochs,\n            verbose=0,\n            validation_data=(x_test, y_test),\n            # callbacks=[TqdmCallback()]\n        )\n        # collect accuracy of each replica for each l2 factor\n        accuracies[l2_factor].append(np.max(fit.history.get('val_accuracy')))",
   "outputs": [
    {
     "name": "stdout",
     "text": "regularization_factors: [1.0000e-06 2.5075e-04 5.0050e-04 7.5025e-04 1.0000e-03]\nTraining models with regulizer factor: 1e-06\nTraining models with regulizer factor: 0.00025075000000000005\nTraining models with regulizer factor: 0.0005005000000000001\nTraining models with regulizer factor: 0.0007502500000000002\nTraining models with regulizer factor: 0.001\n",
     "output_type": "stream"
    }
   ],
   "execution_count": null
  },
  {
   "cell_type": "code",
   "metadata": {
    "tags": [],
    "cell_id": "00025-3c1825e3-8d3d-4dd5-9db1-cdebc34b541d",
    "deepnote_to_be_reexecuted": false,
    "source_hash": "bb9d046c",
    "execution_start": 1634646873559,
    "execution_millis": 354,
    "output_cleared": false,
    "deepnote_app_coordinates": {
     "x": 0,
     "y": 147,
     "w": 12,
     "h": 5
    },
    "deepnote_cell_type": "code"
   },
   "source": "# get mean validation accuracy and standard deviation from model training\nvalidation_accuracies = np.array([np.mean(accs) for accs in accuracies.values()])\nstandard_deviations = np.array([np.std(accs) for accs in accuracies.values()])\n\n# plot mean validation accuracy with standard deviation as a function of the regularization factor\nplt.plot(regularization_factors, validation_accuracies, '--o', label='Mean validation accuracy')\nplt.fill_between(\n    regularization_factors,\n    validation_accuracies - standard_deviations,\n    validation_accuracies + standard_deviations, \n    color=\"lightgray\", \n    label=\"Standard deviation\"\n)\nplt.ylabel('Mean validation accuracy')\nplt.xlabel('Regularization factor')\nplt.legend(loc='best');",
   "outputs": [
    {
     "data": {
      "text/plain": "<Figure size 432x288 with 1 Axes>",
      "image/png": "[encoded data removed]"
     },
     "metadata": {
      "needs_background": "light",
      "image/png": {
       "width": 407,
       "height": 262
      }
     },
     "output_type": "display_data"
    }
   ],
   "execution_count": null
  },
  {
   "cell_type": "markdown",
   "source": "As theory suggests, the above graph show that reducing complexity, through regularization, correpsonds with improved valdiation accuracy and reduced variance up to certain factor. This behaviour suggests that the model is overfitting. The results obtained above are lower than those of Geoff Hinton's. The cause of this might be attributed to differences in important parameters such as size of training data, the preprocessing of this and hyper-parameter tweaking, such as using different batch sizes and learning rates.",
   "metadata": {
    "tags": [],
    "cell_id": "00026-02042717-5702-4237-809b-9fdad43e7cde",
    "deepnote_app_coordinates": {
     "x": 0,
     "y": 153,
     "w": 12,
     "h": 5
    },
    "deepnote_cell_type": "markdown"
   }
  },
  {
   "cell_type": "markdown",
   "source": "## Question 3) ",
   "metadata": {
    "tags": [],
    "is_collapsed": false,
    "cell_id": "00023-344930c4-58c3-492a-8436-8e08e3c7410a",
    "deepnote_app_coordinates": {
     "x": 0,
     "y": 159,
     "w": 12,
     "h": 2
    },
    "deepnote_cell_type": "text-cell-h2"
   }
  },
  {
   "cell_type": "markdown",
   "source": "We added two convolution layers (32 and 64) and two maxpooling to reduce the computational time",
   "metadata": {
    "tags": [],
    "cell_id": "00026-10552697-aa81-4b0c-97d3-ed5de0183952",
    "deepnote_app_coordinates": {
     "x": 0,
     "y": 162,
     "w": 12,
     "h": 5
    },
    "deepnote_cell_type": "markdown"
   }
  },
  {
   "cell_type": "code",
   "metadata": {
    "tags": [],
    "cell_id": "00028-f4ebd67c-64e4-4ccd-868a-6de021a946ee",
    "deepnote_to_be_reexecuted": false,
    "source_hash": "e0d46b2a",
    "execution_start": 1634646873930,
    "execution_millis": 3123621,
    "deepnote_app_coordinates": {
     "x": 0,
     "y": 168,
     "w": 12,
     "h": 5
    },
    "deepnote_cell_type": "code"
   },
   "source": "model = Sequential()\nmodel.add(Conv2D(32,kernel_size=(3,3), activation='relu'))\nmodel.add(MaxPooling2D(pool_size=(2,2),strides=2))\nmodel.add(Conv2D(64,kernel_size=(3,3), activation='relu'))\nmodel.add(MaxPooling2D(pool_size=(2,2),strides=2))\nmodel.add(Flatten(input_shape=(28, 28)))\nmodel.add(Dense(64, activation='relu', kernel_regularizer=regularizer))\nmodel.add(Dense(64, activation='relu'))\nmodel.add(Dense(num_classes, activation='softmax'))\nmodel.compile(\n    loss=keras.losses.categorical_crossentropy,\n    optimizer=keras.optimizers.SGD(learning_rate=0.1),\n    metrics=[\"accuracy\"],\n)\n\nfit = model.fit(\n    x_train,\n    y_train,\n    batch_size=batch_size,\n    epochs=40,\n    verbose=0,\n    validation_data=(x_test, y_test),\n    # callbacks=[TqdmCallback()]\n)\nloss, accuracy = model.evaluate(x_test, y_test, verbose=0)\nprint(\"Test loss: {}, Test accuracy {}\".format(loss, accuracy))",
   "outputs": [
    {
     "name": "stdout",
     "text": "Test loss: 0.06852845847606659, Test accuracy 0.9850000143051147\n",
     "output_type": "stream"
    }
   ],
   "execution_count": null
  },
  {
   "cell_type": "markdown",
   "source": "As seen the code did not reach an accuracy of 99%. This could be due to several factors, one is the fact that we recude the dense functions to 64 instead of 128 or like above 500 and 300, since the code took an unreasonably long time to run aswell as memory issues that occured whilst running the code. Also we could maybe getter a better score by using the best regulazing factor we achived above which is around 0.00002, but since the code took around 1h to run this was not viable to test.",
   "metadata": {
    "tags": [],
    "cell_id": "00027-f64af3e9-ae15-47de-b0e7-9a578cfec8cb",
    "deepnote_app_coordinates": {
     "x": 0,
     "y": 174,
     "w": 12,
     "h": 5
    },
    "deepnote_cell_type": "markdown"
   }
  },
  {
   "cell_type": "markdown",
   "source": "The difference and perks of using convolutional layers it the pictures of hand drawn images is that it could potentially find patterns by transforming the picture before turning it into an one dimensional array. This could increase the accuracy of the model.",
   "metadata": {
    "tags": [],
    "cell_id": "00029-bcda9d2d-43da-4a6c-8107-3ddf883fc51c",
    "deepnote_app_coordinates": {
     "x": 0,
     "y": 180,
     "w": 12,
     "h": 5
    },
    "deepnote_cell_type": "markdown"
   }
  },
  {
   "cell_type": "markdown",
   "source": "### Question 4) Auto-Encoder for denoising\n",
   "metadata": {
    "id": "0I2Bkk_rhUnH",
    "cell_id": "00006-5cd46214-2c67-4444-b7b7-21c147776254",
    "deepnote_app_coordinates": {
     "x": 0,
     "y": 186,
     "w": 12,
     "h": 5
    },
    "deepnote_cell_type": "markdown"
   }
  },
  {
   "cell_type": "markdown",
   "source": "#### 4.a) ####",
   "metadata": {
    "tags": [],
    "cell_id": "00033-5f2b3838-8447-48a6-8598-4ea8a4b2e86a",
    "deepnote_app_coordinates": {
     "x": 0,
     "y": 228,
     "w": 12,
     "h": 5
    },
    "deepnote_cell_type": "markdown"
   }
  },
  {
   "cell_type": "markdown",
   "source": "The purpose of this model is to denoise the images. It firstly prepers the data by turning the traning and test data of 28x28 pixel pictures into a 1x784 vector/array. Then the salt_and_pepper method defined above it adds noice",
   "metadata": {
    "tags": [],
    "cell_id": "00031-404e239e-c42d-46a0-b037-322a0a5f0c2a",
    "deepnote_app_coordinates": {
     "x": 0,
     "y": 192,
     "w": 12,
     "h": 5
    },
    "deepnote_cell_type": "markdown"
   }
  },
  {
   "cell_type": "code",
   "metadata": {
    "id": "yO0HxKeJ7WFw",
    "cell_id": "00007-abd2a4bc-62f1-41a5-a53f-62f49bff3cdf",
    "deepnote_to_be_reexecuted": false,
    "source_hash": "6bacf4fb",
    "execution_start": 1634656115001,
    "execution_millis": 3822,
    "deepnote_app_coordinates": {
     "x": 0,
     "y": 198,
     "w": 12,
     "h": 5
    },
    "deepnote_cell_type": "code"
   },
   "source": "import numpy as np\ndef salt_and_pepper(input, noise_level=0.5):\n    \"\"\"\n    This applies salt and pepper noise to the input tensor - randomly setting bits to 1 or 0.\n    Parameters\n    ----------\n    input : tensor\n        The tensor to apply salt and pepper noise to.\n    noise_level : float\n        The amount of salt and pepper noise to add.\n    Returns\n    -------\n    tensor\n        Tensor with salt and pepper noise applied.\n    \"\"\"\n    # salt and pepper noise\n    a = np.random.binomial(size=input.shape, n=1, p=(1 - noise_level))\n    b = np.random.binomial(size=input.shape, n=1, p=0.5)\n    c = (a==0) * b\n    return input * a + c\n\n\n#data preparation\nflattened_x_train = x_train.reshape(-1,784)\nflattened_x_train_seasoned = salt_and_pepper(flattened_x_train, noise_level=0.4)\n\nflattened_x_test = x_test.reshape(-1,784)\nflattened_x_test_seasoneed = salt_and_pepper(flattened_x_test, noise_level=0.4)",
   "execution_count": 19,
   "outputs": []
  },
  {
   "cell_type": "markdown",
   "source": "The model is first encoded and later decoded. It consists of two layers enconded layers and two decoding layers. THe enconded layers consist of 128 and 96 neruons respectivly, The decoding layers first layer consist of 128 neurons and de second one 784 which is the same as the input_images.\n\nThe autoencoder makes use of a binary crossentropy function which solves the model through binary operations 0,1 or yes/no which is usefull when something can belong or not belong to several catergories simultaniously. Important to note is that the Dense block have to use sigmoid as an activation function.",
   "metadata": {
    "tags": [],
    "cell_id": "00035-4c0890b0-44d5-4d01-a882-d9e204c89127",
    "deepnote_app_coordinates": {
     "x": 0,
     "y": 216,
     "w": 12,
     "h": 5
    },
    "deepnote_cell_type": "markdown"
   }
  },
  {
   "cell_type": "code",
   "metadata": {
    "id": "0GZtZH4ScQeN",
    "cell_id": "00008-2e9bc5e2-b1bf-49a7-8d60-6645be4158cd",
    "deepnote_to_be_reexecuted": false,
    "source_hash": "9f3f3209",
    "execution_start": 1634656122658,
    "execution_millis": 105,
    "deepnote_app_coordinates": {
     "x": 0,
     "y": 204,
     "w": 12,
     "h": 5
    },
    "deepnote_cell_type": "code"
   },
   "source": "latent_dim = 96  \n\ninput_image = keras.Input(shape=(784,))\nencoded = Dense(128, activation='relu')(input_image)\nencoded = Dense(latent_dim, activation='relu')(encoded)\ndecoded = Dense(128, activation='relu')(encoded)\ndecoded = Dense(784, activation='sigmoid')(decoded)\n\nautoencoder = keras.Model(input_image, decoded)\n\nencoder = keras.Model(input_image, encoded)\n\nencoded_input = keras.Input(shape=(latent_dim,))\ndecoder_layer = Sequential(autoencoder.layers[-2:])\ndecoder = keras.Model(encoded_input, decoder_layer(encoded_input))\n\nautoencoder.compile(optimizer='adam', loss='binary_crossentropy')",
   "execution_count": 20,
   "outputs": []
  },
  {
   "cell_type": "code",
   "metadata": {
    "id": "56iJOKNIKfuB",
    "cell_id": "00009-04eef254-e613-469f-946e-951be0f3bd8b",
    "deepnote_to_be_reexecuted": false,
    "source_hash": "a4b76e5d",
    "execution_start": 1634656323741,
    "execution_millis": 38557,
    "output_cleared": false,
    "deepnote_app_coordinates": {
     "x": 0,
     "y": 210,
     "w": 12,
     "h": 5
    },
    "deepnote_cell_type": "code"
   },
   "source": "fit_info_AE = autoencoder.fit(\n    flattened_x_train_seasoned,\n    flattened_x_train,\n    epochs=40,\n    batch_size=64,\n    shuffle=True,\n    validation_data=(flattened_x_test_seasoneed, flattened_x_test),\n)\n",
   "execution_count": 31,
   "outputs": [
    {
     "name": "stdout",
     "text": "Epoch 1/5\n938/938 [==============================] - 8s 8ms/step - loss: 0.0040 - val_loss: 0.0041\nEpoch 2/5\n938/938 [==============================] - 7s 8ms/step - loss: 0.0040 - val_loss: 0.0041\nEpoch 3/5\n938/938 [==============================] - 7s 8ms/step - loss: 0.0040 - val_loss: 0.0041\nEpoch 4/5\n938/938 [==============================] - 8s 9ms/step - loss: 0.0040 - val_loss: 0.0041\nEpoch 5/5\n938/938 [==============================] - 8s 8ms/step - loss: 0.0040 - val_loss: 0.0040\n",
     "output_type": "stream"
    }
   ]
  },
  {
   "cell_type": "markdown",
   "source": "##### 4d) Explain how you can use the decoder part of the denoising auto-encoder to generate synthetic “hand-written” digits? – Describe the procedure and show examples in your report.\n\nDuring the training process, the decoder is taught to reconstruct handwritten digits from it's noisy counterparts. If trained enough the decoder will be able to reconstruct images that to us are just noise. This can be utulized to generate handwritten digits by letting it decode images filled with ranomd noise. ",
   "metadata": {
    "tags": [],
    "cell_id": "00039-c4cb9f28-bfd7-4352-9db2-1dcd738a6ce1",
    "deepnote_app_coordinates": {
     "x": 0,
     "y": 222,
     "w": 12,
     "h": 5
    },
    "deepnote_cell_type": "markdown"
   }
  },
  {
   "cell_type": "markdown",
   "source": "##### disclaimer\nWe had several problems with vizualizing the decoded pictures since we for some reason always got the same decoded picture, no matter the startning image chosen. We tried to find the problem but were not able to find the issue it within reasonable time.Therefor we could not complete 4b-d.",
   "metadata": {
    "tags": [],
    "cell_id": "00040-d87849cc-4255-442a-ba3c-adf26ac18891",
    "deepnote_app_coordinates": {
     "x": 0,
     "y": 234,
     "w": 12,
     "h": 5
    },
    "deepnote_cell_type": "markdown"
   }
  },
  {
   "cell_type": "markdown",
   "source": "<a style='text-decoration:none;line-height:16px;display:flex;color:#5B5B62;padding:10px;justify-content:end;' href='https://deepnote.com?utm_source=created-in-deepnote-cell&projectId=2206d3be-0005-47e9-b8a0-2566096b1bac' target=\"_blank\">\n<img alt='Created in deepnote.com' style='display:inline;max-height:16px;margin:0px;margin-right:7.5px;' src='data:image/svg+xml;base64,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' > </img>\nCreated in <span style='font-weight:600;margin-left:4px;'>Deepnote</span></a>",
   "metadata": {
    "tags": [],
    "created_in_deepnote_cell": true,
    "deepnote_cell_type": "markdown"
   }
  }
 ],
 "nbformat": 4,
 "nbformat_minor": 2,
 "metadata": {
  "colab": {
   "name": "Assignment_7_NN.ipynb",
   "provenance": [],
   "collapsed_sections": []
  },
  "kernelspec": {
   "name": "python3",
   "display_name": "Python 3"
  },
  "deepnote_notebook_id": "8e3838a0-ac5b-403f-9178-04d7568e5a7d",
  "deepnote": {},
  "deepnote_execution_queue": [],
  "deepnote_app_layout": "article"
 }
}