{
 "cells": [
  {
   "cell_type": "code",
   "execution_count": 22,
   "metadata": {},
   "outputs": [],
   "source": [
    "import numpy as np\n",
    "from matplotlib import pyplot as plt"
   ]
  },
  {
   "cell_type": "code",
   "execution_count": 23,
   "metadata": {},
   "outputs": [
    {
     "data": {
      "image/png": "[encoded data removed]",
      "text/plain": [
       "<Figure size 640x480 with 3 Axes>"
      ]
     },
     "metadata": {},
     "output_type": "display_data"
    }
   ],
   "source": [
    "#Stored patterns\n",
    "x1=[ [ -1, -1, -1, -1, -1, -1, -1, -1, -1, -1],[ -1, -1, -1, 1, 1, 1, 1, -1, -1, -1],[ -1, -1, 1, 1, 1, 1, 1, 1, -1, -1],[ -1, 1, 1, 1, -1, -1, 1, 1, 1, -1],[ -1, 1, 1, 1, -1, -1, 1, 1, 1, -1],[ -1, 1, 1, 1, -1, -1, 1, 1, 1, -1],[ -1, 1, 1, 1, -1, -1, 1, 1, 1, -1],[ -1, 1, 1, 1, -1, -1, 1, 1, 1, -1],[ -1, 1, 1, 1, -1, -1, 1, 1, 1, -1],[ -1, 1, 1, 1, -1, -1, 1, 1, 1, -1],[ -1, 1, 1, 1, -1, -1, 1, 1, 1, -1],[ -1, 1, 1, 1, -1, -1, 1, 1, 1, -1],[ -1, 1, 1, 1, -1, -1, 1, 1, 1, -1],[ -1, -1, 1, 1, 1, 1, 1, 1, -1, -1],[ -1, -1, -1, 1, 1, 1, 1, -1, -1, -1],[ -1, -1, -1, -1, -1, -1, -1, -1, -1, -1] ]\n",
    "x2=[ [ -1, -1, -1, 1, 1, 1, 1, -1, -1, -1],[ -1, -1, -1, 1, 1, 1, 1, -1, -1, -1],[ -1, -1, -1, 1, 1, 1, 1, -1, -1, -1],[ -1, -1, -1, 1, 1, 1, 1, -1, -1, -1],[ -1, -1, -1, 1, 1, 1, 1, -1, -1, -1],[ -1, -1, -1, 1, 1, 1, 1, -1, -1, -1],[ -1, -1, -1, 1, 1, 1, 1, -1, -1, -1],[ -1, -1, -1, 1, 1, 1, 1, -1, -1, -1],[ -1, -1, -1, 1, 1, 1, 1, -1, -1, -1],[ -1, -1, -1, 1, 1, 1, 1, -1, -1, -1],[ -1, -1, -1, 1, 1, 1, 1, -1, -1, -1],[ -1, -1, -1, 1, 1, 1, 1, -1, -1, -1],[ -1, -1, -1, 1, 1, 1, 1, -1, -1, -1],[ -1, -1, -1, 1, 1, 1, 1, -1, -1, -1],[ -1, -1, -1, 1, 1, 1, 1, -1, -1, -1],[ -1, -1, -1, 1, 1, 1, 1, -1, -1, -1] ]\n",
    "x3=[ [ 1, 1, 1, 1, 1, 1, 1, 1, -1, -1],[ 1, 1, 1, 1, 1, 1, 1, 1, -1, -1],[ -1, -1, -1, -1, -1, 1, 1, 1, -1, -1],[ -1, -1, -1, -1, -1, 1, 1, 1, -1, -1],[ -1, -1, -1, -1, -1, 1, 1, 1, -1, -1],[ -1, -1, -1, -1, -1, 1, 1, 1, -1, -1],[ -1, -1, -1, -1, -1, 1, 1, 1, -1, -1],[ 1, 1, 1, 1, 1, 1, 1, 1, -1, -1],[ 1, 1, 1, 1, 1, 1, 1, 1, -1, -1],[ 1, 1, 1, -1, -1, -1, -1, -1, -1, -1],[ 1, 1, 1, -1, -1, -1, -1, -1, -1, -1],[ 1, 1, 1, -1, -1, -1, -1, -1, -1, -1],[ 1, 1, 1, -1, -1, -1, -1, -1, -1, -1],[ 1, 1, 1, -1, -1, -1, -1, -1, -1, -1],[ 1, 1, 1, 1, 1, 1, 1, 1, -1, -1],[ 1, 1, 1, 1, 1, 1, 1, 1, -1, -1] ]\n",
    "x4=[ [ -1, -1, 1, 1, 1, 1, 1, 1, -1, -1],[ -1, -1, 1, 1, 1, 1, 1, 1, 1, -1],[ -1, -1, -1, -1, -1, -1, 1, 1, 1, -1],[ -1, -1, -1, -1, -1, -1, 1, 1, 1, -1],[ -1, -1, -1, -1, -1, -1, 1, 1, 1, -1],[ -1, -1, -1, -1, -1, -1, 1, 1, 1, -1],[ -1, -1, -1, -1, -1, -1, 1, 1, 1, -1],[ -1, -1, 1, 1, 1, 1, 1, 1, -1, -1],[ -1, -1, 1, 1, 1, 1, 1, 1, -1, -1],[ -1, -1, -1, -1, -1, -1, 1, 1, 1, -1],[ -1, -1, -1, -1, -1, -1, 1, 1, 1, -1],[ -1, -1, -1, -1, -1, -1, 1, 1, 1, -1],[ -1, -1, -1, -1, -1, -1, 1, 1, 1, -1],[ -1, -1, -1, -1, -1, -1, 1, 1, 1, -1],[ -1, -1, 1, 1, 1, 1, 1, 1, 1, -1],[ -1, -1, 1, 1, 1, 1, 1, 1, -1, -1] ]\n",
    "x5=[ [ -1, 1, 1, -1, -1, -1, -1, 1, 1, -1],[ -1, 1, 1, -1, -1, -1, -1, 1, 1, -1],[ -1, 1, 1, -1, -1, -1, -1, 1, 1, -1],[ -1, 1, 1, -1, -1, -1, -1, 1, 1, -1],[ -1, 1, 1, -1, -1, -1, -1, 1, 1, -1],[ -1, 1, 1, -1, -1, -1, -1, 1, 1, -1],[ -1, 1, 1, -1, -1, -1, -1, 1, 1, -1],[ -1, 1, 1, 1, 1, 1, 1, 1, 1, -1],[ -1, 1, 1, 1, 1, 1, 1, 1, 1, -1],[ -1, -1, -1, -1, -1, -1, -1, 1, 1, -1],[ -1, -1, -1, -1, -1, -1, -1, 1, 1, -1],[ -1, -1, -1, -1, -1, -1, -1, 1, 1, -1],[ -1, -1, -1, -1, -1, -1, -1, 1, 1, -1],[ -1, -1, -1, -1, -1, -1, -1, 1, 1, -1],[ -1, -1, -1, -1, -1, -1, -1, 1, 1, -1],[ -1, -1, -1, -1, -1, -1, -1, 1, 1, -1] ]\n",
    "\n",
    "# Convert into numpy and formating\n",
    "x1 = np.concatenate(np.array(x1), axis=0)\n",
    "x2 = np.concatenate(np.array(x2), axis=0)\n",
    "x3 = np.concatenate(np.array(x3), axis=0)\n",
    "x4 = np.concatenate(np.array(x4), axis=0)\n",
    "x5 = np.concatenate(np.array(x5), axis=0)\n",
    "\n",
    "patterns = np.array([x1, x2, x3, x4, x5])\n",
    "\n",
    "#Input patterns\n",
    "input_1 = [[1, 1, 1, 1, 1, 1, 1, 1, 1, 1], [1, 1, 1, -1, -1, -1, -1, 1, 1, 1], [1, 1, -1, -1, -1, -1, -1, -1, 1, 1], [1, -1, -1, -1, 1, 1, -1, -1, -1, 1], [1, -1, -1, -1, 1, 1, -1, -1, -1, 1], [1, -1, -1, -1, 1, 1, -1, -1, -1, 1], [1, -1, -1, -1, 1, 1, -1, -1, -1, 1], [1, -1, -1, -1, 1, 1, -1, -1, -1, 1], [1, -1, -1, -1, 1, -1, 1, 1, 1, -1], [-1, 1, 1, 1, -1, -1, 1, 1, 1, -1], [-1, 1, 1, 1, -1, -1, 1, 1, 1, -1], [-1, 1, 1, 1, -1, -1, 1, 1, 1, -1], [-1, 1, 1, 1, -1, -1, 1, 1, 1, -1], [-1, -1, 1, 1, 1, 1, 1, 1, -1, -1], [-1, -1, -1, 1, 1, 1, 1, -1, -1, -1], [-1, -1, -1, -1, -1, -1, -1, -1, -1, -1]]\n",
    "input_2 = [[1, 1, -1, -1, -1, -1, -1, -1, 1, 1], [1, 1, -1, -1, -1, -1, -1, -1, -1, 1], [1, 1, 1, 1, 1, 1, -1, -1, -1, 1], [1, 1, 1, 1, 1, 1, -1, -1, -1, 1], [1, 1, 1, 1, 1, 1, -1, -1, -1, 1], [1, 1, 1, 1, 1, 1, -1, -1, -1, 1], [1, 1, 1, 1, 1, 1, -1, -1, -1, 1], [1, 1, -1, -1, -1, -1, -1, -1, 1, 1], [1, 1, -1, -1, -1, -1, -1, -1, 1, 1], [1, 1, 1, 1, 1, 1, -1, -1, -1, 1], [1, 1, 1, 1, 1, 1, -1, -1, -1, 1], [1, 1, 1, 1, 1, 1, -1, -1, -1, 1], [1, 1, 1, 1, 1, 1, -1, -1, -1, 1], [1, 1, 1, 1, 1, 1, -1, -1, -1, 1], [1, 1, -1, -1, -1, -1, -1, -1, -1, 1], [1, 1, -1, -1, -1, -1, -1, -1, 1, 1]]\n",
    "input_3 = [[1, 1, 1, -1, -1, 1, -1, 1, 1, -1], [1, 1, 1, -1, -1, 1, -1, 1, 1, -1], [1, 1, 1, -1, -1, 1, -1, 1, 1, -1], [1, 1, 1, -1, -1, 1, -1, 1, 1, -1], [1, 1, 1, -1, -1, 1, -1, 1, 1, -1], [1, 1, 1, -1, -1, 1, -1, 1, 1, -1], [1, 1, 1, -1, -1, 1, -1, 1, 1, -1], [1, 1, 1, 1, 1, -1, 1, 1, 1, -1], [1, 1, 1, 1, 1, -1, 1, 1, 1, -1], [1, -1, -1, -1, -1, 1, -1, 1, 1, -1], [1, -1, -1, -1, -1, 1, -1, 1, 1, -1], [1, -1, -1, -1, -1, 1, -1, 1, 1, -1], [1, -1, -1, -1, -1, 1, -1, 1, 1, -1], [1, -1, -1, -1, -1, 1, -1, 1, 1, -1], [1, -1, -1, -1, -1, 1, -1, 1, 1, -1], [1, -1, -1, -1, -1, 1, -1, 1, 1, -1]]\n",
    "\n",
    "# Convert into numpy and formating\n",
    "input_1 = np.concatenate(np.array(input_1), axis=0)\n",
    "input_2 = np.concatenate(np.array(input_2), axis=0)\n",
    "input_3 = np.concatenate(np.array(input_3), axis=0)\n",
    "\n",
    "input_patterns = [input_1, input_2, input_3]\n",
    "\n",
    "N = x1.shape[0]\n",
    "\n",
    "#Initialize weight w\n",
    "w = np.zeros((N, N))\n",
    "\n",
    "#Update the weights with Hebb's rule and set diagonal to zero\n",
    "for i in range(len(patterns)):\n",
    "   w = w + np.outer(patterns[i], patterns[i]) / N\n",
    "np.fill_diagonal(w,0)\n",
    "\n",
    "#Store all convered patterns\n",
    "converged_pattern_list = []\n",
    "\n",
    "#Initialize pattern\n",
    "previous_pattern = []\n",
    "\n",
    "for k in range(len(input_patterns)):\n",
    "    updated_pattern = input_patterns[k]\n",
    "    \n",
    "    converged = False\n",
    "    #Continue if not converged\n",
    "    while not converged:\n",
    "        \n",
    "        #Check if converged (interesting note, if after the next for loop the first pattern converges to a weird pattern but the rest works, this way however makes it work as intended)\n",
    "        if np.array_equal(updated_pattern, previous_pattern): converged = True\n",
    "\n",
    "        #Set updated pattern to previous pattern\n",
    "        previous_pattern = updated_pattern\n",
    "\n",
    "        #Updated to pattern\n",
    "        for j in range(N):\n",
    "            updated_bit = np.sign(np.dot(w[j], updated_pattern))\n",
    "            if updated_bit == 0: updated_bit = 1\n",
    "            updated_pattern[j] = updated_bit\n",
    "        \n",
    "    converged_pattern_list.append(updated_pattern)\n",
    "    \n",
    "fig, ax = plt.subplots(1,3)\n",
    "ax[0].imshow(np.reshape(converged_pattern_list[0],(16,10)), interpolation='nearest')\n",
    "ax[1].imshow(np.reshape(converged_pattern_list[1],(16,10)), interpolation='nearest')\n",
    "ax[2].imshow(np.reshape(converged_pattern_list[2],(16,10)), interpolation='nearest')\n",
    "plt.show()"
   ]
  },
  {
   "cell_type": "code",
   "execution_count": 24,
   "metadata": {},
   "outputs": [
    {
     "name": "stdout",
     "output_type": "stream",
     "text": [
      "[[-1, -1, -1, 1, 1, 1, 1, -1, -1, -1], [-1, -1, -1, 1, 1, 1, 1, -1, -1, -1], [-1, -1, -1, 1, 1, 1, 1, -1, -1, -1], [-1, -1, -1, 1, 1, 1, 1, -1, -1, -1], [-1, -1, -1, 1, 1, 1, 1, -1, -1, -1], [-1, -1, -1, 1, 1, 1, 1, -1, -1, -1], [-1, -1, -1, 1, 1, 1, 1, -1, -1, -1], [-1, -1, -1, 1, 1, 1, 1, -1, -1, -1], [-1, -1, -1, 1, 1, 1, 1, -1, -1, -1], [-1, -1, -1, 1, 1, 1, 1, -1, -1, -1], [-1, -1, -1, 1, 1, 1, 1, -1, -1, -1], [-1, -1, -1, 1, 1, 1, 1, -1, -1, -1], [-1, -1, -1, 1, 1, 1, 1, -1, -1, -1], [-1, -1, -1, 1, 1, 1, 1, -1, -1, -1], [-1, -1, -1, 1, 1, 1, 1, -1, -1, -1], [-1, -1, -1, 1, 1, 1, 1, -1, -1, -1]]\n"
     ]
    }
   ],
   "source": [
    "pattern_0 = np.reshape(converged_pattern_list[0],(16,10))\n",
    "print(pattern_0.tolist())"
   ]
  },
  {
   "cell_type": "code",
   "execution_count": 25,
   "metadata": {},
   "outputs": [
    {
     "name": "stdout",
     "output_type": "stream",
     "text": [
      "[[1, 1, -1, -1, -1, -1, -1, -1, 1, 1], [1, 1, -1, -1, -1, -1, -1, -1, -1, 1], [1, 1, 1, 1, 1, 1, -1, -1, -1, 1], [1, 1, 1, 1, 1, 1, -1, -1, -1, 1], [1, 1, 1, 1, 1, 1, -1, -1, -1, 1], [1, 1, 1, 1, 1, 1, -1, -1, -1, 1], [1, 1, 1, 1, 1, 1, -1, -1, -1, 1], [1, 1, -1, -1, -1, -1, -1, -1, 1, 1], [1, 1, -1, -1, -1, -1, -1, -1, 1, 1], [1, 1, 1, 1, 1, 1, -1, -1, -1, 1], [1, 1, 1, 1, 1, 1, -1, -1, -1, 1], [1, 1, 1, 1, 1, 1, -1, -1, -1, 1], [1, 1, 1, 1, 1, 1, -1, -1, -1, 1], [1, 1, 1, 1, 1, 1, -1, -1, -1, 1], [1, 1, -1, -1, -1, -1, -1, -1, -1, 1], [1, 1, -1, -1, -1, -1, -1, -1, 1, 1]]\n"
     ]
    }
   ],
   "source": [
    "pattern_1 = np.reshape(converged_pattern_list[1],(16,10))\n",
    "print(pattern_1.tolist())"
   ]
  },
  {
   "cell_type": "code",
   "execution_count": 26,
   "metadata": {},
   "outputs": [
    {
     "name": "stdout",
     "output_type": "stream",
     "text": [
      "[[-1, 1, 1, -1, -1, -1, -1, 1, 1, -1], [-1, 1, 1, -1, -1, -1, -1, 1, 1, -1], [-1, 1, 1, -1, -1, -1, -1, 1, 1, -1], [-1, 1, 1, -1, -1, -1, -1, 1, 1, -1], [-1, 1, 1, -1, -1, -1, -1, 1, 1, -1], [-1, 1, 1, -1, -1, -1, -1, 1, 1, -1], [-1, 1, 1, -1, -1, -1, -1, 1, 1, -1], [-1, 1, 1, 1, 1, 1, 1, 1, 1, -1], [-1, 1, 1, 1, 1, 1, 1, 1, 1, -1], [-1, -1, -1, -1, -1, -1, -1, 1, 1, -1], [-1, -1, -1, -1, -1, -1, -1, 1, 1, -1], [-1, -1, -1, -1, -1, -1, -1, 1, 1, -1], [-1, -1, -1, -1, -1, -1, -1, 1, 1, -1], [-1, -1, -1, -1, -1, -1, -1, 1, 1, -1], [-1, -1, -1, -1, -1, -1, -1, 1, 1, -1], [-1, -1, -1, -1, -1, -1, -1, 1, 1, -1]]\n"
     ]
    }
   ],
   "source": [
    "pattern_2 = np.reshape(converged_pattern_list[2],(16,10))\n",
    "print(pattern_2.tolist())"
   ]
  }
 ],
 "metadata": {
  "kernelspec": {
   "display_name": "Python 3.9.13 ('dml')",
   "language": "python",
   "name": "python3"
  },
  "language_info": {
   "codemirror_mode": {
    "name": "ipython",
    "version": 3
   },
   "file_extension": ".py",
   "mimetype": "text/x-python",
   "name": "python",
   "nbconvert_exporter": "python",
   "pygments_lexer": "ipython3",
   "version": "3.9.13"
  },
  "orig_nbformat": 4,
  "vscode": {
   "interpreter": {
    "hash": "6cb73f00f1a79ec5219b7e12c58ad4323a36ced5025dd310652da15eabb4d3c9"
   }
  }
 },
 "nbformat": 4,
 "nbformat_minor": 2
}
