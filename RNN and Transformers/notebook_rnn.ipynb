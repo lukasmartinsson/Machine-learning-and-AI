{
 "cells": [
  {
   "cell_type": "markdown",
   "metadata": {
    "deletable": false,
    "editable": false,
    "nbgrader": {
     "cell_type": "markdown",
     "checksum": "20a4d65ee77906a86bc39bc4046a2a36",
     "grade": false,
     "grade_id": "cell-5690119ead85e67e",
     "locked": true,
     "schema_version": 3,
     "solution": false,
     "task": false
    }
   },
   "source": [
    "### Checklist for submission\n",
    "\n",
    "It is extremely important to make sure that:\n",
    "\n",
    "1. Everything runs as expected (no bugs when running cells);\n",
    "2. The output from each cell corresponds to its code (don't change any cell's contents without rerunning it afterwards);\n",
    "3. All outputs are present (don't delete any of the outputs);\n",
    "4. Fill in all the places that say `# YOUR CODE HERE`, or \"**Your answer:** (fill in here)\".\n",
    "5. Never copy/paste any notebook cells. Inserting new cells is allowed, but it should not be necessary.\n",
    "6. The notebook contains some hidden metadata which is important during our grading process. **Make sure not to corrupt any of this metadata!** The metadata may for example be corrupted if you copy/paste any notebook cells, or if you perform an unsuccessful git merge / git pull. It may also be pruned completely if using Google Colab, so watch out for this. Searching for \"nbgrader\" when opening the notebook in a text editor should take you to the important metadata entries.\n",
    "7. Although we will try our very best to avoid this, it may happen that bugs are found after an assignment is released, and that we will push an updated version of the assignment to GitHub. If this happens, it is important that you update to the new version, while making sure the notebook metadata is properly updated as well. The safest way to make sure nothing gets messed up is to start from scratch on a clean updated version of the notebook, copy/pasting your code from the cells of the previous version into the cells of the new version.\n",
    "8. If you need to have multiple parallel versions of this notebook, make sure not to move them to another directory.\n",
    "9. Although not forced to work exclusively in the course `conda` environment, you need to make sure that the notebook will run in that environment, i.e. that you have not added any additional dependencies.\n",
    "\n",
    "**FOR HA1, HA2, HA3 ONLY:** Failing to meet any of these requirements might lead to either a subtraction of POEs (at best) or a request for resubmission (at worst).\n",
    "\n",
    "We advise you to perform the following steps before submission to ensure that requirements 1, 2, and 3 are always met: **Restart the kernel** (in the menubar, select Kernel$\\rightarrow$Restart) and then **run all cells** (in the menubar, select Cell$\\rightarrow$Run All). This might require a bit of time, so plan ahead for this (and possibly use a cloud GPU in HA1 and HA2 for this step). Finally press the \"Save and Checkout\" button before handing in, to make sure that all your changes are saved to this .ipynb file."
   ]
  },
  {
   "cell_type": "markdown",
   "metadata": {
    "deletable": false,
    "editable": false,
    "nbgrader": {
     "cell_type": "markdown",
     "checksum": "a6bb874a16c1ff767ac0f37ce0491265",
     "grade": false,
     "grade_id": "cell-774c93bf6433de68",
     "locked": true,
     "schema_version": 3,
     "solution": false,
     "task": false
    }
   },
   "source": [
    "### Fill in name of notebook file\n",
    "This might seem silly, but the version check below needs to know the filename of the current notebook, which is not trivial to find out programmatically.\n",
    "\n",
    "You might want to have several parallel versions of the notebook, and it is fine to rename the notebook as long as it stays in the same directory. **However**, if you do rename it, you also need to update its own filename below:"
   ]
  },
  {
   "cell_type": "code",
   "execution_count": 2,
   "metadata": {},
   "outputs": [],
   "source": [
    "nb_fname = \"HA2-Part1.ipynb\""
   ]
  },
  {
   "cell_type": "markdown",
   "metadata": {
    "deletable": false,
    "editable": false,
    "nbgrader": {
     "cell_type": "markdown",
     "checksum": "879883c2ea755808ffd00aeee5c77a00",
     "grade": false,
     "grade_id": "cell-5676bcf768a7f9be",
     "locked": true,
     "schema_version": 3,
     "solution": false,
     "task": false
    }
   },
   "source": [
    "### Fill in group number and member names (use NAME2 and GROUP only for HA1, HA2 and HA3):"
   ]
  },
  {
   "cell_type": "code",
   "execution_count": 3,
   "metadata": {},
   "outputs": [],
   "source": [
    "NAME1 = \"Emil Holmberg\" \n",
    "NAME2 = \"Lukas Martinsson\"\n",
    "GROUP = \"71\""
   ]
  },
  {
   "cell_type": "markdown",
   "metadata": {
    "deletable": false,
    "editable": false,
    "nbgrader": {
     "cell_type": "markdown",
     "checksum": "42f960a95815e1aa3ce8132fcec59cd9",
     "grade": false,
     "grade_id": "cell-a15fe781533d9590",
     "locked": true,
     "schema_version": 3,
     "solution": false,
     "task": false
    }
   },
   "source": [
    "### Check Python version"
   ]
  },
  {
   "cell_type": "code",
   "execution_count": 4,
   "metadata": {
    "deletable": false,
    "editable": false,
    "nbgrader": {
     "cell_type": "code",
     "checksum": "736e393ef62f60d5e70432726e7209e0",
     "grade": false,
     "grade_id": "cell-2b9c2390ee464c39",
     "locked": true,
     "schema_version": 3,
     "solution": false,
     "task": false
    }
   },
   "outputs": [],
   "source": [
    "from platform import python_version_tuple\n",
    "assert python_version_tuple()[:2] == ('3','9'), \"You are not running Python 3.9. Make sure to run Python through the course Conda environment.\""
   ]
  },
  {
   "cell_type": "markdown",
   "metadata": {
    "deletable": false,
    "editable": false,
    "nbgrader": {
     "cell_type": "markdown",
     "checksum": "15ec4309f1e85f6e17bda73b9b6f48a2",
     "grade": false,
     "grade_id": "cell-4869b45600ce82f8",
     "locked": true,
     "schema_version": 3,
     "solution": false,
     "task": false
    }
   },
   "source": [
    "### Check that notebook server has access to all required resources, and that notebook has not moved"
   ]
  },
  {
   "cell_type": "code",
   "execution_count": 5,
   "metadata": {
    "deletable": false,
    "editable": false,
    "nbgrader": {
     "cell_type": "code",
     "checksum": "a2d199303c73ec86d25177caf39e385f",
     "grade": false,
     "grade_id": "cell-122ac3d9100b8afb",
     "locked": true,
     "schema_version": 3,
     "solution": false,
     "task": false
    }
   },
   "outputs": [],
   "source": [
    "import os\n",
    "nb_dirname = os.path.abspath('')\n",
    "assignment_name = os.path.basename(nb_dirname)\n",
    "assert assignment_name in ['IHA1', 'IHA2', 'HA1', 'HA2', 'HA3'], \\\n",
    "    '[ERROR] The notebook appears to have been moved from its original directory'"
   ]
  },
  {
   "cell_type": "markdown",
   "metadata": {
    "deletable": false,
    "editable": false,
    "nbgrader": {
     "cell_type": "markdown",
     "checksum": "f09f40b5350db83232189137c550f0a1",
     "grade": false,
     "grade_id": "cell-2455deee513cd39c",
     "locked": true,
     "schema_version": 3,
     "solution": false,
     "task": false
    }
   },
   "source": [
    "### Verify correct nb_fname"
   ]
  },
  {
   "cell_type": "code",
   "execution_count": 6,
   "metadata": {
    "deletable": false,
    "editable": false,
    "nbgrader": {
     "cell_type": "code",
     "checksum": "a78c7227b049bb147e6c363affb6dae8",
     "grade": false,
     "grade_id": "cell-0472e2fd710f1d72",
     "locked": true,
     "schema_version": 3,
     "solution": false,
     "task": false
    }
   },
   "outputs": [
    {
     "data": {
      "text/html": [
       "<script>if(\"HA2-Part1.ipynb\" != IPython.notebook.notebook_name) { alert(\"You have filled in nb_fname = \\\"HA2-Part1.ipynb\\\", but this does not seem to match the notebook filename \\\"\" + IPython.notebook.notebook_name + \"\\\".\"); }</script>"
      ],
      "text/plain": [
       "<IPython.core.display.HTML object>"
      ]
     },
     "metadata": {},
     "output_type": "display_data"
    }
   ],
   "source": [
    "from IPython.display import display, HTML\n",
    "try:\n",
    "    display(HTML(r'<script>if(\"{nb_fname}\" != IPython.notebook.notebook_name) {{ alert(\"You have filled in nb_fname = \\\"{nb_fname}\\\", but this does not seem to match the notebook filename \\\"\" + IPython.notebook.notebook_name + \"\\\".\"); }}</script>'.format(nb_fname=nb_fname)))\n",
    "except NameError:\n",
    "    assert False, 'Make sure to fill in the nb_fname variable above!'"
   ]
  },
  {
   "cell_type": "markdown",
   "metadata": {
    "deletable": false,
    "editable": false,
    "nbgrader": {
     "cell_type": "markdown",
     "checksum": "98d88d8e8da19693053764f29dcc591d",
     "grade": false,
     "grade_id": "cell-ceacb1adcae4783d",
     "locked": true,
     "schema_version": 3,
     "solution": false,
     "task": false
    }
   },
   "source": [
    "### Verify that your notebook is up-to-date and not corrupted in any way"
   ]
  },
  {
   "cell_type": "code",
   "execution_count": 7,
   "metadata": {
    "deletable": false,
    "editable": false,
    "nbgrader": {
     "cell_type": "code",
     "checksum": "bb700528d4644601c1a8c91ef1d84635",
     "grade": false,
     "grade_id": "cell-f5a59288e11b4aec",
     "locked": true,
     "schema_version": 3,
     "solution": false,
     "task": false
    }
   },
   "outputs": [
    {
     "name": "stdout",
     "output_type": "stream",
     "text": [
      "Matching current notebook against the following URL:\n",
      "http://raw.githubusercontent.com/JulianoLagana/deep-machine-learning/master/home-assignments/HA2/HA2-Part1.ipynb\n",
      "[SUCCESS] No major notebook mismatch found when comparing to latest GitHub version. (There might be minor updates, but even that is the case, submitting your work based on this notebook version would be acceptable.)\n"
     ]
    }
   ],
   "source": [
    "import sys\n",
    "sys.path.append('..')\n",
    "from ha_utils import check_notebook_uptodate_and_not_corrupted\n",
    "check_notebook_uptodate_and_not_corrupted(nb_dirname, nb_fname)"
   ]
  },
  {
   "cell_type": "markdown",
   "metadata": {
    "deletable": false,
    "editable": false,
    "nbgrader": {
     "cell_type": "markdown",
     "checksum": "1a3d4c3586543ada9e989a70ca0b714f",
     "grade": false,
     "grade_id": "cell-64e1db7b9018bb3c",
     "locked": true,
     "schema_version": 3,
     "solution": false
    }
   },
   "source": [
    "# HA2 - Recurrent Neural Networks"
   ]
  },
  {
   "cell_type": "markdown",
   "metadata": {
    "deletable": false,
    "editable": false,
    "nbgrader": {
     "cell_type": "markdown",
     "checksum": "ede543ca35a8a171477021feba7cac50",
     "grade": false,
     "grade_id": "cell-2a56acd8b54adbc7",
     "locked": true,
     "schema_version": 3,
     "solution": false
    }
   },
   "source": [
    "This assignment is divided into two parts. In the first one, you will implement a vanilla RNN module from scratch using PyTorch to perform the task of predicting the nationality of a given name. In the second, you will implement many of the components in a Transformer block, and use it to classify movie reviews as positive or negative. \n",
    "\n",
    "For efficient use of GPU hours, you can do all development up until the training on a CPU. You can then run the training on a GPU for faster training times. "
   ]
  },
  {
   "cell_type": "markdown",
   "metadata": {
    "deletable": false,
    "editable": false,
    "nbgrader": {
     "cell_type": "markdown",
     "checksum": "b230b916db79763c4ae31f10fb3834ed",
     "grade": false,
     "grade_id": "cell-a7a1fe5598d08eae",
     "locked": true,
     "schema_version": 3,
     "solution": false
    }
   },
   "source": [
    "## Task 1 - Predicting Nationalities"
   ]
  },
  {
   "cell_type": "markdown",
   "metadata": {
    "deletable": false,
    "editable": false,
    "nbgrader": {
     "cell_type": "markdown",
     "checksum": "f6d2792c8867f0fd983839444067a2e1",
     "grade": false,
     "grade_id": "cell-aad0c935c03346c9",
     "locked": true,
     "schema_version": 3,
     "solution": false
    }
   },
   "source": [
    "In this task, you will create an RNN module using PyTorch, and train it to predict the nationality of a given input name. Your RNN will process each character of an input name at a time, and at the last character output a probability mass function over the possible countries.\n",
    "\n",
    "The data for this task is present in the file `data/nam_dict.txt`. After parsing it we will have around 44k names from 41 different countries."
   ]
  },
  {
   "cell_type": "markdown",
   "metadata": {
    "deletable": false,
    "editable": false,
    "nbgrader": {
     "cell_type": "markdown",
     "checksum": "88e94a32152c5c6447c42352b00c56f6",
     "grade": false,
     "grade_id": "cell-781c35fef278ad47",
     "locked": true,
     "schema_version": 3,
     "solution": false
    }
   },
   "source": [
    "### 1.1 Loading the data"
   ]
  },
  {
   "cell_type": "markdown",
   "metadata": {
    "deletable": false,
    "editable": false,
    "nbgrader": {
     "cell_type": "markdown",
     "checksum": "ef4e3f8191d07d16c7129210867e1cc4",
     "grade": false,
     "grade_id": "cell-12c085211bc03428",
     "locked": true,
     "schema_version": 3,
     "solution": false
    }
   },
   "source": [
    "We'll start by loading the data from the `nam_dict.txt` file, using the provided method `get_data_from_file`."
   ]
  },
  {
   "cell_type": "code",
   "execution_count": 8,
   "metadata": {
    "deletable": false,
    "editable": false,
    "nbgrader": {
     "cell_type": "code",
     "checksum": "578b8dc7fef786bb9d0eb9bfd9804796",
     "grade": false,
     "grade_id": "cell-7c9a70be36d77bde",
     "locked": true,
     "schema_version": 3,
     "solution": false
    }
   },
   "outputs": [],
   "source": [
    "from utils.load_names import get_data_from_file\n",
    "names_dict = get_data_from_file('data/nam_dict.txt')"
   ]
  },
  {
   "cell_type": "markdown",
   "metadata": {
    "deletable": false,
    "editable": false,
    "nbgrader": {
     "cell_type": "markdown",
     "checksum": "e4396ec5026f36d2d897eb28273fa47c",
     "grade": false,
     "grade_id": "cell-3d6450ecfff464cf",
     "locked": true,
     "schema_version": 3,
     "solution": false
    }
   },
   "source": [
    "The newly-created variable `names_dict` is a dictionary where each country is a key, and the value is the corresponding list of names from that country."
   ]
  },
  {
   "cell_type": "code",
   "execution_count": 9,
   "metadata": {
    "deletable": false,
    "editable": false,
    "nbgrader": {
     "cell_type": "code",
     "checksum": "0a3c16d045a6e3ea16cae84c8f4039b8",
     "grade": false,
     "grade_id": "cell-2979a922e5fd9032",
     "locked": true,
     "schema_version": 3,
     "solution": false
    }
   },
   "outputs": [
    {
     "data": {
      "text/plain": [
       "dict_keys(['Great Britain', 'Ireland', 'U.S.A.', 'Italy', 'Portugal', 'Spain', 'France', 'the Netherlands', 'East Frisia', 'Germany', 'Swiss', 'Iceland', 'Denmark', 'Norway', 'Sweden', 'Finland', 'Estonia', 'Latvia', 'Lithuania', 'Hungary', 'Romania', 'Bulgaria', 'Bosnia and Herzegovina', 'Croatia', 'Kosovo', 'Serbia', 'Albania', 'Greece', 'Russia', 'Ukraine', 'Armenia', 'Azerbaijan', 'Kazakhstan/Uzbekistan,etc.', 'Turkey', 'Arabia/Persia', 'Israel', 'China', 'India/Sri Lanka', 'Japan', 'Korea', 'Vietnam'])"
      ]
     },
     "execution_count": 9,
     "metadata": {},
     "output_type": "execute_result"
    }
   ],
   "source": [
    "names_dict.keys()"
   ]
  },
  {
   "cell_type": "code",
   "execution_count": 10,
   "metadata": {
    "deletable": false,
    "editable": false,
    "nbgrader": {
     "cell_type": "code",
     "checksum": "fabffeb8a60ded472b3ab0996e6acd34",
     "grade": false,
     "grade_id": "cell-b9578aa61d75938e",
     "locked": true,
     "schema_version": 3,
     "solution": false
    }
   },
   "outputs": [
    {
     "data": {
      "text/plain": [
       "['Achilleas',\n",
       " 'Achillefs',\n",
       " 'Adamantia',\n",
       " 'Adamantini',\n",
       " 'Adamantios',\n",
       " 'Aeneas',\n",
       " 'Afroditi',\n",
       " 'Agapi',\n",
       " 'Agapios',\n",
       " 'Agathi']"
      ]
     },
     "execution_count": 10,
     "metadata": {},
     "output_type": "execute_result"
    }
   ],
   "source": [
    "names_dict['Greece'][:10]"
   ]
  },
  {
   "cell_type": "markdown",
   "metadata": {
    "deletable": false,
    "editable": false,
    "nbgrader": {
     "cell_type": "markdown",
     "checksum": "298f96dbddf1b6528aba07514a1442de",
     "grade": false,
     "grade_id": "cell-172dd5d6a5c41971",
     "locked": true,
     "schema_version": 3,
     "solution": false
    }
   },
   "source": [
    "Let's look at the dataset in more detail. Plot the number of names in each country using a [bar plot](https://matplotlib.org/3.1.1/api/_as_gen/matplotlib.pyplot.bar.html).\n",
    "\n",
    "*Hints*:\n",
    "\n",
    "- You can put labels in the x-axis using the method [`xticks`](https://matplotlib.org/3.1.1/api/_as_gen/matplotlib.pyplot.xticks.html).\n",
    "- The `xticks` method accepts a keyword argument named `rotation`."
   ]
  },
  {
   "cell_type": "code",
   "execution_count": 11,
   "metadata": {
    "deletable": false,
    "nbgrader": {
     "cell_type": "code",
     "checksum": "239562267cb4dc6cbc5bdd6e1fa817be",
     "grade": true,
     "grade_id": "cell-ff582e8e844bfb50",
     "locked": false,
     "points": 0,
     "schema_version": 3,
     "solution": true
    }
   },
   "outputs": [
    {
     "data": {
      "image/png": "[encoded data removed]",
      "text/plain": [
       "<Figure size 640x480 with 1 Axes>"
      ]
     },
     "metadata": {},
     "output_type": "display_data"
    },
    {
     "name": "stdout",
     "output_type": "stream",
     "text": [
      "China U.S.A. Italy\n"
     ]
    }
   ],
   "source": [
    "%matplotlib inline\n",
    "import matplotlib.pyplot as plt\n",
    "import numpy as np\n",
    "\n",
    "nr_names = []\n",
    "countries = []\n",
    "\n",
    "for key, value in names_dict.items():\n",
    "    nr_names.append(len(names_dict[key]))\n",
    "    countries.append(key)\n",
    "\n",
    "plt.bar(countries,nr_names)\n",
    "plt.xticks(rotation = 90)\n",
    "plt.show()\n",
    "\n",
    "indices = np.argsort(nr_names)[::-1][:3]\n",
    "print(countries[indices[0]], countries[indices[1]], countries[indices[2]])"
   ]
  },
  {
   "cell_type": "markdown",
   "metadata": {
    "deletable": false,
    "editable": false,
    "nbgrader": {
     "cell_type": "markdown",
     "checksum": "49ae44d43070a2af47e3d5fc76723983",
     "grade": false,
     "grade_id": "cell-390475b6777ce344",
     "locked": true,
     "schema_version": 3,
     "solution": false
    }
   },
   "source": [
    "**[1 point]** Is this dataset balanced? If not, which are the top-3 countries with most names?"
   ]
  },
  {
   "cell_type": "markdown",
   "metadata": {
    "deletable": false,
    "nbgrader": {
     "cell_type": "markdown",
     "checksum": "d6423fd1b8b08bade86d7733d2c62a87",
     "grade": true,
     "grade_id": "cell-e70912fa2bf69d84",
     "locked": false,
     "points": 1,
     "schema_version": 3,
     "solution": true
    }
   },
   "source": [
    "**Your answer:** It's not very balanced, China, U.S.A and Italy are the top-3 countries with the most names."
   ]
  },
  {
   "cell_type": "markdown",
   "metadata": {
    "deletable": false,
    "editable": false,
    "nbgrader": {
     "cell_type": "markdown",
     "checksum": "1db6be82caa3a09c812b3158187adcf8",
     "grade": false,
     "grade_id": "cell-b332445688db5846",
     "locked": true,
     "schema_version": 3,
     "solution": false
    }
   },
   "source": [
    "### 1.2 Pre-processing"
   ]
  },
  {
   "cell_type": "markdown",
   "metadata": {
    "deletable": false,
    "editable": false,
    "nbgrader": {
     "cell_type": "markdown",
     "checksum": "8e9d2c3be16a91407c9403684b28ddfe",
     "grade": false,
     "grade_id": "cell-0248575eadc7e93e",
     "locked": true,
     "schema_version": 3,
     "solution": false
    }
   },
   "source": [
    "We will train an RNN which takes as input one character at each time-step. In order to do so, we will encode every character in the input names into a one-hot representation that is more suited to be fed to neural networks. \n",
    "\n",
    "The first thing we need to do is to decide the size of the alphabet used for the one-hot encoding. To do so, let's take a look at all the characters used in the dataset. A simple way to do so is putting all names in the same string and then using a `set` to get the unique values. We'll treat upper-case and lower-case characters as being the same."
   ]
  },
  {
   "cell_type": "code",
   "execution_count": 12,
   "metadata": {
    "deletable": false,
    "editable": false,
    "nbgrader": {
     "cell_type": "code",
     "checksum": "15729f64b2153b2e68e269a326136254",
     "grade": false,
     "grade_id": "cell-6b58e326e17e53f5",
     "locked": true,
     "schema_version": 3,
     "solution": false
    }
   },
   "outputs": [
    {
     "data": {
      "text/plain": [
       "[' ',\n",
       " \"'\",\n",
       " '-',\n",
       " 'a',\n",
       " 'b',\n",
       " 'c',\n",
       " 'd',\n",
       " 'e',\n",
       " 'f',\n",
       " 'g',\n",
       " 'h',\n",
       " 'i',\n",
       " 'j',\n",
       " 'k',\n",
       " 'l',\n",
       " 'm',\n",
       " 'n',\n",
       " 'o',\n",
       " 'p',\n",
       " 'q',\n",
       " 'r',\n",
       " 's',\n",
       " 't',\n",
       " 'u',\n",
       " 'v',\n",
       " 'w',\n",
       " 'x',\n",
       " 'y',\n",
       " 'z',\n",
       " 'ß',\n",
       " 'à',\n",
       " 'á',\n",
       " 'â',\n",
       " 'ã',\n",
       " 'ä',\n",
       " 'å',\n",
       " 'æ',\n",
       " 'ç',\n",
       " 'è',\n",
       " 'é',\n",
       " 'ê',\n",
       " 'ë',\n",
       " 'í',\n",
       " 'î',\n",
       " 'ï',\n",
       " 'ð',\n",
       " 'ñ',\n",
       " 'ò',\n",
       " 'ó',\n",
       " 'ô',\n",
       " 'õ',\n",
       " 'ö',\n",
       " 'ø',\n",
       " 'ú',\n",
       " 'ü',\n",
       " 'ý',\n",
       " 'þ']"
      ]
     },
     "execution_count": 12,
     "metadata": {},
     "output_type": "execute_result"
    }
   ],
   "source": [
    "temp = \"\"\n",
    "for name_list in names_dict.values():\n",
    "    for name in name_list:\n",
    "        temp += name.lower()\n",
    "charset = sorted(set(temp))\n",
    "charset\n"
   ]
  },
  {
   "cell_type": "markdown",
   "metadata": {
    "deletable": false,
    "editable": false,
    "nbgrader": {
     "cell_type": "markdown",
     "checksum": "aa26ef5d12faceb8d330856b41769a40",
     "grade": false,
     "grade_id": "cell-c28ba53b5126e2f5",
     "locked": true,
     "schema_version": 3,
     "solution": false
    }
   },
   "source": [
    "Now we can create a function that takes as input a name, and outputs a `(name length) x (charset length)` tensor."
   ]
  },
  {
   "cell_type": "code",
   "execution_count": 13,
   "metadata": {
    "deletable": false,
    "editable": false,
    "nbgrader": {
     "cell_type": "code",
     "checksum": "14585ce3bdfe1f68870f92fa78e537ad",
     "grade": false,
     "grade_id": "cell-e078bcfbef92ef2d",
     "locked": true,
     "schema_version": 3,
     "solution": false
    }
   },
   "outputs": [],
   "source": [
    "import torch"
   ]
  },
  {
   "cell_type": "code",
   "execution_count": 14,
   "metadata": {
    "deletable": false,
    "editable": false,
    "nbgrader": {
     "cell_type": "code",
     "checksum": "650bc6a662a9ecae216e389f1f540591",
     "grade": false,
     "grade_id": "cell-28b1f4faf5fe75a3",
     "locked": true,
     "schema_version": 3,
     "solution": false
    }
   },
   "outputs": [],
   "source": [
    "def name2tensor(name):\n",
    "    name = name.lower()\n",
    "\n",
    "    # Create tensor of correct size filled with zeros\n",
    "    tensor = torch.zeros(len(name), len(charset))\n",
    "\n",
    "    # For each letter, fill in the tensor with a 1 in the position corresponding to the character index in the charset\n",
    "    for i, letter in enumerate(name):\n",
    "        char_index = charset.index(letter)\n",
    "        tensor[i][char_index] = 1\n",
    "\n",
    "    return tensor\n"
   ]
  },
  {
   "cell_type": "code",
   "execution_count": 15,
   "metadata": {
    "deletable": false,
    "editable": false,
    "nbgrader": {
     "cell_type": "code",
     "checksum": "8a9bbbdc34b5d27a2f3187bda44fa59f",
     "grade": false,
     "grade_id": "cell-5d8cbbfaa7917f2c",
     "locked": true,
     "schema_version": 3,
     "solution": false
    }
   },
   "outputs": [
    {
     "data": {
      "text/plain": [
       "tensor([[0., 0., 0., 1., 0., 0., 0., 0., 0., 0., 0., 0., 0., 0., 0., 0., 0., 0.,\n",
       "         0., 0., 0., 0., 0., 0., 0., 0., 0., 0., 0., 0., 0., 0., 0., 0., 0., 0.,\n",
       "         0., 0., 0., 0., 0., 0., 0., 0., 0., 0., 0., 0., 0., 0., 0., 0., 0., 0.,\n",
       "         0., 0., 0.],\n",
       "        [0., 0., 0., 0., 0., 0., 0., 0., 0., 0., 0., 0., 0., 0., 1., 0., 0., 0.,\n",
       "         0., 0., 0., 0., 0., 0., 0., 0., 0., 0., 0., 0., 0., 0., 0., 0., 0., 0.,\n",
       "         0., 0., 0., 0., 0., 0., 0., 0., 0., 0., 0., 0., 0., 0., 0., 0., 0., 0.,\n",
       "         0., 0., 0.],\n",
       "        [0., 0., 0., 0., 0., 0., 0., 0., 0., 0., 0., 1., 0., 0., 0., 0., 0., 0.,\n",
       "         0., 0., 0., 0., 0., 0., 0., 0., 0., 0., 0., 0., 0., 0., 0., 0., 0., 0.,\n",
       "         0., 0., 0., 0., 0., 0., 0., 0., 0., 0., 0., 0., 0., 0., 0., 0., 0., 0.,\n",
       "         0., 0., 0.]])"
      ]
     },
     "execution_count": 15,
     "metadata": {},
     "output_type": "execute_result"
    }
   ],
   "source": [
    "name2tensor('Ali')"
   ]
  },
  {
   "cell_type": "markdown",
   "metadata": {
    "deletable": false,
    "editable": false,
    "nbgrader": {
     "cell_type": "markdown",
     "checksum": "20d3d8b2de876fd7d1160298362838a2",
     "grade": false,
     "grade_id": "cell-21a59eb745d70bfd",
     "locked": true,
     "schema_version": 3,
     "solution": false,
     "task": false
    }
   },
   "source": [
    "Why does the above output tensor contain a 1 at position (0,3)?"
   ]
  },
  {
   "cell_type": "markdown",
   "metadata": {
    "deletable": false,
    "nbgrader": {
     "cell_type": "markdown",
     "checksum": "49c4292927f944a5edca1db964fcd7f3",
     "grade": true,
     "grade_id": "cell-39860df3e01f0204",
     "locked": false,
     "points": 0,
     "schema_version": 3,
     "solution": true,
     "task": false
    }
   },
   "source": [
    "**Your answer:** Since the letter a is one hot encoded, a represents index 3 (the first 0-2 \"letters are ' ', \"'\",'-'), meaning that index 3 should be 1 and the rest 0. Note that the code is case insensitive, thus A and a represent the same one hot encoding."
   ]
  },
  {
   "cell_type": "markdown",
   "metadata": {
    "deletable": false,
    "editable": false,
    "nbgrader": {
     "cell_type": "markdown",
     "checksum": "abff2aa6c349d74ed86f1f6196b5344e",
     "grade": false,
     "grade_id": "cell-5beb6efb1f504ce2",
     "locked": true,
     "schema_version": 3,
     "solution": false
    }
   },
   "source": [
    "**[1 point]** What happens if you try encoding the string `Lol@` using this function? Why?"
   ]
  },
  {
   "cell_type": "markdown",
   "metadata": {
    "deletable": false,
    "nbgrader": {
     "cell_type": "markdown",
     "checksum": "cd3dde14286714be377711d5877f5be8",
     "grade": true,
     "grade_id": "cell-613a1d700434e11a",
     "locked": false,
     "points": 1,
     "schema_version": 3,
     "solution": true
    }
   },
   "source": [
    "**Your answer:** It will return an error since ther is no @ in the tensor, hence it cannot understand it."
   ]
  },
  {
   "cell_type": "markdown",
   "metadata": {
    "deletable": false,
    "editable": false,
    "nbgrader": {
     "cell_type": "markdown",
     "checksum": "fd84162dfdb2a3a9f880137ea0c6cf80",
     "grade": false,
     "grade_id": "cell-fdfe2093caad0c9d",
     "locked": true,
     "schema_version": 3,
     "solution": false
    }
   },
   "source": [
    "It's definitely possible to use the tensors created with `name2tensor` to train our RNN, but in that case we would only be able to conveniently perform forward-propagation using one sample at a time.\n",
    "\n",
    "Instead, we want to batch samples together and parallelize the forward-propagation step. To do so, all samples must have the same dimensions (right now every sample has dimension `(name length) x (charset length)`, and the length of the names varies). Modify the function `name2padded_tensor` to achieve this by padding the start of the tensor with zeros, so that the output tensor always has length `target_len x (charset length)`. **[1 point]**\n",
    "\n",
    "*Hint*:\n",
    "\n",
    "- To make it easier to catch bugs in the next parts of the assignment, make sure to raise an exception if the `target_len` is smaller than the length of the input word."
   ]
  },
  {
   "cell_type": "code",
   "execution_count": 16,
   "metadata": {
    "deletable": false,
    "nbgrader": {
     "cell_type": "code",
     "checksum": "ffe913eba6ac53a7bfd9cb4b3252f8df",
     "grade": true,
     "grade_id": "cell-fbe880f01de97439",
     "locked": false,
     "points": 1,
     "schema_version": 3,
     "solution": true
    }
   },
   "outputs": [
    {
     "name": "stdout",
     "output_type": "stream",
     "text": [
      "tensor([[0., 0., 0., 0., 0., 0., 0., 0., 0., 0., 0., 0., 0., 0., 0., 0., 0., 0.,\n",
      "         0., 0., 0., 0., 0., 0., 0., 0., 0., 0., 0., 0., 0., 0., 0., 0., 0., 0.,\n",
      "         0., 0., 0., 0., 0., 0., 0., 0., 0., 0., 0., 0., 0., 0., 0., 0., 0., 0.,\n",
      "         0., 0., 0.],\n",
      "        [0., 0., 0., 0., 0., 0., 0., 0., 0., 0., 0., 0., 0., 0., 0., 0., 0., 0.,\n",
      "         0., 0., 0., 0., 0., 0., 0., 0., 0., 0., 0., 0., 0., 0., 0., 0., 0., 0.,\n",
      "         0., 0., 0., 0., 0., 0., 0., 0., 0., 0., 0., 0., 0., 0., 0., 0., 0., 0.,\n",
      "         0., 0., 0.],\n",
      "        [0., 0., 0., 0., 0., 0., 0., 0., 0., 0., 0., 0., 0., 0., 0., 0., 0., 0.,\n",
      "         0., 0., 0., 0., 0., 0., 0., 0., 0., 0., 0., 0., 0., 0., 0., 0., 0., 0.,\n",
      "         0., 0., 0., 0., 0., 0., 0., 0., 0., 0., 0., 0., 0., 0., 0., 0., 0., 0.,\n",
      "         0., 0., 0.],\n",
      "        [0., 0., 0., 1., 0., 0., 0., 0., 0., 0., 0., 0., 0., 0., 0., 0., 0., 0.,\n",
      "         0., 0., 0., 0., 0., 0., 0., 0., 0., 0., 0., 0., 0., 0., 0., 0., 0., 0.,\n",
      "         0., 0., 0., 0., 0., 0., 0., 0., 0., 0., 0., 0., 0., 0., 0., 0., 0., 0.,\n",
      "         0., 0., 0.],\n",
      "        [0., 0., 0., 0., 0., 0., 0., 0., 0., 0., 0., 0., 0., 0., 1., 0., 0., 0.,\n",
      "         0., 0., 0., 0., 0., 0., 0., 0., 0., 0., 0., 0., 0., 0., 0., 0., 0., 0.,\n",
      "         0., 0., 0., 0., 0., 0., 0., 0., 0., 0., 0., 0., 0., 0., 0., 0., 0., 0.,\n",
      "         0., 0., 0.],\n",
      "        [0., 0., 0., 0., 0., 0., 0., 0., 0., 0., 0., 1., 0., 0., 0., 0., 0., 0.,\n",
      "         0., 0., 0., 0., 0., 0., 0., 0., 0., 0., 0., 0., 0., 0., 0., 0., 0., 0.,\n",
      "         0., 0., 0., 0., 0., 0., 0., 0., 0., 0., 0., 0., 0., 0., 0., 0., 0., 0.,\n",
      "         0., 0., 0.]])\n"
     ]
    }
   ],
   "source": [
    "def name2padded_tensor(name, target_len):\n",
    "\n",
    "    tensor = name2tensor(name)\n",
    "    zeros = torch.zeros(target_len - tensor.size()[0],list(tensor[0].size())[0])\n",
    "    return torch.cat((zeros,tensor))\n",
    "    \n",
    "    # YOUR CODE HERE\n",
    "t = name2padded_tensor(\"Ali\", 6)\n",
    "print(t)"
   ]
  },
  {
   "cell_type": "code",
   "execution_count": 17,
   "metadata": {
    "deletable": false,
    "editable": false,
    "nbgrader": {
     "cell_type": "code",
     "checksum": "257254f3708846a4f856736452ef4231",
     "grade": false,
     "grade_id": "cell-22bb8ede1d7a7da2",
     "locked": true,
     "schema_version": 3,
     "solution": false
    }
   },
   "outputs": [
    {
     "name": "stdout",
     "output_type": "stream",
     "text": [
      "Test passed.\n"
     ]
    }
   ],
   "source": [
    "def test_name2padded_tensor():\n",
    "    test_case(case_id=\"1\", name=\"Ali\", target_len=5)\n",
    "    test_case(case_id=\"2\", name=\"Ali Baba\", target_len=10)\n",
    "    print(\"Test passed.\")\n",
    "\n",
    "\n",
    "def test_case(case_id, name, target_len):\n",
    "    padded_tensor = name2padded_tensor(name, target_len)\n",
    "    new_target_len, new_charset_len = padded_tensor.shape\n",
    "    err_string = \"Case {} failed: {}\"\n",
    "\n",
    "    assert new_target_len == target_len, err_string.format(\n",
    "        case_id,\n",
    "        \"`target_len` not preserved, expected: {}, got: {}\".format(\n",
    "            target_len, new_target_len\n",
    "        ),\n",
    "    )\n",
    "\n",
    "    assert new_charset_len == 57, err_string.format(\n",
    "        \"`charset_len` not preserved, expected: 57, got: {}\".format(new_charset_len)\n",
    "    )\n",
    "\n",
    "    assert padded_tensor[:2, :].sum() == 0, err_string.format(\n",
    "        \"The first two rows of the tensor should be all zeros.\"\n",
    "    )\n",
    "\n",
    "    assert (\n",
    "        padded_tensor.sum(1) <= torch.ones((target_len, 1))\n",
    "    ).all(), err_string.format(\"Every row in the tensor should sum to at most 1.\")\n",
    "\n",
    "    assert padded_tensor.sum() <= len(name), err_string.format(\n",
    "        \"The sum of all elements (i.e. the number of ones) should equal the number of characters in the name.\"\n",
    "    )\n",
    "\n",
    "\n",
    "test_name2padded_tensor()\n"
   ]
  },
  {
   "cell_type": "markdown",
   "metadata": {
    "deletable": false,
    "editable": false,
    "nbgrader": {
     "cell_type": "markdown",
     "checksum": "40a31911c299c0b4bd28507c4b83a495",
     "grade": false,
     "grade_id": "cell-c9657b653aeb1c93",
     "locked": true,
     "schema_version": 3,
     "solution": false
    }
   },
   "source": [
    "What should be the target length for our case in this dataset? Compute it (i.e. don't hardcode it) in the cell below and save it in a variable named `target_len`, which will be used from here on. **[1 point]**"
   ]
  },
  {
   "cell_type": "code",
   "execution_count": 18,
   "metadata": {
    "deletable": false,
    "nbgrader": {
     "cell_type": "code",
     "checksum": "afd8709144756431f61194d101ac9f5e",
     "grade": true,
     "grade_id": "cell-ceb412223ee3e6dd",
     "locked": false,
     "points": 1,
     "schema_version": 3,
     "solution": true
    }
   },
   "outputs": [],
   "source": [
    "target_len = max([max([len(x) for x in list(names_dict.values())[i]]) for i in range(len(names_dict))]) # max name length of the max length for each country"
   ]
  },
  {
   "cell_type": "markdown",
   "metadata": {
    "deletable": false,
    "editable": false,
    "nbgrader": {
     "cell_type": "markdown",
     "checksum": "901b6c3ed25c85d2cec741ad2e575ade",
     "grade": false,
     "grade_id": "cell-0bd908b10b33e7e2",
     "locked": true,
     "schema_version": 3,
     "solution": false
    }
   },
   "source": [
    "Now we can go through the entire dataset, encode each of the names, and save all of it in a tensor. We'll do the same with the ground-truth labels for the countries of each name."
   ]
  },
  {
   "cell_type": "code",
   "execution_count": 19,
   "metadata": {
    "deletable": false,
    "editable": false,
    "nbgrader": {
     "cell_type": "code",
     "checksum": "15a4f57533fa906a946a783721f7d7d3",
     "grade": false,
     "grade_id": "cell-c41ca1beab4900d1",
     "locked": true,
     "schema_version": 3,
     "solution": false
    }
   },
   "outputs": [],
   "source": [
    "# Create the tensors that will hold the names and labels\n",
    "# (note that the first dimension has 0 elements, this is a way to initialize an empty tensor for concatenating later)\n",
    "xs = torch.zeros(0, target_len, len(charset))\n",
    "ys = torch.zeros(0, dtype=torch.long)\n",
    "\n",
    "for i, country in enumerate(names_dict.keys()):\n",
    "\n",
    "    # Apply the name2padded_tensor function to each name in this country\n",
    "    temp = map(lambda n: name2padded_tensor(n, target_len), names_dict[country])\n",
    "\n",
    "    # Add a new dimension to the resulting tensors\n",
    "    temp = [name_tensor[None, :, :] for name_tensor in temp]\n",
    "\n",
    "    # Concatenate all of them along this new dimension\n",
    "    names_tensor = torch.cat(temp, dim=0)\n",
    "\n",
    "    # Add these tensors to `xs`\n",
    "    # Note that we have 44504 data pairs (x,y) where a single input x has the shape (target_len, 57),\n",
    "    # where 57 is the length of the one-hot-encoded vectors.\n",
    "    xs = torch.cat([xs, names_tensor], dim=0)\n",
    "\n",
    "    # Create tensor filled with i`s and add that to the ground-truth tensor\n",
    "    ys_for_this_country = torch.zeros(names_tensor.shape[0], dtype=torch.long) + i\n",
    "    ys = torch.cat([ys, ys_for_this_country])\n",
    "\n"
   ]
  },
  {
   "cell_type": "code",
   "execution_count": 20,
   "metadata": {
    "deletable": false,
    "editable": false,
    "nbgrader": {
     "cell_type": "code",
     "checksum": "59844c38d7efe88476c8c7299e4e0eb4",
     "grade": false,
     "grade_id": "cell-52dbbea6ddcef37d",
     "locked": true,
     "schema_version": 3,
     "solution": false
    }
   },
   "outputs": [
    {
     "data": {
      "text/plain": [
       "torch.Size([44504, 22, 57])"
      ]
     },
     "execution_count": 20,
     "metadata": {},
     "output_type": "execute_result"
    }
   ],
   "source": [
    "xs.shape"
   ]
  },
  {
   "cell_type": "code",
   "execution_count": 21,
   "metadata": {
    "deletable": false,
    "editable": false,
    "nbgrader": {
     "cell_type": "code",
     "checksum": "84f30aec4ebb491a7b47bc37f3c4428d",
     "grade": false,
     "grade_id": "cell-7e884148f06eed5d",
     "locked": true,
     "schema_version": 3,
     "solution": false
    }
   },
   "outputs": [
    {
     "data": {
      "text/plain": [
       "torch.Size([44504])"
      ]
     },
     "execution_count": 21,
     "metadata": {},
     "output_type": "execute_result"
    }
   ],
   "source": [
    "ys.shape"
   ]
  },
  {
   "cell_type": "markdown",
   "metadata": {
    "deletable": false,
    "editable": false,
    "nbgrader": {
     "cell_type": "markdown",
     "checksum": "d0ad8b82a67e3dae17a9dcf05d4886e3",
     "grade": false,
     "grade_id": "cell-0aa1483447535d5e",
     "locked": true,
     "schema_version": 3,
     "solution": false
    }
   },
   "source": [
    "Now we can create a dataset with these tensors."
   ]
  },
  {
   "cell_type": "code",
   "execution_count": 22,
   "metadata": {
    "deletable": false,
    "editable": false,
    "nbgrader": {
     "cell_type": "code",
     "checksum": "eb61bafb5df70e66178b06b758bb838e",
     "grade": false,
     "grade_id": "cell-6b352207c061f029",
     "locked": true,
     "schema_version": 3,
     "solution": false
    }
   },
   "outputs": [],
   "source": [
    "from torch.utils.data import TensorDataset\n",
    "\n",
    "device = torch.device(\"cuda\" if torch.cuda.is_available() else \"cpu\")\n",
    "dataset = TensorDataset(xs.to(device), ys.to(device))\n"
   ]
  },
  {
   "cell_type": "markdown",
   "metadata": {
    "deletable": false,
    "editable": false,
    "nbgrader": {
     "cell_type": "markdown",
     "checksum": "86cdcef7c72b84485a13de4cf47e3dde",
     "grade": false,
     "grade_id": "cell-c20e8ae6ac70f92f",
     "locked": true,
     "schema_version": 3,
     "solution": false
    }
   },
   "source": [
    "And split it in training, validation, and test sets."
   ]
  },
  {
   "cell_type": "code",
   "execution_count": 23,
   "metadata": {
    "deletable": false,
    "editable": false,
    "nbgrader": {
     "cell_type": "code",
     "checksum": "eee2948e07aeee5fb4e585bf48160c6b",
     "grade": false,
     "grade_id": "cell-57448454a3d5dc19",
     "locked": true,
     "schema_version": 3,
     "solution": false
    }
   },
   "outputs": [],
   "source": [
    "from torch.utils.data import random_split\n",
    "\n",
    "val_ratio = 0.15\n",
    "test_ratio = 0.15\n",
    "\n",
    "n_samples = len(dataset)\n",
    "n_val_samples = int(n_samples * val_ratio)\n",
    "n_test_samples = int(n_samples * test_ratio)\n",
    "n_train_samples = n_samples - n_val_samples - n_test_samples\n",
    "\n",
    "train_dataset, val_dataset, test_dataset = random_split(\n",
    "    dataset, [n_train_samples, n_val_samples, n_test_samples]\n",
    ")\n",
    "\n"
   ]
  },
  {
   "cell_type": "markdown",
   "metadata": {
    "deletable": false,
    "editable": false,
    "nbgrader": {
     "cell_type": "markdown",
     "checksum": "da53c7a8fffae55f48861e3dd82bfb1f",
     "grade": false,
     "grade_id": "cell-485c36faf4913176",
     "locked": true,
     "schema_version": 3,
     "solution": false
    }
   },
   "source": [
    "### 1.3 Defining the optimization"
   ]
  },
  {
   "cell_type": "markdown",
   "metadata": {
    "deletable": false,
    "editable": false,
    "nbgrader": {
     "cell_type": "markdown",
     "checksum": "7fcb819a9de5200a9870195a1fc8b234",
     "grade": false,
     "grade_id": "cell-b2ed39f361f618c2",
     "locked": true,
     "schema_version": 3,
     "solution": false
    }
   },
   "source": [
    "Now we will define the model to be trained, that is, a single layer RNN. As usual, we will create a class for the model and inherit from `nn.Module`. Define in the next cell a class for an RNN that follows the equations:\n",
    "\n",
    "$$ h_t = \\text{tanh}(W_h x_t + U_h h_{t-1} + b_h) $$\n",
    "$$ y_t = \\log \\Big(\\text{Softmax}(W_y h_t + b_y)\\Big)~,$$\n",
    "\n",
    "where $h_t$ is the current hidden-state, $h_{t-1}$ is the previous hidden state, $x_t$ is the input, $y_t$ is the output, and $W_h, U_h, b_h, W_y, b_y$ are the trainable parts of the RNN. As explained before, we will use this RNN to classify names, inputting one character at each step and using the last output as the prediction for a distribution over probable countries for the name.\n",
    "\n",
    "*Hints:*\n",
    "\n",
    "- As you're probably aware by now, PyTorch [has a layer](https://pytorch.org/docs/stable/nn.html#logsoftmax) that already applies the log and the softmax in one pass.\n",
    "- If you get errors related to size mismatches when computing the forward-propagation in your model, try reading the documentation for the specific module where the problem is occurring (e.g. [`nn.Linear`](https://pytorch.org/docs/stable/nn.html#linear)), specially the part about the expected shape of inputs and outputs.\n",
    "\n",
    "**[1 point]**"
   ]
  },
  {
   "cell_type": "code",
   "execution_count": 24,
   "metadata": {
    "deletable": false,
    "nbgrader": {
     "cell_type": "code",
     "checksum": "0c96f0bb09ac33d4edfa364bb855271c",
     "grade": true,
     "grade_id": "cell-63759a1c550cd7e1",
     "locked": false,
     "points": 1,
     "schema_version": 3,
     "solution": true
    }
   },
   "outputs": [],
   "source": [
    "import torch.nn as nn\n",
    "\n",
    "\n",
    "class RNN(nn.Module):\n",
    "    def __init__(self, input_size, hidden_size, output_size):\n",
    "        \"\"\"\n",
    "        Inputs:\n",
    "            input_size     - Dimensionality of the input of this RNN.\n",
    "            hidden_size    - Dimensionality of the hidden state.\n",
    "            output_size    - Dimensionality of the output of this RNN.\n",
    "        \"\"\"\n",
    "\n",
    "        super(RNN, self).__init__()\n",
    "        self.hidden_size = hidden_size\n",
    "        \n",
    "        self.hidden = nn.Linear(input_size + self.hidden_size, self.hidden_size)\n",
    "        self.output = nn.Linear(input_size + self.hidden_size, output_size)\n",
    "        self.tanh = nn.Tanh()\n",
    "        self.softmax = nn.LogSoftmax(dim=1)\n",
    "\n",
    "    def forward(self, x, h):\n",
    "        \"\"\"\n",
    "        Runs the RNN module for one time-step.\n",
    "        Inputs:\n",
    "            x              - Batch of one-hot encoded characters. \n",
    "                             Tensor of size (BATCH SIZE x CHARSET LENGTH).\n",
    "            h              - Batch of hidden states at previous time-step.\n",
    "                             Tensor of size (BATCH SIZE x hidden_size).\n",
    "\n",
    "        Returns:\n",
    "            y              - Batch of outputs.\n",
    "                             Tensor of size (BATCH SIZE x NUMBER OF COUNTRIES).\n",
    "            new_h          - Batch of hidden states at current time-step.\n",
    "                             Tensor of size (BATCH SIZE x hidden_size).\n",
    "        \"\"\"\n",
    "        \n",
    "        x_h = torch.cat((x, h),1)\n",
    "        new_h = self.tanh(self.hidden(x_h))\n",
    "        y = self.softmax(self.output(x_h))\n",
    "\n",
    "        return y, new_h"
   ]
  },
  {
   "cell_type": "markdown",
   "metadata": {
    "deletable": false,
    "editable": false,
    "nbgrader": {
     "cell_type": "markdown",
     "checksum": "ef6f13ee64c864145910c8c572c69619",
     "grade": false,
     "grade_id": "cell-41a6ab734e65e9e2",
     "locked": true,
     "schema_version": 3,
     "solution": false
    }
   },
   "source": [
    "Run the following cell to test whether the shape of your outputs are correct. Note that this *only* checks the shapes, not the content (one way you can check the actual computations of your network is to `print` the tensors as they pass through the layers, in order to check that the computations do what you expected)."
   ]
  },
  {
   "cell_type": "code",
   "execution_count": 25,
   "metadata": {
    "deletable": false,
    "editable": false,
    "nbgrader": {
     "cell_type": "code",
     "checksum": "b13549f6823038fcbdd83dcc4b043a82",
     "grade": false,
     "grade_id": "cell-0895e453938dcd22",
     "locked": true,
     "schema_version": 3,
     "solution": false
    }
   },
   "outputs": [
    {
     "name": "stdout",
     "output_type": "stream",
     "text": [
      "Test passed.\n"
     ]
    }
   ],
   "source": [
    "batch_size = 16\n",
    "# Create a test tensor of size (batch_size x CHARSET LENGTH)\n",
    "t = torch.ones((batch_size, len(charset))).to(device)\n",
    "\n",
    "# Forward-prop through the RNN\n",
    "rnn = RNN(len(charset), 3, len(names_dict)).to(device)\n",
    "h = torch.ones((batch_size, 3)).to(device)\n",
    "y, new_h = rnn(t, h)\n",
    "\n",
    "# Test dimensions of the outputs\n",
    "err_str = \"The {} has incorrect dimension. Dimension is {}, but should've been {}\"\n",
    "assert list(y.shape) == [batch_size, len(names_dict)], err_str.format(\n",
    "    \"output\", list(y.shape), [batch_size, len(names_dict)]\n",
    ")\n",
    "assert list(new_h.shape) == [batch_size, 3], err_str.format(\n",
    "    \"new hidden state\", list(new_h.shape), [batch_size, 3]\n",
    ")\n",
    "\n",
    "print(\"Test passed.\")\n",
    "\n"
   ]
  },
  {
   "cell_type": "markdown",
   "metadata": {
    "deletable": false,
    "editable": false,
    "nbgrader": {
     "cell_type": "markdown",
     "checksum": "b11e5934fe26e1176969794d05c7671f",
     "grade": false,
     "grade_id": "cell-f879b658d2fe97d5",
     "locked": true,
     "schema_version": 3,
     "solution": false
    }
   },
   "source": [
    "**[2 points]** Suppose we now create an RNN using the following call: `RNN(x, y, z)`. How many parameters would this model have in total?"
   ]
  },
  {
   "cell_type": "markdown",
   "metadata": {
    "deletable": false,
    "nbgrader": {
     "cell_type": "markdown",
     "checksum": "3a75752559679046eec4403fbd11df95",
     "grade": true,
     "grade_id": "cell-d359daf8f96289bc",
     "locked": false,
     "points": 2,
     "schema_version": 3,
     "solution": true
    }
   },
   "source": [
    "**Your answer:** (x+y)y + (x+y)z + y = y^2 + xy + y + xz + yz + z\n",
    "\n",
    "We have two layers that yields (x+y)y + (x+y)z number of parameters as well as the biases y and z. We are not sure if the hidden_weights (in our case) count as learnable parameters, we think not, but it's a matter of definition. If they don't then the answer is as above, if they are indeed learnable you need to add +y parameters to the expression above, but we believe this is not the case. "
   ]
  },
  {
   "cell_type": "markdown",
   "metadata": {
    "deletable": false,
    "editable": false,
    "nbgrader": {
     "cell_type": "markdown",
     "checksum": "0d5dc81f8efd4a09172a3480777b3273",
     "grade": false,
     "grade_id": "cell-e3ae784b6fd462cb",
     "locked": true,
     "schema_version": 3,
     "solution": false
    }
   },
   "source": [
    "We will use the Adam optimizer:"
   ]
  },
  {
   "cell_type": "code",
   "execution_count": 26,
   "metadata": {
    "deletable": false,
    "editable": false,
    "nbgrader": {
     "cell_type": "code",
     "checksum": "32abb30aecff746e6f8450bd2585ccd9",
     "grade": false,
     "grade_id": "cell-c8087333699def0c",
     "locked": true,
     "schema_version": 3,
     "solution": false
    }
   },
   "outputs": [],
   "source": [
    "from torch.optim import Adam"
   ]
  },
  {
   "cell_type": "markdown",
   "metadata": {
    "deletable": false,
    "editable": false,
    "nbgrader": {
     "cell_type": "markdown",
     "checksum": "76849f484a3adefd591bfca9ac7f9bbf",
     "grade": false,
     "grade_id": "cell-6411a391a74a5e36",
     "locked": true,
     "schema_version": 3,
     "solution": false
    }
   },
   "source": [
    "and since this is a classification problem we will use the negative log-likelihood loss ([`NLLLoss`](https://pytorch.org/docs/stable/generated/torch.nn.NLLLoss.html#torch.nn.NLLLoss)) to train the model. We should account for the fact that our dataset is imbalanced, and one way of dealing with this problem is to assign different weights to each class in our problem. "
   ]
  },
  {
   "cell_type": "code",
   "execution_count": 27,
   "metadata": {
    "deletable": false,
    "editable": false,
    "nbgrader": {
     "cell_type": "code",
     "checksum": "d5b7a4d07bf432bf1e03d2a0c68d3146",
     "grade": false,
     "grade_id": "cell-934166eac20acb50",
     "locked": true,
     "schema_version": 3,
     "solution": false
    }
   },
   "outputs": [],
   "source": [
    "# Compute weights for each class\n",
    "n_names_for_each_country = [len(v) for v in names_dict.values()]\n",
    "ns = torch.tensor(n_names_for_each_country, dtype=torch.float)\n",
    "w = 1.0 / ns\n",
    "w = w / w.sum()\n",
    "\n",
    "# Define loss\n",
    "criterion = nn.NLLLoss(weight=w.to(device))\n"
   ]
  },
  {
   "cell_type": "markdown",
   "metadata": {
    "deletable": false,
    "editable": false,
    "nbgrader": {
     "cell_type": "markdown",
     "checksum": "53ce890d1fddec319a2f1a498f8a0e01",
     "grade": false,
     "grade_id": "cell-b333a7e050fbe007",
     "locked": true,
     "schema_version": 3,
     "solution": false
    }
   },
   "source": [
    "**[2 points]** Why is it a problem that the dataset is imbalanced? What would be the consequence of not dealing with this problem?"
   ]
  },
  {
   "cell_type": "markdown",
   "metadata": {
    "deletable": false,
    "nbgrader": {
     "cell_type": "markdown",
     "checksum": "39b45db880f3a25283647535d49fed4f",
     "grade": true,
     "grade_id": "cell-a044d5b4e3bcf29b",
     "locked": false,
     "points": 2,
     "schema_version": 3,
     "solution": true
    }
   },
   "source": [
    "**Your answer:** When the dataset is imbalanced this means that predicting classes that are common is often beneficial (due to the loss function) and predicting rare classes not that beneficial since it may be hard to predict these datapoints due to low data of the rare classes. This may lead to our model being overfitted to the big classes and underfitted for the smaller classes, which could be very bad. For example if we want to diagnose cancer, we would get a pretty good result by always predicting \"healthy\" instead of \"cancer\" since most people doesn't have cancer. However, this would be a very bad diagnostic predictor for the people that have cancer."
   ]
  },
  {
   "cell_type": "markdown",
   "metadata": {
    "deletable": false,
    "editable": false,
    "nbgrader": {
     "cell_type": "markdown",
     "checksum": "c349e4191662336f20987e4ac762a737",
     "grade": false,
     "grade_id": "cell-0611001189dd369a",
     "locked": true,
     "schema_version": 3,
     "solution": false
    }
   },
   "source": [
    "**[3 points]** Why does assigning different weights to each class solve this problem? How should the weights be chosen?"
   ]
  },
  {
   "cell_type": "markdown",
   "metadata": {
    "deletable": false,
    "nbgrader": {
     "cell_type": "markdown",
     "checksum": "504304e6d0e5cafb4cca4a614fef9c22",
     "grade": true,
     "grade_id": "cell-f19ff5370ea1e86d",
     "locked": false,
     "points": 3,
     "schema_version": 3,
     "solution": true
    }
   },
   "source": [
    "**Your answer:** This essentially balances out the extra bias that our model receives from our dataset being imbalanced. One way to select the weights would be to take the number of samples into consideration and make sure that each class contributes as much to the model during training. We want an average or to normalize the weights to cancel out the effect of the imbalance. Thus more rare classes would get higher weights and more common classes would get lower weights. Another common approach to solves this problem is instead to create duplicates of the smaller dataset so make it larger, thus removeing the need to assign different weights to different classes"
   ]
  },
  {
   "cell_type": "markdown",
   "metadata": {
    "deletable": false,
    "editable": false,
    "nbgrader": {
     "cell_type": "markdown",
     "checksum": "dab1c1395041673c28ae98f9c66bea2d",
     "grade": false,
     "grade_id": "cell-ced0796bf818f493",
     "locked": true,
     "schema_version": 3,
     "solution": false
    }
   },
   "source": [
    "**[3 points]** Is there any situation where *we would want* class imbalances? How could we create such a class imbalance in a balanced dataset (without changing the dataset itself)? "
   ]
  },
  {
   "cell_type": "markdown",
   "metadata": {
    "deletable": false,
    "nbgrader": {
     "cell_type": "markdown",
     "checksum": "e39a72245eba4ba1147edbb60d0312ec",
     "grade": true,
     "grade_id": "cell-821c6a2fb462d2f9",
     "locked": false,
     "points": 3,
     "schema_version": 3,
     "solution": true
    }
   },
   "source": [
    "**Your answer:** If we want to train a cancer classifier that predicts if someone has cancer or not, it may be beneficial to have a bit more datapoints that have cancer than has not since this may better capture the characteristics of cancer, howerver we don't want to overfit it to much, but a bit skewd so that maybe want 60 out of 100 people in the traningset have cancer. Note that 60% of the dataset consisting of people having cancer does not make the model in general predict that 60% of people will have cancer but it will probably make it more overfitted toward as possible patient with cancer then a healty one, which is what we want."
   ]
  },
  {
   "cell_type": "markdown",
   "metadata": {
    "deletable": false,
    "editable": false,
    "nbgrader": {
     "cell_type": "markdown",
     "checksum": "cbc3cc703eb376f0ad0be049bef4e506",
     "grade": false,
     "grade_id": "cell-95508ad6a5c542b5",
     "locked": true,
     "schema_version": 3,
     "solution": false
    }
   },
   "source": [
    "### 1.4 Helper functions for training"
   ]
  },
  {
   "cell_type": "markdown",
   "metadata": {
    "deletable": false,
    "editable": false,
    "nbgrader": {
     "cell_type": "markdown",
     "checksum": "58265723d45b24d2b45cf6afb91486e9",
     "grade": false,
     "grade_id": "cell-ccbb270d5fe1c30c",
     "locked": true,
     "schema_version": 3,
     "solution": false
    }
   },
   "source": [
    "Now that we defined the optimization problem, we can start creating the code to actually solve it. The first thing that we need is a function that, given a batch of samples, computes the output of the model for every sample and the average loss across all samples. \n",
    "\n",
    "Complete the function `batch_forward_prop` to produce this behavior.\n",
    "\n",
    "*Hints*:\n",
    "\n",
    "- Initialize the hidden state to a zero Tensor for the first forward-propagation.\n",
    "- If you get errors related to size mismatches when computing the forward-propagation in your model, try reading the documentation for the specific module where the problem is occurring (e.g. [`nn.Linear`](https://pytorch.org/docs/stable/nn.html#linear)), especially the part about the expected shape of inputs and outputs.\n",
    "- If you get errors related to size mismatches when computing the loss, try reading the [documentation for it](https://pytorch.org/docs/stable/nn.html#nllloss), especially the part about the expected shape of inputs and outputs.\n",
    "\n",
    "**[2 points]**"
   ]
  },
  {
   "cell_type": "code",
   "execution_count": 28,
   "metadata": {
    "deletable": false,
    "nbgrader": {
     "cell_type": "code",
     "checksum": "75648e70d6a7c1bf1efc1466ea579829",
     "grade": true,
     "grade_id": "cell-080aad948708672d",
     "locked": false,
     "points": 2,
     "schema_version": 3,
     "solution": true
    }
   },
   "outputs": [],
   "source": [
    "def batch_forward_prop(rnn, xs, ys):  \n",
    "    \"\"\"\n",
    "    Inputs:\n",
    "        rnn            - The RNN model, instance of the RNN class.\n",
    "        xs             - Batch of input words.\n",
    "                         Tensor of shape (BATCH SIZE x `target_len` x CHARSET LENGTH).\n",
    "        ys             - Batch of ground-truth labels.\n",
    "                         Tensor of  shape (BATCH_SIZE).\n",
    "    \n",
    "    Returns:\n",
    "        output         - Output computed at the last character position in the batch.\n",
    "                         Tensor of shape (BATCH_SIZE x NUMBER OF COUNTRIES).\n",
    "        loss           - Value of the average loss across the predictions for this batch, later used for back-propagation.\n",
    "                         Tensor with a single element inside.\n",
    "    \"\"\"\n",
    "    hidden_weights = torch.zeros(xs.size(dim=0), rnn.hidden_size).to(device)\n",
    "    \n",
    "    for i in range (xs.size(dim=1)):\n",
    "        output, hidden_weights = rnn(xs[:,i], hidden_weights)\n",
    "\n",
    "    loss = criterion(output, ys)\n",
    "   \n",
    "    return output, loss"
   ]
  },
  {
   "cell_type": "markdown",
   "metadata": {
    "deletable": false,
    "editable": false,
    "nbgrader": {
     "cell_type": "markdown",
     "checksum": "99ee062817c7b56e5180058437d2f26d",
     "grade": false,
     "grade_id": "cell-644f9d6aaa50e21c",
     "locked": true,
     "schema_version": 3,
     "solution": false
    }
   },
   "source": [
    "Run the following cell to test whether the shape of your outputs are correct. Note that this *only* checks the shapes, not the content."
   ]
  },
  {
   "cell_type": "code",
   "execution_count": 29,
   "metadata": {
    "deletable": false,
    "editable": false,
    "nbgrader": {
     "cell_type": "code",
     "checksum": "a3dbd376c434b09e3945c9d1ac43b803",
     "grade": false,
     "grade_id": "cell-02f7744a186b2ebe",
     "locked": true,
     "schema_version": 3,
     "solution": false
    }
   },
   "outputs": [
    {
     "name": "stdout",
     "output_type": "stream",
     "text": [
      "Test passed.\n"
     ]
    }
   ],
   "source": [
    "def test_rnn():\n",
    "    # Create two tensors\n",
    "    t1 = name2tensor('Unit')\n",
    "    t2 = name2tensor('Test')\n",
    "    \n",
    "    # Add the batch dimension to them and concatenate\n",
    "    t = torch.cat([t1[None, :], t2[None, :]], dim=0)\n",
    "    \n",
    "    # Create label tensor\n",
    "    l = torch.ones((2), dtype=torch.long)\n",
    "\n",
    "    # Create RNN\n",
    "    rnn = RNN(len(charset), 10, len(names_dict))\n",
    "    \n",
    "    # Put everything in the correct device\n",
    "    t = t.to(device)\n",
    "    l = l.to(device)\n",
    "    rnn.to(device)\n",
    "    #print(t.shape, l.shape)\n",
    "    # Perform the forward-prop\n",
    "    y, loss = batch_forward_prop(rnn, t, l)\n",
    "\n",
    "    # Test dimensions of the outputs\n",
    "    err_str = 'The {} has incorrect dimension. Dimension is {}, but should\\'ve been {}'\n",
    "    assert list(y.shape) == [2, len(names_dict)], err_str.format('output', list(y.shape), [2, len(names_dict)])\n",
    "    assert list(loss.shape) == [], err_str.format('loss', list(loss.shape), [])\n",
    "\n",
    "    print('Test passed.')\n",
    "    \n",
    "test_rnn()"
   ]
  },
  {
   "cell_type": "markdown",
   "metadata": {
    "deletable": false,
    "editable": false,
    "nbgrader": {
     "cell_type": "markdown",
     "checksum": "d0829fc6b5254f539a66a81a3024bdfc",
     "grade": false,
     "grade_id": "cell-4010f6bcbc1e6245",
     "locked": true,
     "schema_version": 3,
     "solution": false
    }
   },
   "source": [
    "Using this function, it's straightforward to train on a single batch of data:"
   ]
  },
  {
   "cell_type": "code",
   "execution_count": 30,
   "metadata": {
    "deletable": false,
    "editable": false,
    "nbgrader": {
     "cell_type": "code",
     "checksum": "14bd8c317ed86e66c5c7ba211682f58b",
     "grade": false,
     "grade_id": "cell-78972c6d342b4da9",
     "locked": true,
     "schema_version": 3,
     "solution": false
    }
   },
   "outputs": [],
   "source": [
    "def train_batch(rnn, xs, ys, optimizer):\n",
    "\n",
    "    # Compute the output for all samples in the batch and the average loss\n",
    "    output, loss = batch_forward_prop(rnn, xs, ys)\n",
    "\n",
    "    # Zero gradients before computing backward-propagation\n",
    "    optimizer.zero_grad()\n",
    "\n",
    "    # Backward-propagation\n",
    "    loss.backward()\n",
    "\n",
    "    # Clip the gradient norm (optional, helps to stabilize training)\n",
    "    nn.utils.clip_grad_norm_(rnn.parameters(), 2)\n",
    "\n",
    "    # Perform one step of optimization\n",
    "    optimizer.step()\n",
    "\n",
    "    return output, loss\n"
   ]
  },
  {
   "cell_type": "markdown",
   "metadata": {
    "deletable": false,
    "editable": false,
    "nbgrader": {
     "cell_type": "markdown",
     "checksum": "576143bb6960f21f2b68bd6bb977a9f0",
     "grade": false,
     "grade_id": "cell-f2b194756febe3f1",
     "locked": true,
     "schema_version": 3,
     "solution": false
    }
   },
   "source": [
    "We will also need a function for computing metrics of interest in the validation set. In this case, we will plot both the loss and the F1-score in the validation set. The F1-score of a classifier is the [harmonic mean](https://en.wikipedia.org/wiki/Harmonic_mean) of its [precision and recall](https://en.wikipedia.org/wiki/Precision_and_recall), two metrics that are more useful than accuracy for imbalanced datasets. [This blog post](https://towardsdatascience.com/accuracy-precision-recall-or-f1-331fb37c5cb9) can help you to familiarize yourself with these new metrics."
   ]
  },
  {
   "cell_type": "code",
   "execution_count": 31,
   "metadata": {
    "deletable": false,
    "editable": false,
    "nbgrader": {
     "cell_type": "code",
     "checksum": "208a5f56500847a17c3da081f13fc9f6",
     "grade": false,
     "grade_id": "cell-94021e46113ec8cb",
     "locked": true,
     "schema_version": 3,
     "solution": false
    }
   },
   "outputs": [],
   "source": [
    "from sklearn.metrics import precision_recall_fscore_support\n",
    "\n",
    "\n",
    "def compute_metrics_on_validation_set(rnn, val_dataset):\n",
    "    # Get all the input and labels in the training set.\n",
    "    x_val, y_val = val_dataset[:]\n",
    "\n",
    "    # Perform forward-prop in the entire validation set, with autograd disabled\n",
    "    with torch.no_grad():\n",
    "        val_output, val_loss = batch_forward_prop(rnn, x_val, y_val)\n",
    "\n",
    "    # Get numpy arrays for the true labels and the predictions\n",
    "    y_true = y_val.cpu().numpy()\n",
    "    y_pred = val_output.argmax(dim=1).cpu().numpy()\n",
    "\n",
    "    # Compute precision, recall, and F-score\n",
    "    precision, recall, fscore, _ = precision_recall_fscore_support(\n",
    "        y_true, y_pred, average=\"macro\"\n",
    "    )\n",
    "\n",
    "    return val_loss, precision, recall, fscore\n"
   ]
  },
  {
   "cell_type": "markdown",
   "metadata": {
    "deletable": false,
    "editable": false,
    "nbgrader": {
     "cell_type": "markdown",
     "checksum": "06672da367df025e50d1fc66d1a14015",
     "grade": false,
     "grade_id": "cell-2e37e571600c2220",
     "locked": true,
     "schema_version": 3,
     "solution": false
    }
   },
   "source": [
    "Lastly, we define a function for plotting the metrics in real-time."
   ]
  },
  {
   "cell_type": "code",
   "execution_count": 32,
   "metadata": {
    "deletable": false,
    "editable": false,
    "nbgrader": {
     "cell_type": "code",
     "checksum": "9378a010371205dca7d327ef558bb638",
     "grade": false,
     "grade_id": "cell-2807fe4cfa2d8b29",
     "locked": true,
     "schema_version": 3,
     "solution": false
    }
   },
   "outputs": [],
   "source": [
    "def plot_metrics(fig, ax, ns, train_losses, train_fscores, val_losses, val_fscores):\n",
    "\n",
    "    # Plot losses\n",
    "    ax[0].clear()\n",
    "    ax[0].plot(ns, train_losses)\n",
    "    ax[0].plot(ns, val_losses)\n",
    "    ax[0].set_title('Loss')\n",
    "    ax[0].legend(['Train','Validation'])\n",
    "    ax[0].set_xlabel('Number of trained batches')\n",
    "    ax[0].grid()\n",
    "\n",
    "    # Plot F1-scores\n",
    "    ax[1].clear()\n",
    "    ax[1].plot(ns, train_fscores)\n",
    "    ax[1].plot(ns, val_fscores)\n",
    "    ax[1].plot(ns, [0.3]*len(ns), 'k--')\n",
    "    ax[1].set_title('Macro F1-score')\n",
    "    ax[1].legend(['Train','Validation', 'F1-score threshold'])\n",
    "    ax[1].set_xlabel('Number of trained batches')\n",
    "    ax[1].grid()\n",
    "    \n",
    "    \n",
    "    fig.canvas.draw()\n",
    "    "
   ]
  },
  {
   "cell_type": "markdown",
   "metadata": {
    "deletable": false,
    "editable": false,
    "nbgrader": {
     "cell_type": "markdown",
     "checksum": "520a4c1ba775bfc75e1ed71009bcf6b9",
     "grade": false,
     "grade_id": "cell-2a8edc5c0c4d13d6",
     "locked": true,
     "schema_version": 3,
     "solution": false
    }
   },
   "source": [
    "With these helper functions, the `train` function becomes:"
   ]
  },
  {
   "cell_type": "code",
   "execution_count": 33,
   "metadata": {
    "deletable": false,
    "editable": false,
    "nbgrader": {
     "cell_type": "code",
     "checksum": "1a9b23a5e750c299ed81585d822ad073",
     "grade": false,
     "grade_id": "cell-61029512380ba880",
     "locked": true,
     "schema_version": 3,
     "solution": false
    }
   },
   "outputs": [],
   "source": [
    "from torch.utils.data import DataLoader\n",
    "\n",
    "def train(rnn, n_epochs, learning_rate, batch_size, train_dataset, val_dataset):\n",
    "    \n",
    "    # Setup the figure for plotting progress during training\n",
    "    %matplotlib notebook\n",
    "    fig, ax = plt.subplots(ncols=2, figsize=(12,4))\n",
    "    plt.ion()\n",
    "    plot_interval = 100\n",
    "    \n",
    "    # Create arrays to average training metrics across batches\n",
    "    preds = []\n",
    "    labels = []\n",
    "    losses = []\n",
    "    \n",
    "    # Create dictionaries to hold the computed metrics in\n",
    "    train_data = {'losses': [], 'fscores': []}\n",
    "    val_data = {'losses': [], 'fscores': []}\n",
    "    \n",
    "    optimizer = Adam(rnn.parameters(), lr=learning_rate)\n",
    "    train_data_loader = DataLoader(train_dataset, batch_size=batch_size, shuffle=True, drop_last=True)\n",
    "    batch_idxs = []\n",
    "    \n",
    "    # Training loop\n",
    "    i_batch = 0\n",
    "    for n in range(n_epochs):\n",
    "        for i, (x_batch, y_batch) in enumerate(train_data_loader):\n",
    "            i_batch += 1\n",
    "            \n",
    "            # Compute loss and outputs\n",
    "            output, loss = train_batch(rnn, x_batch, y_batch, optimizer)\n",
    "            \n",
    "            # Aggregate for later averaging\n",
    "            preds += output.argmax(dim=1).cpu().tolist()\n",
    "            labels += y_batch.cpu().tolist()\n",
    "            losses.append(loss)\n",
    "            \n",
    "            # Compute metrics and plot after every `plot_interval` batches\n",
    "            if i % plot_interval == 0:\n",
    "              \n",
    "                val_loss, _, _, val_fscore = compute_metrics_on_validation_set(rnn, val_dataset)\n",
    "                train_fscore = precision_recall_fscore_support(labels, preds, average='macro')[2]\n",
    "                \n",
    "                val_data['losses'].append(val_loss.cpu())\n",
    "                val_data['fscores'].append(val_fscore)\n",
    "                train_data['losses'].append((sum(losses)/len(losses)).item())\n",
    "                train_data['fscores'].append(train_fscore)\n",
    "                batch_idxs.append(i_batch)\n",
    "\n",
    "                preds = []\n",
    "                labels = []\n",
    "                losses = []\n",
    "\n",
    "                plot_metrics(fig, ax, batch_idxs, train_data['losses'], train_data['fscores'], val_data['losses'], val_data['fscores'])"
   ]
  },
  {
   "cell_type": "markdown",
   "metadata": {
    "deletable": false,
    "editable": false,
    "nbgrader": {
     "cell_type": "markdown",
     "checksum": "0f89bbf2c0e1f3ab9e64a937f8e24863",
     "grade": false,
     "grade_id": "cell-f92f1fd576a8a7cb",
     "locked": true,
     "schema_version": 3,
     "solution": false
    }
   },
   "source": [
    "Make sure that you completely understand the `train` function before proceeding (e.g. that we aggregate predictions from different batches and compute metrics only at a certain interval, etc)."
   ]
  },
  {
   "cell_type": "markdown",
   "metadata": {
    "deletable": false,
    "editable": false,
    "nbgrader": {
     "cell_type": "markdown",
     "checksum": "487f8bd9d91b0abeeae00e8c120a6f15",
     "grade": false,
     "grade_id": "cell-18f5c7620b914ebd",
     "locked": true,
     "schema_version": 3,
     "solution": false
    }
   },
   "source": [
    "### 1.5 Training!\n",
    "\n",
    "Now we're ready to train the network! Create an RNN and use the `train` function to train it.\n",
    "\n",
    "*Hints*:\n",
    "\n",
    "- Tuning the hyper-parameters (number of hidden units, learning rate, batch size, etc) will take some trial-and-error. Try simple things first, and then once you manage to train them, start scaling up. Also, have in mind the bias-variance tradeoff mentioned in the lectures.\n",
    "- When tuning the learning rate, focus first on being able to decrease the training loss. Keep decreasing the learning rate until that starts happening.\n",
    "- You should use a GPU for fast training times. Using a CPU, training a network can take ~5-10 minutes with suitable hyper-parameters. With a GPU training takes ~1 minute with the same hyper-parameters."
   ]
  },
  {
   "cell_type": "code",
   "execution_count": 34,
   "metadata": {
    "deletable": false,
    "nbgrader": {
     "cell_type": "code",
     "checksum": "0e3d64e9c5c79168399628331405b8ed",
     "grade": true,
     "grade_id": "cell-937381af9dcaf490",
     "locked": false,
     "points": 0,
     "schema_version": 3,
     "solution": true
    }
   },
   "outputs": [
    {
     "data": {
      "application/javascript": [
       "/* Put everything inside the global mpl namespace */\n",
       "/* global mpl */\n",
       "window.mpl = {};\n",
       "\n",
       "mpl.get_websocket_type = function () {\n",
       "    if (typeof WebSocket !== 'undefined') {\n",
       "        return WebSocket;\n",
       "    } else if (typeof MozWebSocket !== 'undefined') {\n",
       "        return MozWebSocket;\n",
       "    } else {\n",
       "        alert(\n",
       "            'Your browser does not have WebSocket support. ' +\n",
       "                'Please try Chrome, Safari or Firefox ≥ 6. ' +\n",
       "                'Firefox 4 and 5 are also supported but you ' +\n",
       "                'have to enable WebSockets in about:config.'\n",
       "        );\n",
       "    }\n",
       "};\n",
       "\n",
       "mpl.figure = function (figure_id, websocket, ondownload, parent_element) {\n",
       "    this.id = figure_id;\n",
       "\n",
       "    this.ws = websocket;\n",
       "\n",
       "    this.supports_binary = this.ws.binaryType !== undefined;\n",
       "\n",
       "    if (!this.supports_binary) {\n",
       "        var warnings = document.getElementById('mpl-warnings');\n",
       "        if (warnings) {\n",
       "            warnings.style.display = 'block';\n",
       "            warnings.textContent =\n",
       "                'This browser does not support binary websocket messages. ' +\n",
       "                'Performance may be slow.';\n",
       "        }\n",
       "    }\n",
       "\n",
       "    this.imageObj = new Image();\n",
       "\n",
       "    this.context = undefined;\n",
       "    this.message = undefined;\n",
       "    this.canvas = undefined;\n",
       "    this.rubberband_canvas = undefined;\n",
       "    this.rubberband_context = undefined;\n",
       "    this.format_dropdown = undefined;\n",
       "\n",
       "    this.image_mode = 'full';\n",
       "\n",
       "    this.root = document.createElement('div');\n",
       "    this.root.setAttribute('style', 'display: inline-block');\n",
       "    this._root_extra_style(this.root);\n",
       "\n",
       "    parent_element.appendChild(this.root);\n",
       "\n",
       "    this._init_header(this);\n",
       "    this._init_canvas(this);\n",
       "    this._init_toolbar(this);\n",
       "\n",
       "    var fig = this;\n",
       "\n",
       "    this.waiting = false;\n",
       "\n",
       "    this.ws.onopen = function () {\n",
       "        fig.send_message('supports_binary', { value: fig.supports_binary });\n",
       "        fig.send_message('send_image_mode', {});\n",
       "        if (fig.ratio !== 1) {\n",
       "            fig.send_message('set_device_pixel_ratio', {\n",
       "                device_pixel_ratio: fig.ratio,\n",
       "            });\n",
       "        }\n",
       "        fig.send_message('refresh', {});\n",
       "    };\n",
       "\n",
       "    this.imageObj.onload = function () {\n",
       "        if (fig.image_mode === 'full') {\n",
       "            // Full images could contain transparency (where diff images\n",
       "            // almost always do), so we need to clear the canvas so that\n",
       "            // there is no ghosting.\n",
       "            fig.context.clearRect(0, 0, fig.canvas.width, fig.canvas.height);\n",
       "        }\n",
       "        fig.context.drawImage(fig.imageObj, 0, 0);\n",
       "    };\n",
       "\n",
       "    this.imageObj.onunload = function () {\n",
       "        fig.ws.close();\n",
       "    };\n",
       "\n",
       "    this.ws.onmessage = this._make_on_message_function(this);\n",
       "\n",
       "    this.ondownload = ondownload;\n",
       "};\n",
       "\n",
       "mpl.figure.prototype._init_header = function () {\n",
       "    var titlebar = document.createElement('div');\n",
       "    titlebar.classList =\n",
       "        'ui-dialog-titlebar ui-widget-header ui-corner-all ui-helper-clearfix';\n",
       "    var titletext = document.createElement('div');\n",
       "    titletext.classList = 'ui-dialog-title';\n",
       "    titletext.setAttribute(\n",
       "        'style',\n",
       "        'width: 100%; text-align: center; padding: 3px;'\n",
       "    );\n",
       "    titlebar.appendChild(titletext);\n",
       "    this.root.appendChild(titlebar);\n",
       "    this.header = titletext;\n",
       "};\n",
       "\n",
       "mpl.figure.prototype._canvas_extra_style = function (_canvas_div) {};\n",
       "\n",
       "mpl.figure.prototype._root_extra_style = function (_canvas_div) {};\n",
       "\n",
       "mpl.figure.prototype._init_canvas = function () {\n",
       "    var fig = this;\n",
       "\n",
       "    var canvas_div = (this.canvas_div = document.createElement('div'));\n",
       "    canvas_div.setAttribute(\n",
       "        'style',\n",
       "        'border: 1px solid #ddd;' +\n",
       "            'box-sizing: content-box;' +\n",
       "            'clear: both;' +\n",
       "            'min-height: 1px;' +\n",
       "            'min-width: 1px;' +\n",
       "            'outline: 0;' +\n",
       "            'overflow: hidden;' +\n",
       "            'position: relative;' +\n",
       "            'resize: both;'\n",
       "    );\n",
       "\n",
       "    function on_keyboard_event_closure(name) {\n",
       "        return function (event) {\n",
       "            return fig.key_event(event, name);\n",
       "        };\n",
       "    }\n",
       "\n",
       "    canvas_div.addEventListener(\n",
       "        'keydown',\n",
       "        on_keyboard_event_closure('key_press')\n",
       "    );\n",
       "    canvas_div.addEventListener(\n",
       "        'keyup',\n",
       "        on_keyboard_event_closure('key_release')\n",
       "    );\n",
       "\n",
       "    this._canvas_extra_style(canvas_div);\n",
       "    this.root.appendChild(canvas_div);\n",
       "\n",
       "    var canvas = (this.canvas = document.createElement('canvas'));\n",
       "    canvas.classList.add('mpl-canvas');\n",
       "    canvas.setAttribute('style', 'box-sizing: content-box;');\n",
       "\n",
       "    this.context = canvas.getContext('2d');\n",
       "\n",
       "    var backingStore =\n",
       "        this.context.backingStorePixelRatio ||\n",
       "        this.context.webkitBackingStorePixelRatio ||\n",
       "        this.context.mozBackingStorePixelRatio ||\n",
       "        this.context.msBackingStorePixelRatio ||\n",
       "        this.context.oBackingStorePixelRatio ||\n",
       "        this.context.backingStorePixelRatio ||\n",
       "        1;\n",
       "\n",
       "    this.ratio = (window.devicePixelRatio || 1) / backingStore;\n",
       "\n",
       "    var rubberband_canvas = (this.rubberband_canvas = document.createElement(\n",
       "        'canvas'\n",
       "    ));\n",
       "    rubberband_canvas.setAttribute(\n",
       "        'style',\n",
       "        'box-sizing: content-box; position: absolute; left: 0; top: 0; z-index: 1;'\n",
       "    );\n",
       "\n",
       "    // Apply a ponyfill if ResizeObserver is not implemented by browser.\n",
       "    if (this.ResizeObserver === undefined) {\n",
       "        if (window.ResizeObserver !== undefined) {\n",
       "            this.ResizeObserver = window.ResizeObserver;\n",
       "        } else {\n",
       "            var obs = _JSXTOOLS_RESIZE_OBSERVER({});\n",
       "            this.ResizeObserver = obs.ResizeObserver;\n",
       "        }\n",
       "    }\n",
       "\n",
       "    this.resizeObserverInstance = new this.ResizeObserver(function (entries) {\n",
       "        var nentries = entries.length;\n",
       "        for (var i = 0; i < nentries; i++) {\n",
       "            var entry = entries[i];\n",
       "            var width, height;\n",
       "            if (entry.contentBoxSize) {\n",
       "                if (entry.contentBoxSize instanceof Array) {\n",
       "                    // Chrome 84 implements new version of spec.\n",
       "                    width = entry.contentBoxSize[0].inlineSize;\n",
       "                    height = entry.contentBoxSize[0].blockSize;\n",
       "                } else {\n",
       "                    // Firefox implements old version of spec.\n",
       "                    width = entry.contentBoxSize.inlineSize;\n",
       "                    height = entry.contentBoxSize.blockSize;\n",
       "                }\n",
       "            } else {\n",
       "                // Chrome <84 implements even older version of spec.\n",
       "                width = entry.contentRect.width;\n",
       "                height = entry.contentRect.height;\n",
       "            }\n",
       "\n",
       "            // Keep the size of the canvas and rubber band canvas in sync with\n",
       "            // the canvas container.\n",
       "            if (entry.devicePixelContentBoxSize) {\n",
       "                // Chrome 84 implements new version of spec.\n",
       "                canvas.setAttribute(\n",
       "                    'width',\n",
       "                    entry.devicePixelContentBoxSize[0].inlineSize\n",
       "                );\n",
       "                canvas.setAttribute(\n",
       "                    'height',\n",
       "                    entry.devicePixelContentBoxSize[0].blockSize\n",
       "                );\n",
       "            } else {\n",
       "                canvas.setAttribute('width', width * fig.ratio);\n",
       "                canvas.setAttribute('height', height * fig.ratio);\n",
       "            }\n",
       "            canvas.setAttribute(\n",
       "                'style',\n",
       "                'width: ' + width + 'px; height: ' + height + 'px;'\n",
       "            );\n",
       "\n",
       "            rubberband_canvas.setAttribute('width', width);\n",
       "            rubberband_canvas.setAttribute('height', height);\n",
       "\n",
       "            // And update the size in Python. We ignore the initial 0/0 size\n",
       "            // that occurs as the element is placed into the DOM, which should\n",
       "            // otherwise not happen due to the minimum size styling.\n",
       "            if (fig.ws.readyState == 1 && width != 0 && height != 0) {\n",
       "                fig.request_resize(width, height);\n",
       "            }\n",
       "        }\n",
       "    });\n",
       "    this.resizeObserverInstance.observe(canvas_div);\n",
       "\n",
       "    function on_mouse_event_closure(name) {\n",
       "        return function (event) {\n",
       "            return fig.mouse_event(event, name);\n",
       "        };\n",
       "    }\n",
       "\n",
       "    rubberband_canvas.addEventListener(\n",
       "        'mousedown',\n",
       "        on_mouse_event_closure('button_press')\n",
       "    );\n",
       "    rubberband_canvas.addEventListener(\n",
       "        'mouseup',\n",
       "        on_mouse_event_closure('button_release')\n",
       "    );\n",
       "    rubberband_canvas.addEventListener(\n",
       "        'dblclick',\n",
       "        on_mouse_event_closure('dblclick')\n",
       "    );\n",
       "    // Throttle sequential mouse events to 1 every 20ms.\n",
       "    rubberband_canvas.addEventListener(\n",
       "        'mousemove',\n",
       "        on_mouse_event_closure('motion_notify')\n",
       "    );\n",
       "\n",
       "    rubberband_canvas.addEventListener(\n",
       "        'mouseenter',\n",
       "        on_mouse_event_closure('figure_enter')\n",
       "    );\n",
       "    rubberband_canvas.addEventListener(\n",
       "        'mouseleave',\n",
       "        on_mouse_event_closure('figure_leave')\n",
       "    );\n",
       "\n",
       "    canvas_div.addEventListener('wheel', function (event) {\n",
       "        if (event.deltaY < 0) {\n",
       "            event.step = 1;\n",
       "        } else {\n",
       "            event.step = -1;\n",
       "        }\n",
       "        on_mouse_event_closure('scroll')(event);\n",
       "    });\n",
       "\n",
       "    canvas_div.appendChild(canvas);\n",
       "    canvas_div.appendChild(rubberband_canvas);\n",
       "\n",
       "    this.rubberband_context = rubberband_canvas.getContext('2d');\n",
       "    this.rubberband_context.strokeStyle = '#000000';\n",
       "\n",
       "    this._resize_canvas = function (width, height, forward) {\n",
       "        if (forward) {\n",
       "            canvas_div.style.width = width + 'px';\n",
       "            canvas_div.style.height = height + 'px';\n",
       "        }\n",
       "    };\n",
       "\n",
       "    // Disable right mouse context menu.\n",
       "    this.rubberband_canvas.addEventListener('contextmenu', function (_e) {\n",
       "        event.preventDefault();\n",
       "        return false;\n",
       "    });\n",
       "\n",
       "    function set_focus() {\n",
       "        canvas.focus();\n",
       "        canvas_div.focus();\n",
       "    }\n",
       "\n",
       "    window.setTimeout(set_focus, 100);\n",
       "};\n",
       "\n",
       "mpl.figure.prototype._init_toolbar = function () {\n",
       "    var fig = this;\n",
       "\n",
       "    var toolbar = document.createElement('div');\n",
       "    toolbar.classList = 'mpl-toolbar';\n",
       "    this.root.appendChild(toolbar);\n",
       "\n",
       "    function on_click_closure(name) {\n",
       "        return function (_event) {\n",
       "            return fig.toolbar_button_onclick(name);\n",
       "        };\n",
       "    }\n",
       "\n",
       "    function on_mouseover_closure(tooltip) {\n",
       "        return function (event) {\n",
       "            if (!event.currentTarget.disabled) {\n",
       "                return fig.toolbar_button_onmouseover(tooltip);\n",
       "            }\n",
       "        };\n",
       "    }\n",
       "\n",
       "    fig.buttons = {};\n",
       "    var buttonGroup = document.createElement('div');\n",
       "    buttonGroup.classList = 'mpl-button-group';\n",
       "    for (var toolbar_ind in mpl.toolbar_items) {\n",
       "        var name = mpl.toolbar_items[toolbar_ind][0];\n",
       "        var tooltip = mpl.toolbar_items[toolbar_ind][1];\n",
       "        var image = mpl.toolbar_items[toolbar_ind][2];\n",
       "        var method_name = mpl.toolbar_items[toolbar_ind][3];\n",
       "\n",
       "        if (!name) {\n",
       "            /* Instead of a spacer, we start a new button group. */\n",
       "            if (buttonGroup.hasChildNodes()) {\n",
       "                toolbar.appendChild(buttonGroup);\n",
       "            }\n",
       "            buttonGroup = document.createElement('div');\n",
       "            buttonGroup.classList = 'mpl-button-group';\n",
       "            continue;\n",
       "        }\n",
       "\n",
       "        var button = (fig.buttons[name] = document.createElement('button'));\n",
       "        button.classList = 'mpl-widget';\n",
       "        button.setAttribute('role', 'button');\n",
       "        button.setAttribute('aria-disabled', 'false');\n",
       "        button.addEventListener('click', on_click_closure(method_name));\n",
       "        button.addEventListener('mouseover', on_mouseover_closure(tooltip));\n",
       "\n",
       "        var icon_img = document.createElement('img');\n",
       "        icon_img.src = '_images/' + image + '.png';\n",
       "        icon_img.srcset = '_images/' + image + '_large.png 2x';\n",
       "        icon_img.alt = tooltip;\n",
       "        button.appendChild(icon_img);\n",
       "\n",
       "        buttonGroup.appendChild(button);\n",
       "    }\n",
       "\n",
       "    if (buttonGroup.hasChildNodes()) {\n",
       "        toolbar.appendChild(buttonGroup);\n",
       "    }\n",
       "\n",
       "    var fmt_picker = document.createElement('select');\n",
       "    fmt_picker.classList = 'mpl-widget';\n",
       "    toolbar.appendChild(fmt_picker);\n",
       "    this.format_dropdown = fmt_picker;\n",
       "\n",
       "    for (var ind in mpl.extensions) {\n",
       "        var fmt = mpl.extensions[ind];\n",
       "        var option = document.createElement('option');\n",
       "        option.selected = fmt === mpl.default_extension;\n",
       "        option.innerHTML = fmt;\n",
       "        fmt_picker.appendChild(option);\n",
       "    }\n",
       "\n",
       "    var status_bar = document.createElement('span');\n",
       "    status_bar.classList = 'mpl-message';\n",
       "    toolbar.appendChild(status_bar);\n",
       "    this.message = status_bar;\n",
       "};\n",
       "\n",
       "mpl.figure.prototype.request_resize = function (x_pixels, y_pixels) {\n",
       "    // Request matplotlib to resize the figure. Matplotlib will then trigger a resize in the client,\n",
       "    // which will in turn request a refresh of the image.\n",
       "    this.send_message('resize', { width: x_pixels, height: y_pixels });\n",
       "};\n",
       "\n",
       "mpl.figure.prototype.send_message = function (type, properties) {\n",
       "    properties['type'] = type;\n",
       "    properties['figure_id'] = this.id;\n",
       "    this.ws.send(JSON.stringify(properties));\n",
       "};\n",
       "\n",
       "mpl.figure.prototype.send_draw_message = function () {\n",
       "    if (!this.waiting) {\n",
       "        this.waiting = true;\n",
       "        this.ws.send(JSON.stringify({ type: 'draw', figure_id: this.id }));\n",
       "    }\n",
       "};\n",
       "\n",
       "mpl.figure.prototype.handle_save = function (fig, _msg) {\n",
       "    var format_dropdown = fig.format_dropdown;\n",
       "    var format = format_dropdown.options[format_dropdown.selectedIndex].value;\n",
       "    fig.ondownload(fig, format);\n",
       "};\n",
       "\n",
       "mpl.figure.prototype.handle_resize = function (fig, msg) {\n",
       "    var size = msg['size'];\n",
       "    if (size[0] !== fig.canvas.width || size[1] !== fig.canvas.height) {\n",
       "        fig._resize_canvas(size[0], size[1], msg['forward']);\n",
       "        fig.send_message('refresh', {});\n",
       "    }\n",
       "};\n",
       "\n",
       "mpl.figure.prototype.handle_rubberband = function (fig, msg) {\n",
       "    var x0 = msg['x0'] / fig.ratio;\n",
       "    var y0 = (fig.canvas.height - msg['y0']) / fig.ratio;\n",
       "    var x1 = msg['x1'] / fig.ratio;\n",
       "    var y1 = (fig.canvas.height - msg['y1']) / fig.ratio;\n",
       "    x0 = Math.floor(x0) + 0.5;\n",
       "    y0 = Math.floor(y0) + 0.5;\n",
       "    x1 = Math.floor(x1) + 0.5;\n",
       "    y1 = Math.floor(y1) + 0.5;\n",
       "    var min_x = Math.min(x0, x1);\n",
       "    var min_y = Math.min(y0, y1);\n",
       "    var width = Math.abs(x1 - x0);\n",
       "    var height = Math.abs(y1 - y0);\n",
       "\n",
       "    fig.rubberband_context.clearRect(\n",
       "        0,\n",
       "        0,\n",
       "        fig.canvas.width / fig.ratio,\n",
       "        fig.canvas.height / fig.ratio\n",
       "    );\n",
       "\n",
       "    fig.rubberband_context.strokeRect(min_x, min_y, width, height);\n",
       "};\n",
       "\n",
       "mpl.figure.prototype.handle_figure_label = function (fig, msg) {\n",
       "    // Updates the figure title.\n",
       "    fig.header.textContent = msg['label'];\n",
       "};\n",
       "\n",
       "mpl.figure.prototype.handle_cursor = function (fig, msg) {\n",
       "    fig.rubberband_canvas.style.cursor = msg['cursor'];\n",
       "};\n",
       "\n",
       "mpl.figure.prototype.handle_message = function (fig, msg) {\n",
       "    fig.message.textContent = msg['message'];\n",
       "};\n",
       "\n",
       "mpl.figure.prototype.handle_draw = function (fig, _msg) {\n",
       "    // Request the server to send over a new figure.\n",
       "    fig.send_draw_message();\n",
       "};\n",
       "\n",
       "mpl.figure.prototype.handle_image_mode = function (fig, msg) {\n",
       "    fig.image_mode = msg['mode'];\n",
       "};\n",
       "\n",
       "mpl.figure.prototype.handle_history_buttons = function (fig, msg) {\n",
       "    for (var key in msg) {\n",
       "        if (!(key in fig.buttons)) {\n",
       "            continue;\n",
       "        }\n",
       "        fig.buttons[key].disabled = !msg[key];\n",
       "        fig.buttons[key].setAttribute('aria-disabled', !msg[key]);\n",
       "    }\n",
       "};\n",
       "\n",
       "mpl.figure.prototype.handle_navigate_mode = function (fig, msg) {\n",
       "    if (msg['mode'] === 'PAN') {\n",
       "        fig.buttons['Pan'].classList.add('active');\n",
       "        fig.buttons['Zoom'].classList.remove('active');\n",
       "    } else if (msg['mode'] === 'ZOOM') {\n",
       "        fig.buttons['Pan'].classList.remove('active');\n",
       "        fig.buttons['Zoom'].classList.add('active');\n",
       "    } else {\n",
       "        fig.buttons['Pan'].classList.remove('active');\n",
       "        fig.buttons['Zoom'].classList.remove('active');\n",
       "    }\n",
       "};\n",
       "\n",
       "mpl.figure.prototype.updated_canvas_event = function () {\n",
       "    // Called whenever the canvas gets updated.\n",
       "    this.send_message('ack', {});\n",
       "};\n",
       "\n",
       "// A function to construct a web socket function for onmessage handling.\n",
       "// Called in the figure constructor.\n",
       "mpl.figure.prototype._make_on_message_function = function (fig) {\n",
       "    return function socket_on_message(evt) {\n",
       "        if (evt.data instanceof Blob) {\n",
       "            var img = evt.data;\n",
       "            if (img.type !== 'image/png') {\n",
       "                /* FIXME: We get \"Resource interpreted as Image but\n",
       "                 * transferred with MIME type text/plain:\" errors on\n",
       "                 * Chrome.  But how to set the MIME type?  It doesn't seem\n",
       "                 * to be part of the websocket stream */\n",
       "                img.type = 'image/png';\n",
       "            }\n",
       "\n",
       "            /* Free the memory for the previous frames */\n",
       "            if (fig.imageObj.src) {\n",
       "                (window.URL || window.webkitURL).revokeObjectURL(\n",
       "                    fig.imageObj.src\n",
       "                );\n",
       "            }\n",
       "\n",
       "            fig.imageObj.src = (window.URL || window.webkitURL).createObjectURL(\n",
       "                img\n",
       "            );\n",
       "            fig.updated_canvas_event();\n",
       "            fig.waiting = false;\n",
       "            return;\n",
       "        } else if (\n",
       "            typeof evt.data === 'string' &&\n",
       "            evt.data.slice(0, 21) === 'data:image/png;base64'\n",
       "        ) {\n",
       "            fig.imageObj.src = evt.data;\n",
       "            fig.updated_canvas_event();\n",
       "            fig.waiting = false;\n",
       "            return;\n",
       "        }\n",
       "\n",
       "        var msg = JSON.parse(evt.data);\n",
       "        var msg_type = msg['type'];\n",
       "\n",
       "        // Call the  \"handle_{type}\" callback, which takes\n",
       "        // the figure and JSON message as its only arguments.\n",
       "        try {\n",
       "            var callback = fig['handle_' + msg_type];\n",
       "        } catch (e) {\n",
       "            console.log(\n",
       "                \"No handler for the '\" + msg_type + \"' message type: \",\n",
       "                msg\n",
       "            );\n",
       "            return;\n",
       "        }\n",
       "\n",
       "        if (callback) {\n",
       "            try {\n",
       "                // console.log(\"Handling '\" + msg_type + \"' message: \", msg);\n",
       "                callback(fig, msg);\n",
       "            } catch (e) {\n",
       "                console.log(\n",
       "                    \"Exception inside the 'handler_\" + msg_type + \"' callback:\",\n",
       "                    e,\n",
       "                    e.stack,\n",
       "                    msg\n",
       "                );\n",
       "            }\n",
       "        }\n",
       "    };\n",
       "};\n",
       "\n",
       "// from https://stackoverflow.com/questions/1114465/getting-mouse-location-in-canvas\n",
       "mpl.findpos = function (e) {\n",
       "    //this section is from http://www.quirksmode.org/js/events_properties.html\n",
       "    var targ;\n",
       "    if (!e) {\n",
       "        e = window.event;\n",
       "    }\n",
       "    if (e.target) {\n",
       "        targ = e.target;\n",
       "    } else if (e.srcElement) {\n",
       "        targ = e.srcElement;\n",
       "    }\n",
       "    if (targ.nodeType === 3) {\n",
       "        // defeat Safari bug\n",
       "        targ = targ.parentNode;\n",
       "    }\n",
       "\n",
       "    // pageX,Y are the mouse positions relative to the document\n",
       "    var boundingRect = targ.getBoundingClientRect();\n",
       "    var x = e.pageX - (boundingRect.left + document.body.scrollLeft);\n",
       "    var y = e.pageY - (boundingRect.top + document.body.scrollTop);\n",
       "\n",
       "    return { x: x, y: y };\n",
       "};\n",
       "\n",
       "/*\n",
       " * return a copy of an object with only non-object keys\n",
       " * we need this to avoid circular references\n",
       " * https://stackoverflow.com/a/24161582/3208463\n",
       " */\n",
       "function simpleKeys(original) {\n",
       "    return Object.keys(original).reduce(function (obj, key) {\n",
       "        if (typeof original[key] !== 'object') {\n",
       "            obj[key] = original[key];\n",
       "        }\n",
       "        return obj;\n",
       "    }, {});\n",
       "}\n",
       "\n",
       "mpl.figure.prototype.mouse_event = function (event, name) {\n",
       "    var canvas_pos = mpl.findpos(event);\n",
       "\n",
       "    if (name === 'button_press') {\n",
       "        this.canvas.focus();\n",
       "        this.canvas_div.focus();\n",
       "    }\n",
       "\n",
       "    var x = canvas_pos.x * this.ratio;\n",
       "    var y = canvas_pos.y * this.ratio;\n",
       "\n",
       "    this.send_message(name, {\n",
       "        x: x,\n",
       "        y: y,\n",
       "        button: event.button,\n",
       "        step: event.step,\n",
       "        guiEvent: simpleKeys(event),\n",
       "    });\n",
       "\n",
       "    /* This prevents the web browser from automatically changing to\n",
       "     * the text insertion cursor when the button is pressed.  We want\n",
       "     * to control all of the cursor setting manually through the\n",
       "     * 'cursor' event from matplotlib */\n",
       "    event.preventDefault();\n",
       "    return false;\n",
       "};\n",
       "\n",
       "mpl.figure.prototype._key_event_extra = function (_event, _name) {\n",
       "    // Handle any extra behaviour associated with a key event\n",
       "};\n",
       "\n",
       "mpl.figure.prototype.key_event = function (event, name) {\n",
       "    // Prevent repeat events\n",
       "    if (name === 'key_press') {\n",
       "        if (event.key === this._key) {\n",
       "            return;\n",
       "        } else {\n",
       "            this._key = event.key;\n",
       "        }\n",
       "    }\n",
       "    if (name === 'key_release') {\n",
       "        this._key = null;\n",
       "    }\n",
       "\n",
       "    var value = '';\n",
       "    if (event.ctrlKey && event.key !== 'Control') {\n",
       "        value += 'ctrl+';\n",
       "    }\n",
       "    else if (event.altKey && event.key !== 'Alt') {\n",
       "        value += 'alt+';\n",
       "    }\n",
       "    else if (event.shiftKey && event.key !== 'Shift') {\n",
       "        value += 'shift+';\n",
       "    }\n",
       "\n",
       "    value += 'k' + event.key;\n",
       "\n",
       "    this._key_event_extra(event, name);\n",
       "\n",
       "    this.send_message(name, { key: value, guiEvent: simpleKeys(event) });\n",
       "    return false;\n",
       "};\n",
       "\n",
       "mpl.figure.prototype.toolbar_button_onclick = function (name) {\n",
       "    if (name === 'download') {\n",
       "        this.handle_save(this, null);\n",
       "    } else {\n",
       "        this.send_message('toolbar_button', { name: name });\n",
       "    }\n",
       "};\n",
       "\n",
       "mpl.figure.prototype.toolbar_button_onmouseover = function (tooltip) {\n",
       "    this.message.textContent = tooltip;\n",
       "};\n",
       "\n",
       "///////////////// REMAINING CONTENT GENERATED BY embed_js.py /////////////////\n",
       "// prettier-ignore\n",
       "var _JSXTOOLS_RESIZE_OBSERVER=function(A){var t,i=new WeakMap,n=new WeakMap,a=new WeakMap,r=new WeakMap,o=new Set;function s(e){if(!(this instanceof s))throw new TypeError(\"Constructor requires 'new' operator\");i.set(this,e)}function h(){throw new TypeError(\"Function is not a constructor\")}function c(e,t,i,n){e=0 in arguments?Number(arguments[0]):0,t=1 in arguments?Number(arguments[1]):0,i=2 in arguments?Number(arguments[2]):0,n=3 in arguments?Number(arguments[3]):0,this.right=(this.x=this.left=e)+(this.width=i),this.bottom=(this.y=this.top=t)+(this.height=n),Object.freeze(this)}function d(){t=requestAnimationFrame(d);var s=new WeakMap,p=new Set;o.forEach((function(t){r.get(t).forEach((function(i){var r=t instanceof window.SVGElement,o=a.get(t),d=r?0:parseFloat(o.paddingTop),f=r?0:parseFloat(o.paddingRight),l=r?0:parseFloat(o.paddingBottom),u=r?0:parseFloat(o.paddingLeft),g=r?0:parseFloat(o.borderTopWidth),m=r?0:parseFloat(o.borderRightWidth),w=r?0:parseFloat(o.borderBottomWidth),b=u+f,F=d+l,v=(r?0:parseFloat(o.borderLeftWidth))+m,W=g+w,y=r?0:t.offsetHeight-W-t.clientHeight,E=r?0:t.offsetWidth-v-t.clientWidth,R=b+v,z=F+W,M=r?t.width:parseFloat(o.width)-R-E,O=r?t.height:parseFloat(o.height)-z-y;if(n.has(t)){var k=n.get(t);if(k[0]===M&&k[1]===O)return}n.set(t,[M,O]);var S=Object.create(h.prototype);S.target=t,S.contentRect=new c(u,d,M,O),s.has(i)||(s.set(i,[]),p.add(i)),s.get(i).push(S)}))})),p.forEach((function(e){i.get(e).call(e,s.get(e),e)}))}return s.prototype.observe=function(i){if(i instanceof window.Element){r.has(i)||(r.set(i,new Set),o.add(i),a.set(i,window.getComputedStyle(i)));var n=r.get(i);n.has(this)||n.add(this),cancelAnimationFrame(t),t=requestAnimationFrame(d)}},s.prototype.unobserve=function(i){if(i instanceof window.Element&&r.has(i)){var n=r.get(i);n.has(this)&&(n.delete(this),n.size||(r.delete(i),o.delete(i))),n.size||r.delete(i),o.size||cancelAnimationFrame(t)}},A.DOMRectReadOnly=c,A.ResizeObserver=s,A.ResizeObserverEntry=h,A}; // eslint-disable-line\n",
       "mpl.toolbar_items = [[\"Home\", \"Reset original view\", \"fa fa-home icon-home\", \"home\"], [\"Back\", \"Back to previous view\", \"fa fa-arrow-left icon-arrow-left\", \"back\"], [\"Forward\", \"Forward to next view\", \"fa fa-arrow-right icon-arrow-right\", \"forward\"], [\"\", \"\", \"\", \"\"], [\"Pan\", \"Left button pans, Right button zooms\\nx/y fixes axis, CTRL fixes aspect\", \"fa fa-arrows icon-move\", \"pan\"], [\"Zoom\", \"Zoom to rectangle\\nx/y fixes axis\", \"fa fa-square-o icon-check-empty\", \"zoom\"], [\"\", \"\", \"\", \"\"], [\"Download\", \"Download plot\", \"fa fa-floppy-o icon-save\", \"download\"]];\n",
       "\n",
       "mpl.extensions = [\"eps\", \"jpeg\", \"pgf\", \"pdf\", \"png\", \"ps\", \"raw\", \"svg\", \"tif\"];\n",
       "\n",
       "mpl.default_extension = \"png\";/* global mpl */\n",
       "\n",
       "var comm_websocket_adapter = function (comm) {\n",
       "    // Create a \"websocket\"-like object which calls the given IPython comm\n",
       "    // object with the appropriate methods. Currently this is a non binary\n",
       "    // socket, so there is still some room for performance tuning.\n",
       "    var ws = {};\n",
       "\n",
       "    ws.binaryType = comm.kernel.ws.binaryType;\n",
       "    ws.readyState = comm.kernel.ws.readyState;\n",
       "    function updateReadyState(_event) {\n",
       "        if (comm.kernel.ws) {\n",
       "            ws.readyState = comm.kernel.ws.readyState;\n",
       "        } else {\n",
       "            ws.readyState = 3; // Closed state.\n",
       "        }\n",
       "    }\n",
       "    comm.kernel.ws.addEventListener('open', updateReadyState);\n",
       "    comm.kernel.ws.addEventListener('close', updateReadyState);\n",
       "    comm.kernel.ws.addEventListener('error', updateReadyState);\n",
       "\n",
       "    ws.close = function () {\n",
       "        comm.close();\n",
       "    };\n",
       "    ws.send = function (m) {\n",
       "        //console.log('sending', m);\n",
       "        comm.send(m);\n",
       "    };\n",
       "    // Register the callback with on_msg.\n",
       "    comm.on_msg(function (msg) {\n",
       "        //console.log('receiving', msg['content']['data'], msg);\n",
       "        var data = msg['content']['data'];\n",
       "        if (data['blob'] !== undefined) {\n",
       "            data = {\n",
       "                data: new Blob(msg['buffers'], { type: data['blob'] }),\n",
       "            };\n",
       "        }\n",
       "        // Pass the mpl event to the overridden (by mpl) onmessage function.\n",
       "        ws.onmessage(data);\n",
       "    });\n",
       "    return ws;\n",
       "};\n",
       "\n",
       "mpl.mpl_figure_comm = function (comm, msg) {\n",
       "    // This is the function which gets called when the mpl process\n",
       "    // starts-up an IPython Comm through the \"matplotlib\" channel.\n",
       "\n",
       "    var id = msg.content.data.id;\n",
       "    // Get hold of the div created by the display call when the Comm\n",
       "    // socket was opened in Python.\n",
       "    var element = document.getElementById(id);\n",
       "    var ws_proxy = comm_websocket_adapter(comm);\n",
       "\n",
       "    function ondownload(figure, _format) {\n",
       "        window.open(figure.canvas.toDataURL());\n",
       "    }\n",
       "\n",
       "    var fig = new mpl.figure(id, ws_proxy, ondownload, element);\n",
       "\n",
       "    // Call onopen now - mpl needs it, as it is assuming we've passed it a real\n",
       "    // web socket which is closed, not our websocket->open comm proxy.\n",
       "    ws_proxy.onopen();\n",
       "\n",
       "    fig.parent_element = element;\n",
       "    fig.cell_info = mpl.find_output_cell(\"<div id='\" + id + \"'></div>\");\n",
       "    if (!fig.cell_info) {\n",
       "        console.error('Failed to find cell for figure', id, fig);\n",
       "        return;\n",
       "    }\n",
       "    fig.cell_info[0].output_area.element.on(\n",
       "        'cleared',\n",
       "        { fig: fig },\n",
       "        fig._remove_fig_handler\n",
       "    );\n",
       "};\n",
       "\n",
       "mpl.figure.prototype.handle_close = function (fig, msg) {\n",
       "    var width = fig.canvas.width / fig.ratio;\n",
       "    fig.cell_info[0].output_area.element.off(\n",
       "        'cleared',\n",
       "        fig._remove_fig_handler\n",
       "    );\n",
       "    fig.resizeObserverInstance.unobserve(fig.canvas_div);\n",
       "\n",
       "    // Update the output cell to use the data from the current canvas.\n",
       "    fig.push_to_output();\n",
       "    var dataURL = fig.canvas.toDataURL();\n",
       "    // Re-enable the keyboard manager in IPython - without this line, in FF,\n",
       "    // the notebook keyboard shortcuts fail.\n",
       "    IPython.keyboard_manager.enable();\n",
       "    fig.parent_element.innerHTML =\n",
       "        '<img src=\"' + dataURL + '\" width=\"' + width + '\">';\n",
       "    fig.close_ws(fig, msg);\n",
       "};\n",
       "\n",
       "mpl.figure.prototype.close_ws = function (fig, msg) {\n",
       "    fig.send_message('closing', msg);\n",
       "    // fig.ws.close()\n",
       "};\n",
       "\n",
       "mpl.figure.prototype.push_to_output = function (_remove_interactive) {\n",
       "    // Turn the data on the canvas into data in the output cell.\n",
       "    var width = this.canvas.width / this.ratio;\n",
       "    var dataURL = this.canvas.toDataURL();\n",
       "    this.cell_info[1]['text/html'] =\n",
       "        '<img src=\"' + dataURL + '\" width=\"' + width + '\">';\n",
       "};\n",
       "\n",
       "mpl.figure.prototype.updated_canvas_event = function () {\n",
       "    // Tell IPython that the notebook contents must change.\n",
       "    IPython.notebook.set_dirty(true);\n",
       "    this.send_message('ack', {});\n",
       "    var fig = this;\n",
       "    // Wait a second, then push the new image to the DOM so\n",
       "    // that it is saved nicely (might be nice to debounce this).\n",
       "    setTimeout(function () {\n",
       "        fig.push_to_output();\n",
       "    }, 1000);\n",
       "};\n",
       "\n",
       "mpl.figure.prototype._init_toolbar = function () {\n",
       "    var fig = this;\n",
       "\n",
       "    var toolbar = document.createElement('div');\n",
       "    toolbar.classList = 'btn-toolbar';\n",
       "    this.root.appendChild(toolbar);\n",
       "\n",
       "    function on_click_closure(name) {\n",
       "        return function (_event) {\n",
       "            return fig.toolbar_button_onclick(name);\n",
       "        };\n",
       "    }\n",
       "\n",
       "    function on_mouseover_closure(tooltip) {\n",
       "        return function (event) {\n",
       "            if (!event.currentTarget.disabled) {\n",
       "                return fig.toolbar_button_onmouseover(tooltip);\n",
       "            }\n",
       "        };\n",
       "    }\n",
       "\n",
       "    fig.buttons = {};\n",
       "    var buttonGroup = document.createElement('div');\n",
       "    buttonGroup.classList = 'btn-group';\n",
       "    var button;\n",
       "    for (var toolbar_ind in mpl.toolbar_items) {\n",
       "        var name = mpl.toolbar_items[toolbar_ind][0];\n",
       "        var tooltip = mpl.toolbar_items[toolbar_ind][1];\n",
       "        var image = mpl.toolbar_items[toolbar_ind][2];\n",
       "        var method_name = mpl.toolbar_items[toolbar_ind][3];\n",
       "\n",
       "        if (!name) {\n",
       "            /* Instead of a spacer, we start a new button group. */\n",
       "            if (buttonGroup.hasChildNodes()) {\n",
       "                toolbar.appendChild(buttonGroup);\n",
       "            }\n",
       "            buttonGroup = document.createElement('div');\n",
       "            buttonGroup.classList = 'btn-group';\n",
       "            continue;\n",
       "        }\n",
       "\n",
       "        button = fig.buttons[name] = document.createElement('button');\n",
       "        button.classList = 'btn btn-default';\n",
       "        button.href = '#';\n",
       "        button.title = name;\n",
       "        button.innerHTML = '<i class=\"fa ' + image + ' fa-lg\"></i>';\n",
       "        button.addEventListener('click', on_click_closure(method_name));\n",
       "        button.addEventListener('mouseover', on_mouseover_closure(tooltip));\n",
       "        buttonGroup.appendChild(button);\n",
       "    }\n",
       "\n",
       "    if (buttonGroup.hasChildNodes()) {\n",
       "        toolbar.appendChild(buttonGroup);\n",
       "    }\n",
       "\n",
       "    // Add the status bar.\n",
       "    var status_bar = document.createElement('span');\n",
       "    status_bar.classList = 'mpl-message pull-right';\n",
       "    toolbar.appendChild(status_bar);\n",
       "    this.message = status_bar;\n",
       "\n",
       "    // Add the close button to the window.\n",
       "    var buttongrp = document.createElement('div');\n",
       "    buttongrp.classList = 'btn-group inline pull-right';\n",
       "    button = document.createElement('button');\n",
       "    button.classList = 'btn btn-mini btn-primary';\n",
       "    button.href = '#';\n",
       "    button.title = 'Stop Interaction';\n",
       "    button.innerHTML = '<i class=\"fa fa-power-off icon-remove icon-large\"></i>';\n",
       "    button.addEventListener('click', function (_evt) {\n",
       "        fig.handle_close(fig, {});\n",
       "    });\n",
       "    button.addEventListener(\n",
       "        'mouseover',\n",
       "        on_mouseover_closure('Stop Interaction')\n",
       "    );\n",
       "    buttongrp.appendChild(button);\n",
       "    var titlebar = this.root.querySelector('.ui-dialog-titlebar');\n",
       "    titlebar.insertBefore(buttongrp, titlebar.firstChild);\n",
       "};\n",
       "\n",
       "mpl.figure.prototype._remove_fig_handler = function (event) {\n",
       "    var fig = event.data.fig;\n",
       "    if (event.target !== this) {\n",
       "        // Ignore bubbled events from children.\n",
       "        return;\n",
       "    }\n",
       "    fig.close_ws(fig, {});\n",
       "};\n",
       "\n",
       "mpl.figure.prototype._root_extra_style = function (el) {\n",
       "    el.style.boxSizing = 'content-box'; // override notebook setting of border-box.\n",
       "};\n",
       "\n",
       "mpl.figure.prototype._canvas_extra_style = function (el) {\n",
       "    // this is important to make the div 'focusable\n",
       "    el.setAttribute('tabindex', 0);\n",
       "    // reach out to IPython and tell the keyboard manager to turn it's self\n",
       "    // off when our div gets focus\n",
       "\n",
       "    // location in version 3\n",
       "    if (IPython.notebook.keyboard_manager) {\n",
       "        IPython.notebook.keyboard_manager.register_events(el);\n",
       "    } else {\n",
       "        // location in version 2\n",
       "        IPython.keyboard_manager.register_events(el);\n",
       "    }\n",
       "};\n",
       "\n",
       "mpl.figure.prototype._key_event_extra = function (event, _name) {\n",
       "    // Check for shift+enter\n",
       "    if (event.shiftKey && event.which === 13) {\n",
       "        this.canvas_div.blur();\n",
       "        // select the cell after this one\n",
       "        var index = IPython.notebook.find_cell_index(this.cell_info[0]);\n",
       "        IPython.notebook.select(index + 1);\n",
       "    }\n",
       "};\n",
       "\n",
       "mpl.figure.prototype.handle_save = function (fig, _msg) {\n",
       "    fig.ondownload(fig, null);\n",
       "};\n",
       "\n",
       "mpl.find_output_cell = function (html_output) {\n",
       "    // Return the cell and output element which can be found *uniquely* in the notebook.\n",
       "    // Note - this is a bit hacky, but it is done because the \"notebook_saving.Notebook\"\n",
       "    // IPython event is triggered only after the cells have been serialised, which for\n",
       "    // our purposes (turning an active figure into a static one), is too late.\n",
       "    var cells = IPython.notebook.get_cells();\n",
       "    var ncells = cells.length;\n",
       "    for (var i = 0; i < ncells; i++) {\n",
       "        var cell = cells[i];\n",
       "        if (cell.cell_type === 'code') {\n",
       "            for (var j = 0; j < cell.output_area.outputs.length; j++) {\n",
       "                var data = cell.output_area.outputs[j];\n",
       "                if (data.data) {\n",
       "                    // IPython >= 3 moved mimebundle to data attribute of output\n",
       "                    data = data.data;\n",
       "                }\n",
       "                if (data['text/html'] === html_output) {\n",
       "                    return [cell, data, j];\n",
       "                }\n",
       "            }\n",
       "        }\n",
       "    }\n",
       "};\n",
       "\n",
       "// Register the function which deals with the matplotlib target/channel.\n",
       "// The kernel may be null if the page has been refreshed.\n",
       "if (IPython.notebook.kernel !== null) {\n",
       "    IPython.notebook.kernel.comm_manager.register_target(\n",
       "        'matplotlib',\n",
       "        mpl.mpl_figure_comm\n",
       "    );\n",
       "}\n"
      ],
      "text/plain": [
       "<IPython.core.display.Javascript object>"
      ]
     },
     "metadata": {},
     "output_type": "display_data"
    },
    {
     "data": {
      "text/html": [
       "<img src=\"data:image/png;base64,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\" width=\"1200\">"
      ],
      "text/plain": [
       "<IPython.core.display.HTML object>"
      ]
     },
     "metadata": {},
     "output_type": "display_data"
    },
    {
     "name": "stderr",
     "output_type": "stream",
     "text": [
      "/home/Lukas/conda/envs/dml/lib/python3.9/site-packages/sklearn/metrics/_classification.py:1327: UndefinedMetricWarning: Precision and F-score are ill-defined and being set to 0.0 in labels with no predicted samples. Use `zero_division` parameter to control this behavior.\n",
      "  _warn_prf(average, modifier, msg_start, len(result))\n",
      "/home/Lukas/conda/envs/dml/lib/python3.9/site-packages/sklearn/metrics/_classification.py:1327: UndefinedMetricWarning: Precision and F-score are ill-defined and being set to 0.0 in labels with no predicted samples. Use `zero_division` parameter to control this behavior.\n",
      "  _warn_prf(average, modifier, msg_start, len(result))\n",
      "/home/Lukas/conda/envs/dml/lib/python3.9/site-packages/sklearn/metrics/_classification.py:1327: UndefinedMetricWarning: Recall and F-score are ill-defined and being set to 0.0 in labels with no true samples. Use `zero_division` parameter to control this behavior.\n",
      "  _warn_prf(average, modifier, msg_start, len(result))\n",
      "/home/Lukas/conda/envs/dml/lib/python3.9/site-packages/sklearn/metrics/_classification.py:1327: UndefinedMetricWarning: Precision and F-score are ill-defined and being set to 0.0 in labels with no predicted samples. Use `zero_division` parameter to control this behavior.\n",
      "  _warn_prf(average, modifier, msg_start, len(result))\n",
      "/home/Lukas/conda/envs/dml/lib/python3.9/site-packages/sklearn/metrics/_classification.py:1327: UndefinedMetricWarning: Precision and F-score are ill-defined and being set to 0.0 in labels with no predicted samples. Use `zero_division` parameter to control this behavior.\n",
      "  _warn_prf(average, modifier, msg_start, len(result))\n",
      "/home/Lukas/conda/envs/dml/lib/python3.9/site-packages/sklearn/metrics/_classification.py:1327: UndefinedMetricWarning: Precision and F-score are ill-defined and being set to 0.0 in labels with no predicted samples. Use `zero_division` parameter to control this behavior.\n",
      "  _warn_prf(average, modifier, msg_start, len(result))\n",
      "/home/Lukas/conda/envs/dml/lib/python3.9/site-packages/sklearn/metrics/_classification.py:1327: UndefinedMetricWarning: Precision and F-score are ill-defined and being set to 0.0 in labels with no predicted samples. Use `zero_division` parameter to control this behavior.\n",
      "  _warn_prf(average, modifier, msg_start, len(result))\n",
      "/home/Lukas/conda/envs/dml/lib/python3.9/site-packages/sklearn/metrics/_classification.py:1327: UndefinedMetricWarning: Precision and F-score are ill-defined and being set to 0.0 in labels with no predicted samples. Use `zero_division` parameter to control this behavior.\n",
      "  _warn_prf(average, modifier, msg_start, len(result))\n",
      "/home/Lukas/conda/envs/dml/lib/python3.9/site-packages/sklearn/metrics/_classification.py:1327: UndefinedMetricWarning: Precision and F-score are ill-defined and being set to 0.0 in labels with no predicted samples. Use `zero_division` parameter to control this behavior.\n",
      "  _warn_prf(average, modifier, msg_start, len(result))\n",
      "/home/Lukas/conda/envs/dml/lib/python3.9/site-packages/sklearn/metrics/_classification.py:1327: UndefinedMetricWarning: Precision and F-score are ill-defined and being set to 0.0 in labels with no predicted samples. Use `zero_division` parameter to control this behavior.\n",
      "  _warn_prf(average, modifier, msg_start, len(result))\n",
      "/home/Lukas/conda/envs/dml/lib/python3.9/site-packages/sklearn/metrics/_classification.py:1327: UndefinedMetricWarning: Precision and F-score are ill-defined and being set to 0.0 in labels with no predicted samples. Use `zero_division` parameter to control this behavior.\n",
      "  _warn_prf(average, modifier, msg_start, len(result))\n",
      "/home/Lukas/conda/envs/dml/lib/python3.9/site-packages/sklearn/metrics/_classification.py:1327: UndefinedMetricWarning: Precision and F-score are ill-defined and being set to 0.0 in labels with no predicted samples. Use `zero_division` parameter to control this behavior.\n",
      "  _warn_prf(average, modifier, msg_start, len(result))\n",
      "/home/Lukas/conda/envs/dml/lib/python3.9/site-packages/sklearn/metrics/_classification.py:1327: UndefinedMetricWarning: Precision and F-score are ill-defined and being set to 0.0 in labels with no predicted samples. Use `zero_division` parameter to control this behavior.\n",
      "  _warn_prf(average, modifier, msg_start, len(result))\n",
      "/home/Lukas/conda/envs/dml/lib/python3.9/site-packages/sklearn/metrics/_classification.py:1327: UndefinedMetricWarning: Precision and F-score are ill-defined and being set to 0.0 in labels with no predicted samples. Use `zero_division` parameter to control this behavior.\n",
      "  _warn_prf(average, modifier, msg_start, len(result))\n",
      "/home/Lukas/conda/envs/dml/lib/python3.9/site-packages/sklearn/metrics/_classification.py:1327: UndefinedMetricWarning: Precision and F-score are ill-defined and being set to 0.0 in labels with no predicted samples. Use `zero_division` parameter to control this behavior.\n",
      "  _warn_prf(average, modifier, msg_start, len(result))\n",
      "/home/Lukas/conda/envs/dml/lib/python3.9/site-packages/sklearn/metrics/_classification.py:1327: UndefinedMetricWarning: Precision and F-score are ill-defined and being set to 0.0 in labels with no predicted samples. Use `zero_division` parameter to control this behavior.\n",
      "  _warn_prf(average, modifier, msg_start, len(result))\n",
      "/home/Lukas/conda/envs/dml/lib/python3.9/site-packages/sklearn/metrics/_classification.py:1327: UndefinedMetricWarning: Precision and F-score are ill-defined and being set to 0.0 in labels with no predicted samples. Use `zero_division` parameter to control this behavior.\n",
      "  _warn_prf(average, modifier, msg_start, len(result))\n",
      "/home/Lukas/conda/envs/dml/lib/python3.9/site-packages/sklearn/metrics/_classification.py:1327: UndefinedMetricWarning: Precision and F-score are ill-defined and being set to 0.0 in labels with no predicted samples. Use `zero_division` parameter to control this behavior.\n",
      "  _warn_prf(average, modifier, msg_start, len(result))\n",
      "/home/Lukas/conda/envs/dml/lib/python3.9/site-packages/sklearn/metrics/_classification.py:1327: UndefinedMetricWarning: Precision and F-score are ill-defined and being set to 0.0 in labels with no predicted samples. Use `zero_division` parameter to control this behavior.\n",
      "  _warn_prf(average, modifier, msg_start, len(result))\n",
      "/home/Lukas/conda/envs/dml/lib/python3.9/site-packages/sklearn/metrics/_classification.py:1327: UndefinedMetricWarning: Precision and F-score are ill-defined and being set to 0.0 in labels with no predicted samples. Use `zero_division` parameter to control this behavior.\n",
      "  _warn_prf(average, modifier, msg_start, len(result))\n",
      "/home/Lukas/conda/envs/dml/lib/python3.9/site-packages/sklearn/metrics/_classification.py:1327: UndefinedMetricWarning: Precision and F-score are ill-defined and being set to 0.0 in labels with no predicted samples. Use `zero_division` parameter to control this behavior.\n",
      "  _warn_prf(average, modifier, msg_start, len(result))\n"
     ]
    }
   ],
   "source": [
    "rnn = RNN(len(charset), 100, len(names_dict)).to(device)\n",
    "n_epochs = 15\n",
    "learning_rate = 0.001\n",
    "batch_size = 64\n",
    "train(rnn, n_epochs, learning_rate, batch_size, train_dataset, val_dataset)"
   ]
  },
  {
   "cell_type": "markdown",
   "metadata": {
    "deletable": false,
    "editable": false,
    "nbgrader": {
     "cell_type": "markdown",
     "checksum": "ec7510ce50876d9072ff172b5a6bed05",
     "grade": false,
     "grade_id": "cell-b59e32abfa0bf9ef",
     "locked": true,
     "schema_version": 3,
     "solution": false
    }
   },
   "source": [
    "Make sure you obtain at least 0.3 F1-score in the validation set before proceeding."
   ]
  },
  {
   "cell_type": "markdown",
   "metadata": {
    "deletable": false,
    "editable": false,
    "nbgrader": {
     "cell_type": "markdown",
     "checksum": "0c90c4448ae9e3cfffa5e8dc30b21411",
     "grade": false,
     "grade_id": "cell-09fe0d5786ed0073",
     "locked": true,
     "schema_version": 3,
     "solution": false
    }
   },
   "source": [
    "### 1.6 Evaluation"
   ]
  },
  {
   "cell_type": "markdown",
   "metadata": {
    "deletable": false,
    "editable": false,
    "nbgrader": {
     "cell_type": "markdown",
     "checksum": "32ba20bdba94d72537d559f5d7fed869",
     "grade": false,
     "grade_id": "cell-098308391c682cd8",
     "locked": true,
     "schema_version": 3,
     "solution": false
    }
   },
   "source": [
    "Now that our model is trained, we can evaluate its predictions on the test set. "
   ]
  },
  {
   "cell_type": "code",
   "execution_count": 35,
   "metadata": {
    "deletable": false,
    "editable": false,
    "nbgrader": {
     "cell_type": "code",
     "checksum": "d028367fa4f2b8e07b9f412bc0dc82cc",
     "grade": false,
     "grade_id": "cell-ee9fecbd4fc5e6cd",
     "locked": true,
     "schema_version": 3,
     "solution": false
    }
   },
   "outputs": [],
   "source": [
    "# Get all samples from the test set\n",
    "x_test, y_test = test_dataset[:]\n",
    "\n",
    "# Compute predictions\n",
    "with torch.no_grad():\n",
    "    test_out, _ = batch_forward_prop(rnn, x_test, y_test)\n",
    "\n",
    "# Transform them into hard predictions\n",
    "preds = test_out.argmax(dim=1)\n",
    "\n",
    "# Get `preds` as a numpy array\n",
    "preds = preds.cpu().numpy()"
   ]
  },
  {
   "cell_type": "markdown",
   "metadata": {
    "deletable": false,
    "editable": false,
    "nbgrader": {
     "cell_type": "markdown",
     "checksum": "5fdeb2d6a4e4a5402f0feb9554634e15",
     "grade": false,
     "grade_id": "cell-6968066e3b5b4085",
     "locked": true,
     "schema_version": 3,
     "solution": false
    }
   },
   "source": [
    "Using these predictions, we can compute the confusion matrix on the test set as follows."
   ]
  },
  {
   "cell_type": "code",
   "execution_count": 36,
   "metadata": {
    "deletable": false,
    "editable": false,
    "nbgrader": {
     "cell_type": "code",
     "checksum": "2ca8a97e26fea408fe09e4eed8350526",
     "grade": false,
     "grade_id": "cell-003dfbe728ab93f4",
     "locked": true,
     "schema_version": 3,
     "solution": false
    }
   },
   "outputs": [
    {
     "data": {
      "text/plain": [
       "array([[0.20408163, 0.03401361, 0.05442177, ..., 0.00680272, 0.        ,\n",
       "        0.04761905],\n",
       "       [0.06818182, 0.31818182, 0.02272727, ..., 0.02272727, 0.        ,\n",
       "        0.04545455],\n",
       "       [0.12698413, 0.02292769, 0.07231041, ..., 0.00176367, 0.00529101,\n",
       "        0.02998236],\n",
       "       ...,\n",
       "       [0.        , 0.        , 0.00552486, ..., 0.77348066, 0.01657459,\n",
       "        0.03314917],\n",
       "       [0.        , 0.        , 0.        , ..., 0.01058201, 0.63492063,\n",
       "        0.10582011],\n",
       "       [0.        , 0.        , 0.        , ..., 0.        , 0.        ,\n",
       "        0.875     ]])"
      ]
     },
     "execution_count": 36,
     "metadata": {},
     "output_type": "execute_result"
    }
   ],
   "source": [
    "from sklearn.metrics import confusion_matrix\n",
    "\n",
    "# Compute the confusion matrix\n",
    "y_true = y_test.cpu().numpy()\n",
    "cm = confusion_matrix(y_true, preds)\n",
    "cm = cm.astype('float64')\n",
    "\n",
    "# Normalize each row\n",
    "for i in range(cm.shape[0]):\n",
    "    cm[i, :] = cm[i, :] / sum(cm[i, :])\n",
    "    \n",
    "cm"
   ]
  },
  {
   "cell_type": "markdown",
   "metadata": {
    "deletable": false,
    "editable": false,
    "nbgrader": {
     "cell_type": "markdown",
     "checksum": "498ae92e6253b9951570fd782bb67f28",
     "grade": false,
     "grade_id": "cell-d0a5d53862716ff5",
     "locked": true,
     "schema_version": 3,
     "solution": false
    }
   },
   "source": [
    "In order to make this easier to visualize, let's plot it as a heat map:"
   ]
  },
  {
   "cell_type": "code",
   "execution_count": 37,
   "metadata": {
    "deletable": false,
    "editable": false,
    "nbgrader": {
     "cell_type": "code",
     "checksum": "5eed47cfe9145966604d70f8a0ae1ab5",
     "grade": false,
     "grade_id": "cell-0ac30bac8eee0481",
     "locked": true,
     "schema_version": 3,
     "solution": false
    }
   },
   "outputs": [
    {
     "data": {
      "image/png": "[encoded data removed]",
      "text/plain": [
       "<Figure size 1000x1000 with 1 Axes>"
      ]
     },
     "metadata": {},
     "output_type": "display_data"
    }
   ],
   "source": [
    "%matplotlib inline\n",
    "plt.figure(figsize=(10, 10))\n",
    "plt.imshow(cm)\n",
    "plt.xticks(range(len(names_dict)), names_dict.keys(), rotation='vertical')\n",
    "plt.yticks(range(len(names_dict)), names_dict.keys())\n",
    "plt.xlabel('Predicted label')\n",
    "plt.ylabel('True label')\n",
    "plt.show()"
   ]
  },
  {
   "cell_type": "markdown",
   "metadata": {
    "deletable": false,
    "editable": false,
    "nbgrader": {
     "cell_type": "markdown",
     "checksum": "699749612d8cf6acf9f342e8fdc00ec9",
     "grade": false,
     "grade_id": "cell-baa17f34d2c98af3",
     "locked": true,
     "schema_version": 3,
     "solution": false
    }
   },
   "source": [
    "**[1 point]** Why did we normalize the rows of the confusion matrix? "
   ]
  },
  {
   "cell_type": "markdown",
   "metadata": {
    "deletable": false,
    "nbgrader": {
     "cell_type": "markdown",
     "checksum": "8809376b54c2dbd1c37e038a54589d97",
     "grade": true,
     "grade_id": "cell-5e952f1af1335cd1",
     "locked": false,
     "points": 1,
     "schema_version": 3,
     "solution": true
    }
   },
   "source": [
    "**Your answer:** So that each row sum up to 100%. This makes it easier to understand how often each class gets confused with another class. Otherwise it would be an abritary number that is hard to understand the meaning of. In this way big classes will not dominate the heatmap and will only be shown by how they proportionally effect the confusion matrix."
   ]
  },
  {
   "cell_type": "markdown",
   "metadata": {
    "deletable": false,
    "editable": false,
    "nbgrader": {
     "cell_type": "markdown",
     "checksum": "b3ce186431569960c43df0a99a34d0d4",
     "grade": false,
     "grade_id": "cell-b56067b9a8f982ed",
     "locked": true,
     "schema_version": 3,
     "solution": false
    }
   },
   "source": [
    "**[2 points]** What can you conclude from this confusion matrix? Which classes are easy/hard to classify? Which classes are being confused?"
   ]
  },
  {
   "cell_type": "markdown",
   "metadata": {
    "deletable": false,
    "nbgrader": {
     "cell_type": "markdown",
     "checksum": "c83e6f1c4e0c6e0f64d1d9b0a3235d78",
     "grade": true,
     "grade_id": "cell-e3597dc61426d8a3",
     "locked": false,
     "points": 2,
     "schema_version": 3,
     "solution": true
    }
   },
   "source": [
    "**Your answer:** It seems that Iceland, China, Japan, Korea and Vietnam are easy to classify which is what we would expect. Denmark, Great Britain and USA are harder. One potential issue that makes Denmark, Great Britain and USA hard to classify is probably due to a lot of immigration between the countries(and many others) that lead to many similar names which makes it hard to differ their nationality based on the names. China we have a lot of data for, so it's probably why the model is good for classifying this. Icelandic names are very unique and are thus probably easy to classify. Japan, Korea and Vietnam we don't have that much data for, however we suspect the same situation as with Iceland that the names are a bit unique compared to the rest usually."
   ]
  },
  {
   "cell_type": "markdown",
   "metadata": {
    "deletable": false,
    "editable": false,
    "nbgrader": {
     "cell_type": "markdown",
     "checksum": "9ff548903b15da02335b1f0111ac9c4a",
     "grade": false,
     "grade_id": "cell-a1cd31c6856025a5",
     "locked": true,
     "schema_version": 3,
     "solution": false
    }
   },
   "source": [
    "To end this task, we can now define a function to perform predictions on any input name we provide (as long as the name contains only characters in our character set)."
   ]
  },
  {
   "cell_type": "code",
   "execution_count": 38,
   "metadata": {
    "deletable": false,
    "editable": false,
    "nbgrader": {
     "cell_type": "code",
     "checksum": "16ff9962bca7277a96de8620d03b1264",
     "grade": false,
     "grade_id": "cell-07f9089a7c996db0",
     "locked": true,
     "schema_version": 3,
     "solution": false
    }
   },
   "outputs": [],
   "source": [
    "def evaluate(name_tensor):\n",
    "    with torch.no_grad():\n",
    "        hidden = torch.zeros(1, rnn.hidden_size).to(device)\n",
    "        for i in range(name_tensor.shape[1]):\n",
    "            output, hidden = rnn(name_tensor[:, i, :], hidden)\n",
    "    return output.exp()\n",
    "\n",
    "def predict(input_line, n_predictions=5):\n",
    "    tensor = name2tensor(input_line).to(device)[None, :]\n",
    "    output = evaluate(tensor)\n",
    "\n",
    "    # Get top N categories\n",
    "    topv, topi = output.topk(n_predictions, 1, True)\n",
    "    topv, topi = topv[0], topi[0]\n",
    "        \n",
    "    cats = [list(names_dict.keys())[i] for i in topi.cpu().numpy()]\n",
    "    vs = topv.cpu().numpy()\n",
    "\n",
    "    plt.figure(figsize=(10,3))\n",
    "    plt.bar(range(len(vs)), vs)\n",
    "    plt.xticks(range(len(vs)), cats)"
   ]
  },
  {
   "cell_type": "code",
   "execution_count": 39,
   "metadata": {
    "deletable": false,
    "editable": false,
    "nbgrader": {
     "cell_type": "code",
     "checksum": "663d002913d786ae06797435cabb49b3",
     "grade": false,
     "grade_id": "cell-ee607ec26d687e7a",
     "locked": true,
     "schema_version": 3,
     "solution": false
    }
   },
   "outputs": [
    {
     "data": {
      "image/png": "[encoded data removed]",
      "text/plain": [
       "<Figure size 1000x300 with 1 Axes>"
      ]
     },
     "metadata": {},
     "output_type": "display_data"
    }
   ],
   "source": [
    "predict('Åsakvi')"
   ]
  },
  {
   "cell_type": "code",
   "execution_count": 40,
   "metadata": {
    "deletable": false,
    "editable": false,
    "nbgrader": {
     "cell_type": "code",
     "checksum": "de6ea4fca69dcdfafe0989d3c5a18f2b",
     "grade": false,
     "grade_id": "cell-fcc84c5b71d65216",
     "locked": true,
     "schema_version": 3,
     "solution": false
    }
   },
   "outputs": [
    {
     "data": {
      "image/png": "[encoded data removed]",
      "text/plain": [
       "<Figure size 1000x300 with 1 Axes>"
      ]
     },
     "metadata": {},
     "output_type": "display_data"
    }
   ],
   "source": [
    "predict('Harakabim')"
   ]
  },
  {
   "cell_type": "code",
   "execution_count": 41,
   "metadata": {
    "deletable": false,
    "editable": false,
    "nbgrader": {
     "cell_type": "code",
     "checksum": "8677e866517c65d978435ec0bd2c7213",
     "grade": false,
     "grade_id": "cell-d8af5b38ed527dc0",
     "locked": true,
     "schema_version": 3,
     "solution": false
    }
   },
   "outputs": [
    {
     "data": {
      "image/png": "[encoded data removed]",
      "text/plain": [
       "<Figure size 1000x300 with 1 Axes>"
      ]
     },
     "metadata": {},
     "output_type": "display_data"
    }
   ],
   "source": [
    "predict('Alakazam')"
   ]
  },
  {
   "cell_type": "code",
   "execution_count": 42,
   "metadata": {
    "deletable": false,
    "editable": false,
    "nbgrader": {
     "cell_type": "code",
     "checksum": "8aeaf021219a2f4697067d2fd4a41506",
     "grade": false,
     "grade_id": "cell-608a1a0a87fdcfbc",
     "locked": true,
     "schema_version": 3,
     "solution": false
    }
   },
   "outputs": [
    {
     "data": {
      "image/png": "[encoded data removed]",
      "text/plain": [
       "<Figure size 1000x300 with 1 Axes>"
      ]
     },
     "metadata": {},
     "output_type": "display_data"
    }
   ],
   "source": [
    "predict('Jin Quaio')"
   ]
  },
  {
   "cell_type": "code",
   "execution_count": 43,
   "metadata": {
    "deletable": false,
    "editable": false,
    "nbgrader": {
     "cell_type": "code",
     "checksum": "82b217f4a574a2cc23ad6233505d1d3e",
     "grade": false,
     "grade_id": "cell-9e46296a62c4ad3b",
     "locked": true,
     "schema_version": 3,
     "solution": false
    }
   },
   "outputs": [
    {
     "data": {
      "image/png": "[encoded data removed]",
      "text/plain": [
       "<Figure size 1000x300 with 1 Axes>"
      ]
     },
     "metadata": {},
     "output_type": "display_data"
    }
   ],
   "source": [
    "predict('Leonardino')"
   ]
  },
  {
   "cell_type": "code",
   "execution_count": 44,
   "metadata": {
    "deletable": false,
    "editable": false,
    "nbgrader": {
     "cell_type": "code",
     "checksum": "e2cbe7f4dcf0f10d6f011dca38976ec9",
     "grade": false,
     "grade_id": "cell-7107524e76e71c41",
     "locked": true,
     "schema_version": 3,
     "solution": false
    }
   },
   "outputs": [
    {
     "data": {
      "image/png": "[encoded data removed]",
      "text/plain": [
       "<Figure size 1000x300 with 1 Axes>"
      ]
     },
     "metadata": {},
     "output_type": "display_data"
    }
   ],
   "source": [
    "predict('Kim Sung')"
   ]
  },
  {
   "cell_type": "code",
   "execution_count": 45,
   "metadata": {
    "deletable": false,
    "editable": false,
    "nbgrader": {
     "cell_type": "code",
     "checksum": "aafceedc4f3f9ddbacf4b76548e8aa95",
     "grade": false,
     "grade_id": "cell-e5c047f1d1960750",
     "locked": true,
     "schema_version": 3,
     "solution": false
    }
   },
   "outputs": [
    {
     "data": {
      "image/png": "[encoded data removed]",
      "text/plain": [
       "<Figure size 1000x300 with 1 Axes>"
      ]
     },
     "metadata": {},
     "output_type": "display_data"
    }
   ],
   "source": [
    "predict('Thanos')"
   ]
  },
  {
   "cell_type": "code",
   "execution_count": 46,
   "metadata": {
    "deletable": false,
    "editable": false,
    "nbgrader": {
     "cell_type": "code",
     "checksum": "7c82ec8b8c895b208611f139201ac560",
     "grade": false,
     "grade_id": "cell-fc41f7e0ab00a192",
     "locked": true,
     "schema_version": 3,
     "solution": false
    }
   },
   "outputs": [
    {
     "data": {
      "image/png": "[encoded data removed]",
      "text/plain": [
       "<Figure size 1000x300 with 1 Axes>"
      ]
     },
     "metadata": {},
     "output_type": "display_data"
    }
   ],
   "source": [
    "predict('Viiviika')"
   ]
  },
  {
   "cell_type": "markdown",
   "metadata": {
    "deletable": false,
    "editable": false,
    "nbgrader": {
     "cell_type": "markdown",
     "checksum": "bdf82da73d54b9f9e00cb0f323dcf206",
     "grade": false,
     "grade_id": "cell-5b8cdb44355a89df",
     "locked": true,
     "schema_version": 3,
     "solution": false
    }
   },
   "source": [
    "Experiment on new names using the next cell:"
   ]
  },
  {
   "cell_type": "code",
   "execution_count": 57,
   "metadata": {},
   "outputs": [
    {
     "data": {
      "image/png": "[encoded data removed]",
      "text/plain": [
       "<Figure size 1000x300 with 1 Axes>"
      ]
     },
     "metadata": {},
     "output_type": "display_data"
    },
    {
     "data": {
      "image/png": "[encoded data removed]",
      "text/plain": [
       "<Figure size 1000x300 with 1 Axes>"
      ]
     },
     "metadata": {},
     "output_type": "display_data"
    }
   ],
   "source": [
    "predict('Lukas')\n",
    "predict('Karl')"
   ]
  }
 ],
 "metadata": {
  "kernelspec": {
   "display_name": "Python 3 (ipykernel)",
   "language": "python",
   "name": "python3"
  },
  "language_info": {
   "codemirror_mode": {
    "name": "ipython",
    "version": 3
   },
   "file_extension": ".py",
   "mimetype": "text/x-python",
   "name": "python",
   "nbconvert_exporter": "python",
   "pygments_lexer": "ipython3",
   "version": "3.9.13"
  },
  "vscode": {
   "interpreter": {
    "hash": "6cb73f00f1a79ec5219b7e12c58ad4323a36ced5025dd310652da15eabb4d3c9"
   }
  }
 },
 "nbformat": 4,
 "nbformat_minor": 2
}
