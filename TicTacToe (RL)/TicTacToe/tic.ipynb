{
 "cells": [
  {
   "cell_type": "code",
   "execution_count": 46,
   "metadata": {},
   "outputs": [],
   "source": [
    "import numpy as np\n",
    "import random\n",
    "from matplotlib import pyplot as plt\n",
    "from tqdm import trange"
   ]
  },
  {
   "cell_type": "code",
   "execution_count": 47,
   "metadata": {},
   "outputs": [],
   "source": [
    "def game_over(game_board):\n",
    "    if np.max(np.sum(game_board, axis=1)) == 3:\n",
    "        return True, 1\n",
    "\n",
    "    elif np.max(np.sum(game_board, axis=0)) == 3:\n",
    "        return True, 1\n",
    "    \n",
    "    elif np.trace(game_board) == 3:\n",
    "        return True, 1\n",
    "\n",
    "    elif np.min(np.sum(game_board, axis=1)) == -3:\n",
    "        return True, -1\n",
    "\n",
    "    elif np.min(np.sum(game_board, axis=0)) == -3:\n",
    "        return True, -1\n",
    "\n",
    "    elif np.trace(game_board) == -3:\n",
    "        return True, -1\n",
    "    \n",
    "    elif np.count_nonzero(game_board) == 9:\n",
    "        return True, 0\n",
    "\n",
    "    return False , 0"
   ]
  },
  {
   "cell_type": "code",
   "execution_count": 1,
   "metadata": {},
   "outputs": [],
   "source": [
    "class AI:\n",
    "    def __init__(self, epsilon, player, learning_rate):\n",
    "        self.q_table = {}\n",
    "        self.epsilon = epsilon\n",
    "        self.learning_rate = learning_rate\n",
    "        self.player = player\n",
    "\n",
    "    def q_table_update(self, board_state):\n",
    "        if len(self.q_table[0]) == 0:\n",
    "            self.q_table[0].append(board_state)\n",
    "            self.q_table[1].append(self.possible_moves(board_state))\n",
    "            return 0\n",
    "\n",
    "        for i in range(len(self.q_table[0])):\n",
    "            if np.array_equal(self.q_table[0][i], board_state):\n",
    "                return i\n",
    "            else:\n",
    "                self.q_table[0].append(board_state)\n",
    "                self.q_table[1].append(self.possible_moves(board_state))\n",
    "                return i+1\n",
    "\n",
    "    def possible_moves(self, board_state):\n",
    "        moves = []\n",
    "        for i in range(3):\n",
    "            for j in range(3):\n",
    "                if board_state[i][j] == 0:\n",
    "                    moves.append(0)\n",
    "                else:\n",
    "                    moves.append(-100)#'NaN')\n",
    "        possible_moves = np.array([[moves[0],moves[1],moves[2]],[moves[3],moves[4],moves[5]],[moves[6],moves[7],moves[8]]], dtype = float)\n",
    "        return possible_moves\n",
    "\n",
    "    def possible_random_moves(self, board_state):\n",
    "        moves = []\n",
    "        for i in range(3):\n",
    "            for j in range(3):\n",
    "                if board_state[i][j] != -100:\n",
    "                    moves.append(3*i + j)\n",
    "        return moves\n",
    "\n",
    "    def move(self, board_state, state):\n",
    "        if random.random() < self.epsilon: \n",
    "            return np.argmax(self.q_table[1][state])\n",
    "        else:\n",
    "            return random.choice(self.possible_random_moves(self.q_table[1][state]))\n",
    "\n",
    "    def update_reward(self, old_state, new_board_state, move, game_over, result):\n",
    "\n",
    "        if game_over:\n",
    "            #print('Game Over')\n",
    "            delta = self.q_table[1][old_state].flatten()[move] + self.learning_rate * (self.q_table[1][old_state].flatten()[move] + result - self.q_table[1][old_state].flatten()[move])\n",
    "            #print(delta)\n",
    "        else:\n",
    "            for i in range(len(self.q_table[0])):\n",
    "                if np.array_equal(self.q_table[0][i], new_board_state):\n",
    "                    #print('Exist')\n",
    "                    delta = self.q_table[1][old_state].flatten()[move] + self.learning_rate * (self.q_table[1][old_state].flatten()[move] + self.q_table[1][i].flatten()[move] - self.q_table[1][old_state].flatten()[move])\n",
    "                else:\n",
    "                    #print('Dont exist')\n",
    "                    delta = self.q_table[1][old_state].flatten()[move] + self.learning_rate * (self.q_table[1][old_state].flatten()[move] + 0 - self.q_table[1][old_state].flatten()[move])\n",
    "              \n",
    "        #print('move', move)\n",
    "        temp = self.q_table[1][old_state].flatten()\n",
    "        temp[move] = delta\n",
    "        #print(delta)\n",
    "        #print('delta', delta)\n",
    "        self.q_table[1][old_state] = temp.reshape((3,3))\n",
    "        #print(self.q_table[1][old_state])"
   ]
  },
  {
   "cell_type": "code",
   "execution_count": 49,
   "metadata": {},
   "outputs": [],
   "source": [
    "class tictactoe:\n",
    "    def __init__(self):\n",
    "        self.board_state = np.zeros((3,3), dtype=int)\n",
    "\n",
    "    def get_board_state(self):\n",
    "        return self.board_state\n",
    "    \n",
    "    def update_board_state(self, move, player):\n",
    "        temp = self.board_state.flatten()\n",
    "        temp[move] = player\n",
    "        self.board_state = temp.reshape((3,3))"
   ]
  },
  {
   "cell_type": "code",
   "execution_count": 50,
   "metadata": {},
   "outputs": [],
   "source": [
    "def training_round(player1, player2):\n",
    "\n",
    "    board = tictactoe()\n",
    "    \n",
    "    # Get the board_state\n",
    "    board_state = board.get_board_state()\n",
    "\n",
    "    first = False\n",
    "    game_status = False\n",
    "    \n",
    "    win1, win2 , draw = 0, 0, 0\n",
    "\n",
    "    while True:\n",
    "\n",
    "        # Update player1 q_table with the board_state and return the state\n",
    "        state1 = player1.q_table_update(board_state)\n",
    "\n",
    "        # Make a epislon move and return the move\n",
    "        move1 = player1.move(board_state, state1)\n",
    "\n",
    "        # Update the board_state\n",
    "        board.update_board_state(move1, player1.player)\n",
    "\n",
    "        # Get the board_state\n",
    "        board_state = board.get_board_state()\n",
    "       \n",
    "        game_status, result = game_over(board_state)\n",
    "        \n",
    "        if first:\n",
    "            player2.update_reward(state2, board_state, move2, game_status, -result)\n",
    "\n",
    "        first == True\n",
    "\n",
    "        if game_status:\n",
    "            player1.update_reward(state1, board_state, move1, game_status, result)\n",
    "            if result == 1:\n",
    "                win1 = 1\n",
    "                return win1, win2, draw\n",
    "            if result == -1:\n",
    "                win2 = 1\n",
    "                return win1, win2, draw\n",
    "            if result == 0:\n",
    "                draw = 1\n",
    "                return win1, win2, draw\n",
    "\n",
    "\n",
    "        # Update player2 q_table with the board_state and return the state\n",
    "        state2 = player2.q_table_update(board_state)\n",
    "        \n",
    "        # Make a epislon move and return the move\n",
    "        move2 = player2.move(board_state, state2)\n",
    "\n",
    "        # Update the board_state\n",
    "        board.update_board_state(move2, player2.player)\n",
    "\n",
    "        # Get the board_state\n",
    "        board_state = board.get_board_state()\n",
    "\n",
    "        game_status, result = game_over(board_state)\n",
    "\n",
    "        player1.update_reward(state1, board_state, move1, game_status, result)\n",
    "\n",
    "        if game_status:\n",
    "            player2.update_reward(state2, board_state, move2, game_status, -result)\n",
    "            if result == 1:\n",
    "                win1 = 1\n",
    "                return win1, win2, draw\n",
    "            if result == -1:\n",
    "                win2 = 1\n",
    "                return win1, win2, draw\n",
    "            if result == 0:\n",
    "                draw = 1\n",
    "                return win1, win2, draw"
   ]
  },
  {
   "cell_type": "code",
   "execution_count": 59,
   "metadata": {},
   "outputs": [
    {
     "name": "stdout",
     "output_type": "stream",
     "text": [
      "0\n",
      "100\n",
      "200\n",
      "300\n",
      "400\n"
     ]
    }
   ],
   "source": [
    "np.set_printoptions(suppress=True)\n",
    "\n",
    "\n",
    "board = tictactoe()\n",
    "\n",
    "player1 = AI(epsilon = epsilon, player = 1, learning_rate = learning_rate)\n",
    "player2 = AI(epsilon = epsilon, player = -1, learning_rate = learning_rate)\n",
    "\n",
    "win_1 = []\n",
    "win_2 = []\n",
    "draws = []\n",
    "\n",
    "n_games = 500\n",
    "for i in trange(n_games):\n",
    "    win1, win2, draw = training_round(player1, player2)\n",
    "    win_1.append(win1)\n",
    "    win_2.append(win2)\n",
    "    draws.append(draw)\n",
    "\n"
   ]
  },
  {
   "cell_type": "code",
   "execution_count": 52,
   "metadata": {},
   "outputs": [
    {
     "name": "stdout",
     "output_type": "stream",
     "text": [
      "50 0 0\n"
     ]
    },
    {
     "data": {
      "image/png": "[encoded data removed]",
      "text/plain": [
       "<Figure size 640x480 with 1 Axes>"
      ]
     },
     "metadata": {},
     "output_type": "display_data"
    }
   ],
   "source": [
    "print(np.sum(win_1), np.sum(win_2), np.sum(draws))\n",
    "\n",
    "win_rate_1 = np.mean(np.array(win_1).reshape(-1, int(n_games/5)), axis = 1)\n",
    "win_rate_2 = np.mean(np.array(win_2).reshape(-1, int(n_games/5)), axis = 1)\n",
    "win_rate_draw = np.mean(np.array(draws).reshape(-1, int(n_games/5)), axis = 1)\n",
    "\n",
    "plt.plot(win_rate_1, label = 'First Player')\n",
    "plt.plot(win_rate_2, label = 'Second Player')\n",
    "plt.plot(win_rate_draw, label = 'Draw')\n",
    "plt.legend()\n",
    "plt.show()"
   ]
  },
  {
   "cell_type": "code",
   "execution_count": 53,
   "metadata": {},
   "outputs": [
    {
     "data": {
      "text/plain": [
       "130"
      ]
     },
     "execution_count": 53,
     "metadata": {},
     "output_type": "execute_result"
    }
   ],
   "source": [
    "len(player1.q_table[1])"
   ]
  },
  {
   "cell_type": "code",
   "execution_count": 60,
   "metadata": {},
   "outputs": [
    {
     "data": {
      "text/plain": [
       "array([[-250. ,  -68.4, -100. ],\n",
       "       [-100. , -100. , -100. ],\n",
       "       [-100. , -100. , -100. ]])"
      ]
     },
     "execution_count": 60,
     "metadata": {},
     "output_type": "execute_result"
    }
   ],
   "source": [
    "player1.q_table[1][0]"
   ]
  },
  {
   "cell_type": "code",
   "execution_count": 58,
   "metadata": {},
   "outputs": [
    {
     "data": {
      "text/plain": [
       "array([[ 1, -1,  1],\n",
       "       [ 0,  0,  0],\n",
       "       [ 0,  0,  0]])"
      ]
     },
     "execution_count": 58,
     "metadata": {},
     "output_type": "execute_result"
    }
   ],
   "source": [
    "player1.q_table[0][0]\n"
   ]
  },
  {
   "cell_type": "code",
   "execution_count": 56,
   "metadata": {},
   "outputs": [],
   "source": [
    "#np.savetxt(\"win_1.csv\", player1.q_table[1], fmt='%s')"
   ]
  }
 ],
 "metadata": {
  "kernelspec": {
   "display_name": "Python 3.9.13 ('dml')",
   "language": "python",
   "name": "python3"
  },
  "language_info": {
   "codemirror_mode": {
    "name": "ipython",
    "version": 3
   },
   "file_extension": ".py",
   "mimetype": "text/x-python",
   "name": "python",
   "nbconvert_exporter": "python",
   "pygments_lexer": "ipython3",
   "version": "3.9.13"
  },
  "orig_nbformat": 4,
  "vscode": {
   "interpreter": {
    "hash": "6cb73f00f1a79ec5219b7e12c58ad4323a36ced5025dd310652da15eabb4d3c9"
   }
  }
 },
 "nbformat": 4,
 "nbformat_minor": 2
}
